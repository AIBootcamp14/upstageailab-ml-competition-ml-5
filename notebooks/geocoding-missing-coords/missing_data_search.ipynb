{
 "cells": [
  {
   "cell_type": "code",
   "execution_count": 1,
   "id": "443c1803",
   "metadata": {},
   "outputs": [
    {
     "name": "stderr",
     "output_type": "stream",
     "text": [
      "/tmp/ipykernel_116280/3932298492.py:4: DtypeWarning: Columns (16,17,35) have mixed types. Specify dtype option on import or set low_memory=False.\n",
      "  train_df = pd.read_csv('../../data/raw/train.csv')\n"
     ]
    }
   ],
   "source": [
    "import pandas as pd\n",
    "\n",
    "# 데이터 불러오기\n",
    "train_df = pd.read_csv('../../data/raw/train.csv')\n",
    "test_df = pd.read_csv('../../data/raw/test.csv')"
   ]
  },
  {
   "cell_type": "code",
   "execution_count": null,
   "id": "8a46f066",
   "metadata": {},
<<<<<<< HEAD
   "outputs": [
    {
     "name": "stderr",
     "output_type": "stream",
     "text": [
      "/tmp/ipykernel_97099/1074569204.py:4: DtypeWarning: Columns (16,17,36) have mixed types. Specify dtype option on import or set low_memory=False.\n",
      "  train_df = pd.read_csv('../../data/raw/train_original.csv')\n"
     ]
    },
    {
     "data": {
      "application/vnd.microsoft.datawrangler.viewer.v0+json": {
       "columns": [
        {
         "name": "index",
         "rawType": "object",
         "type": "string"
        },
        {
         "name": "결측치 개수",
         "rawType": "int64",
         "type": "integer"
        },
        {
         "name": "결측치 비율(%)",
         "rawType": "float64",
         "type": "float"
        }
       ],
       "ref": "2564fd9c-ea45-4a19-9c0f-55e994cfa3e1",
       "rows": [
        [
         "k-135㎡초과",
         "1118495",
         "99.97"
        ],
        [
         "해제사유발생일",
         "1112839",
         "99.47"
        ],
        [
         "k-등록일자",
         "1107832",
         "99.02"
        ],
        [
         "단지소개기존clob",
         "1050240",
         "93.87"
        ],
        [
         "k-홈페이지",
         "1005647",
         "89.88"
        ],
        [
         "고용보험관리번호",
         "913304",
         "81.63"
        ],
        [
         "세대전기계약방법",
         "878747",
         "78.54"
        ],
        [
         "k-팩스번호",
         "872742",
         "78.01"
        ],
        [
         "청소비관리형태",
         "871178",
         "77.87"
        ],
        [
         "k-시행사",
         "871254",
         "77.87"
        ],
        [
         "경비비관리형태",
         "870988",
         "77.85"
        ],
        [
         "k-건설사(시공사)",
         "871058",
         "77.85"
        ],
        [
         "k-단지분류(아파트,주상복합등등)",
         "870691",
         "77.82"
        ],
        [
         "k-전체동수",
         "870630",
         "77.82"
        ],
        [
         "단지승인일",
         "870286",
         "77.79"
        ],
        [
         "k-전화번호",
         "870274",
         "77.78"
        ],
        [
         "k-복도유형",
         "869890",
         "77.75"
        ],
        [
         "k-전용면적별세대현황(60㎡~85㎡이하)",
         "869608",
         "77.73"
        ],
        [
         "좌표Y",
         "869670",
         "77.73"
        ],
        [
         "좌표X",
         "869670",
         "77.73"
        ],
        [
         "k-수정일자",
         "869608",
         "77.73"
        ],
        [
         "k-85㎡~135㎡이하",
         "869608",
         "77.73"
        ],
        [
         "k-전용면적별세대현황(60㎡이하)",
         "869608",
         "77.73"
        ],
        [
         "건축면적",
         "869714",
         "77.73"
        ],
        [
         "k-주거전용면적",
         "869608",
         "77.73"
        ],
        [
         "주차대수",
         "869714",
         "77.73"
        ],
        [
         "k-사용검사일-사용승인일",
         "869696",
         "77.73"
        ],
        [
         "단지신청일",
         "869625",
         "77.73"
        ],
        [
         "관리비 업로드",
         "869563",
         "77.72"
        ],
        [
         "사용허가여부",
         "869563",
         "77.72"
        ],
        [
         "기타/의무/임대/임의=1/2/3/4",
         "869563",
         "77.72"
        ],
        [
         "k-관리비부과면적",
         "869563",
         "77.72"
        ],
        [
         "k-연면적",
         "869563",
         "77.72"
        ],
        [
         "k-전체세대수",
         "869563",
         "77.72"
        ],
        [
         "k-난방방식",
         "869563",
         "77.72"
        ],
        [
         "k-관리방식",
         "869563",
         "77.72"
        ],
        [
         "k-세대타입(분양형태)",
         "869563",
         "77.72"
        ],
        [
         "아파트명",
         "2126",
         "0.19"
        ],
        [
         "번지",
         "225",
         "0.02"
        ],
        [
         "본번",
         "75",
         "0.01"
        ],
        [
         "부번",
         "75",
         "0.01"
        ]
       ],
       "shape": {
        "columns": 2,
        "rows": 41
       }
      },
      "text/html": [
       "<div>\n",
       "<style scoped>\n",
       "    .dataframe tbody tr th:only-of-type {\n",
       "        vertical-align: middle;\n",
       "    }\n",
       "\n",
       "    .dataframe tbody tr th {\n",
       "        vertical-align: top;\n",
       "    }\n",
       "\n",
       "    .dataframe thead th {\n",
       "        text-align: right;\n",
       "    }\n",
       "</style>\n",
       "<table border=\"1\" class=\"dataframe\">\n",
       "  <thead>\n",
       "    <tr style=\"text-align: right;\">\n",
       "      <th></th>\n",
       "      <th>결측치 개수</th>\n",
       "      <th>결측치 비율(%)</th>\n",
       "    </tr>\n",
       "  </thead>\n",
       "  <tbody>\n",
       "    <tr>\n",
       "      <th>k-135㎡초과</th>\n",
       "      <td>1118495</td>\n",
       "      <td>99.97</td>\n",
       "    </tr>\n",
       "    <tr>\n",
       "      <th>해제사유발생일</th>\n",
       "      <td>1112839</td>\n",
       "      <td>99.47</td>\n",
       "    </tr>\n",
       "    <tr>\n",
       "      <th>k-등록일자</th>\n",
       "      <td>1107832</td>\n",
       "      <td>99.02</td>\n",
       "    </tr>\n",
       "    <tr>\n",
       "      <th>단지소개기존clob</th>\n",
       "      <td>1050240</td>\n",
       "      <td>93.87</td>\n",
       "    </tr>\n",
       "    <tr>\n",
       "      <th>k-홈페이지</th>\n",
       "      <td>1005647</td>\n",
       "      <td>89.88</td>\n",
       "    </tr>\n",
       "    <tr>\n",
       "      <th>고용보험관리번호</th>\n",
       "      <td>913304</td>\n",
       "      <td>81.63</td>\n",
       "    </tr>\n",
       "    <tr>\n",
       "      <th>세대전기계약방법</th>\n",
       "      <td>878747</td>\n",
       "      <td>78.54</td>\n",
       "    </tr>\n",
       "    <tr>\n",
       "      <th>k-팩스번호</th>\n",
       "      <td>872742</td>\n",
       "      <td>78.01</td>\n",
       "    </tr>\n",
       "    <tr>\n",
       "      <th>청소비관리형태</th>\n",
       "      <td>871178</td>\n",
       "      <td>77.87</td>\n",
       "    </tr>\n",
       "    <tr>\n",
       "      <th>k-시행사</th>\n",
       "      <td>871254</td>\n",
       "      <td>77.87</td>\n",
       "    </tr>\n",
       "    <tr>\n",
       "      <th>경비비관리형태</th>\n",
       "      <td>870988</td>\n",
       "      <td>77.85</td>\n",
       "    </tr>\n",
       "    <tr>\n",
       "      <th>k-건설사(시공사)</th>\n",
       "      <td>871058</td>\n",
       "      <td>77.85</td>\n",
       "    </tr>\n",
       "    <tr>\n",
       "      <th>k-단지분류(아파트,주상복합등등)</th>\n",
       "      <td>870691</td>\n",
       "      <td>77.82</td>\n",
       "    </tr>\n",
       "    <tr>\n",
       "      <th>k-전체동수</th>\n",
       "      <td>870630</td>\n",
       "      <td>77.82</td>\n",
       "    </tr>\n",
       "    <tr>\n",
       "      <th>단지승인일</th>\n",
       "      <td>870286</td>\n",
       "      <td>77.79</td>\n",
       "    </tr>\n",
       "    <tr>\n",
       "      <th>k-전화번호</th>\n",
       "      <td>870274</td>\n",
       "      <td>77.78</td>\n",
       "    </tr>\n",
       "    <tr>\n",
       "      <th>k-복도유형</th>\n",
       "      <td>869890</td>\n",
       "      <td>77.75</td>\n",
       "    </tr>\n",
       "    <tr>\n",
       "      <th>k-전용면적별세대현황(60㎡~85㎡이하)</th>\n",
       "      <td>869608</td>\n",
       "      <td>77.73</td>\n",
       "    </tr>\n",
       "    <tr>\n",
       "      <th>좌표Y</th>\n",
       "      <td>869670</td>\n",
       "      <td>77.73</td>\n",
       "    </tr>\n",
       "    <tr>\n",
       "      <th>좌표X</th>\n",
       "      <td>869670</td>\n",
       "      <td>77.73</td>\n",
       "    </tr>\n",
       "    <tr>\n",
       "      <th>k-수정일자</th>\n",
       "      <td>869608</td>\n",
       "      <td>77.73</td>\n",
       "    </tr>\n",
       "    <tr>\n",
       "      <th>k-85㎡~135㎡이하</th>\n",
       "      <td>869608</td>\n",
       "      <td>77.73</td>\n",
       "    </tr>\n",
       "    <tr>\n",
       "      <th>k-전용면적별세대현황(60㎡이하)</th>\n",
       "      <td>869608</td>\n",
       "      <td>77.73</td>\n",
       "    </tr>\n",
       "    <tr>\n",
       "      <th>건축면적</th>\n",
       "      <td>869714</td>\n",
       "      <td>77.73</td>\n",
       "    </tr>\n",
       "    <tr>\n",
       "      <th>k-주거전용면적</th>\n",
       "      <td>869608</td>\n",
       "      <td>77.73</td>\n",
       "    </tr>\n",
       "    <tr>\n",
       "      <th>주차대수</th>\n",
       "      <td>869714</td>\n",
       "      <td>77.73</td>\n",
       "    </tr>\n",
       "    <tr>\n",
       "      <th>k-사용검사일-사용승인일</th>\n",
       "      <td>869696</td>\n",
       "      <td>77.73</td>\n",
       "    </tr>\n",
       "    <tr>\n",
       "      <th>단지신청일</th>\n",
       "      <td>869625</td>\n",
       "      <td>77.73</td>\n",
       "    </tr>\n",
       "    <tr>\n",
       "      <th>관리비 업로드</th>\n",
       "      <td>869563</td>\n",
       "      <td>77.72</td>\n",
       "    </tr>\n",
       "    <tr>\n",
       "      <th>사용허가여부</th>\n",
       "      <td>869563</td>\n",
       "      <td>77.72</td>\n",
       "    </tr>\n",
       "    <tr>\n",
       "      <th>기타/의무/임대/임의=1/2/3/4</th>\n",
       "      <td>869563</td>\n",
       "      <td>77.72</td>\n",
       "    </tr>\n",
       "    <tr>\n",
       "      <th>k-관리비부과면적</th>\n",
       "      <td>869563</td>\n",
       "      <td>77.72</td>\n",
       "    </tr>\n",
       "    <tr>\n",
       "      <th>k-연면적</th>\n",
       "      <td>869563</td>\n",
       "      <td>77.72</td>\n",
       "    </tr>\n",
       "    <tr>\n",
       "      <th>k-전체세대수</th>\n",
       "      <td>869563</td>\n",
       "      <td>77.72</td>\n",
       "    </tr>\n",
       "    <tr>\n",
       "      <th>k-난방방식</th>\n",
       "      <td>869563</td>\n",
       "      <td>77.72</td>\n",
       "    </tr>\n",
       "    <tr>\n",
       "      <th>k-관리방식</th>\n",
       "      <td>869563</td>\n",
       "      <td>77.72</td>\n",
       "    </tr>\n",
       "    <tr>\n",
       "      <th>k-세대타입(분양형태)</th>\n",
       "      <td>869563</td>\n",
       "      <td>77.72</td>\n",
       "    </tr>\n",
       "    <tr>\n",
       "      <th>아파트명</th>\n",
       "      <td>2126</td>\n",
       "      <td>0.19</td>\n",
       "    </tr>\n",
       "    <tr>\n",
       "      <th>번지</th>\n",
       "      <td>225</td>\n",
       "      <td>0.02</td>\n",
       "    </tr>\n",
       "    <tr>\n",
       "      <th>본번</th>\n",
       "      <td>75</td>\n",
       "      <td>0.01</td>\n",
       "    </tr>\n",
       "    <tr>\n",
       "      <th>부번</th>\n",
       "      <td>75</td>\n",
       "      <td>0.01</td>\n",
       "    </tr>\n",
       "  </tbody>\n",
       "</table>\n",
       "</div>"
      ],
      "text/plain": [
       "                         결측치 개수  결측치 비율(%)\n",
       "k-135㎡초과                1118495      99.97\n",
       "해제사유발생일                 1112839      99.47\n",
       "k-등록일자                  1107832      99.02\n",
       "단지소개기존clob              1050240      93.87\n",
       "k-홈페이지                  1005647      89.88\n",
       "고용보험관리번호                 913304      81.63\n",
       "세대전기계약방법                 878747      78.54\n",
       "k-팩스번호                   872742      78.01\n",
       "청소비관리형태                  871178      77.87\n",
       "k-시행사                    871254      77.87\n",
       "경비비관리형태                  870988      77.85\n",
       "k-건설사(시공사)               871058      77.85\n",
       "k-단지분류(아파트,주상복합등등)       870691      77.82\n",
       "k-전체동수                   870630      77.82\n",
       "단지승인일                    870286      77.79\n",
       "k-전화번호                   870274      77.78\n",
       "k-복도유형                   869890      77.75\n",
       "k-전용면적별세대현황(60㎡~85㎡이하)   869608      77.73\n",
       "좌표Y                      869670      77.73\n",
       "좌표X                      869670      77.73\n",
       "k-수정일자                   869608      77.73\n",
       "k-85㎡~135㎡이하             869608      77.73\n",
       "k-전용면적별세대현황(60㎡이하)       869608      77.73\n",
       "건축면적                     869714      77.73\n",
       "k-주거전용면적                 869608      77.73\n",
       "주차대수                     869714      77.73\n",
       "k-사용검사일-사용승인일            869696      77.73\n",
       "단지신청일                    869625      77.73\n",
       "관리비 업로드                  869563      77.72\n",
       "사용허가여부                   869563      77.72\n",
       "기타/의무/임대/임의=1/2/3/4      869563      77.72\n",
       "k-관리비부과면적                869563      77.72\n",
       "k-연면적                    869563      77.72\n",
       "k-전체세대수                  869563      77.72\n",
       "k-난방방식                   869563      77.72\n",
       "k-관리방식                   869563      77.72\n",
       "k-세대타입(분양형태)             869563      77.72\n",
       "아파트명                       2126       0.19\n",
       "번지                          225       0.02\n",
       "본번                           75       0.01\n",
       "부번                           75       0.01"
      ]
     },
     "metadata": {},
     "output_type": "display_data"
    },
    {
     "data": {
      "application/vnd.microsoft.datawrangler.viewer.v0+json": {
       "columns": [
        {
         "name": "index",
         "rawType": "object",
         "type": "string"
        },
        {
         "name": "결측치 개수",
         "rawType": "int64",
         "type": "integer"
        },
        {
         "name": "결측치 비율(%)",
         "rawType": "float64",
         "type": "float"
        }
       ],
       "ref": "954e9f04-9649-4b06-94f7-6bd4dc79e6a6",
       "rows": [
        [
         "k-135㎡초과",
         "9270",
         "99.98"
        ],
        [
         "해제사유발생일",
         "9060",
         "97.71"
        ],
        [
         "단지소개기존clob",
         "8718",
         "94.03"
        ],
        [
         "k-등록일자",
         "8554",
         "92.26"
        ],
        [
         "k-홈페이지",
         "7876",
         "84.94"
        ],
        [
         "고용보험관리번호",
         "7453",
         "80.38"
        ],
        [
         "세대전기계약방법",
         "6642",
         "71.64"
        ],
        [
         "k-팩스번호",
         "6606",
         "71.25"
        ],
        [
         "k-단지분류(아파트,주상복합등등)",
         "6582",
         "70.99"
        ],
        [
         "k-시행사",
         "6580",
         "70.97"
        ],
        [
         "k-건설사(시공사)",
         "6579",
         "70.96"
        ],
        [
         "k-전체동수",
         "6577",
         "70.93"
        ],
        [
         "k-전화번호",
         "6576",
         "70.92"
        ],
        [
         "청소비관리형태",
         "6573",
         "70.89"
        ],
        [
         "경비비관리형태",
         "6573",
         "70.89"
        ],
        [
         "단지승인일",
         "6568",
         "70.84"
        ],
        [
         "건축면적",
         "6565",
         "70.8"
        ],
        [
         "k-복도유형",
         "6564",
         "70.79"
        ],
        [
         "k-사용검사일-사용승인일",
         "6563",
         "70.78"
        ],
        [
         "주차대수",
         "6563",
         "70.78"
        ],
        [
         "기타/의무/임대/임의=1/2/3/4",
         "6562",
         "70.77"
        ],
        [
         "사용허가여부",
         "6562",
         "70.77"
        ],
        [
         "관리비 업로드",
         "6562",
         "70.77"
        ],
        [
         "좌표X",
         "6562",
         "70.77"
        ],
        [
         "좌표Y",
         "6562",
         "70.77"
        ],
        [
         "k-전용면적별세대현황(60㎡이하)",
         "6562",
         "70.77"
        ],
        [
         "단지신청일",
         "6562",
         "70.77"
        ],
        [
         "k-수정일자",
         "6562",
         "70.77"
        ],
        [
         "k-85㎡~135㎡이하",
         "6562",
         "70.77"
        ],
        [
         "k-전용면적별세대현황(60㎡~85㎡이하)",
         "6562",
         "70.77"
        ],
        [
         "k-관리비부과면적",
         "6562",
         "70.77"
        ],
        [
         "k-주거전용면적",
         "6562",
         "70.77"
        ],
        [
         "k-연면적",
         "6562",
         "70.77"
        ],
        [
         "k-전체세대수",
         "6562",
         "70.77"
        ],
        [
         "k-난방방식",
         "6562",
         "70.77"
        ],
        [
         "k-관리방식",
         "6562",
         "70.77"
        ],
        [
         "k-세대타입(분양형태)",
         "6562",
         "70.77"
        ],
        [
         "아파트명",
         "10",
         "0.11"
        ],
        [
         "번지",
         "2",
         "0.02"
        ]
       ],
       "shape": {
        "columns": 2,
        "rows": 39
       }
      },
      "text/html": [
       "<div>\n",
       "<style scoped>\n",
       "    .dataframe tbody tr th:only-of-type {\n",
       "        vertical-align: middle;\n",
       "    }\n",
       "\n",
       "    .dataframe tbody tr th {\n",
       "        vertical-align: top;\n",
       "    }\n",
       "\n",
       "    .dataframe thead th {\n",
       "        text-align: right;\n",
       "    }\n",
       "</style>\n",
       "<table border=\"1\" class=\"dataframe\">\n",
       "  <thead>\n",
       "    <tr style=\"text-align: right;\">\n",
       "      <th></th>\n",
       "      <th>결측치 개수</th>\n",
       "      <th>결측치 비율(%)</th>\n",
       "    </tr>\n",
       "  </thead>\n",
       "  <tbody>\n",
       "    <tr>\n",
       "      <th>k-135㎡초과</th>\n",
       "      <td>9270</td>\n",
       "      <td>99.98</td>\n",
       "    </tr>\n",
       "    <tr>\n",
       "      <th>해제사유발생일</th>\n",
       "      <td>9060</td>\n",
       "      <td>97.71</td>\n",
       "    </tr>\n",
       "    <tr>\n",
       "      <th>단지소개기존clob</th>\n",
       "      <td>8718</td>\n",
       "      <td>94.03</td>\n",
       "    </tr>\n",
       "    <tr>\n",
       "      <th>k-등록일자</th>\n",
       "      <td>8554</td>\n",
       "      <td>92.26</td>\n",
       "    </tr>\n",
       "    <tr>\n",
       "      <th>k-홈페이지</th>\n",
       "      <td>7876</td>\n",
       "      <td>84.94</td>\n",
       "    </tr>\n",
       "    <tr>\n",
       "      <th>고용보험관리번호</th>\n",
       "      <td>7453</td>\n",
       "      <td>80.38</td>\n",
       "    </tr>\n",
       "    <tr>\n",
       "      <th>세대전기계약방법</th>\n",
       "      <td>6642</td>\n",
       "      <td>71.64</td>\n",
       "    </tr>\n",
       "    <tr>\n",
       "      <th>k-팩스번호</th>\n",
       "      <td>6606</td>\n",
       "      <td>71.25</td>\n",
       "    </tr>\n",
       "    <tr>\n",
       "      <th>k-단지분류(아파트,주상복합등등)</th>\n",
       "      <td>6582</td>\n",
       "      <td>70.99</td>\n",
       "    </tr>\n",
       "    <tr>\n",
       "      <th>k-시행사</th>\n",
       "      <td>6580</td>\n",
       "      <td>70.97</td>\n",
       "    </tr>\n",
       "    <tr>\n",
       "      <th>k-건설사(시공사)</th>\n",
       "      <td>6579</td>\n",
       "      <td>70.96</td>\n",
       "    </tr>\n",
       "    <tr>\n",
       "      <th>k-전체동수</th>\n",
       "      <td>6577</td>\n",
       "      <td>70.93</td>\n",
       "    </tr>\n",
       "    <tr>\n",
       "      <th>k-전화번호</th>\n",
       "      <td>6576</td>\n",
       "      <td>70.92</td>\n",
       "    </tr>\n",
       "    <tr>\n",
       "      <th>청소비관리형태</th>\n",
       "      <td>6573</td>\n",
       "      <td>70.89</td>\n",
       "    </tr>\n",
       "    <tr>\n",
       "      <th>경비비관리형태</th>\n",
       "      <td>6573</td>\n",
       "      <td>70.89</td>\n",
       "    </tr>\n",
       "    <tr>\n",
       "      <th>단지승인일</th>\n",
       "      <td>6568</td>\n",
       "      <td>70.84</td>\n",
       "    </tr>\n",
       "    <tr>\n",
       "      <th>건축면적</th>\n",
       "      <td>6565</td>\n",
       "      <td>70.80</td>\n",
       "    </tr>\n",
       "    <tr>\n",
       "      <th>k-복도유형</th>\n",
       "      <td>6564</td>\n",
       "      <td>70.79</td>\n",
       "    </tr>\n",
       "    <tr>\n",
       "      <th>k-사용검사일-사용승인일</th>\n",
       "      <td>6563</td>\n",
       "      <td>70.78</td>\n",
       "    </tr>\n",
       "    <tr>\n",
       "      <th>주차대수</th>\n",
       "      <td>6563</td>\n",
       "      <td>70.78</td>\n",
       "    </tr>\n",
       "    <tr>\n",
       "      <th>기타/의무/임대/임의=1/2/3/4</th>\n",
       "      <td>6562</td>\n",
       "      <td>70.77</td>\n",
       "    </tr>\n",
       "    <tr>\n",
       "      <th>사용허가여부</th>\n",
       "      <td>6562</td>\n",
       "      <td>70.77</td>\n",
       "    </tr>\n",
       "    <tr>\n",
       "      <th>관리비 업로드</th>\n",
       "      <td>6562</td>\n",
       "      <td>70.77</td>\n",
       "    </tr>\n",
       "    <tr>\n",
       "      <th>좌표X</th>\n",
       "      <td>6562</td>\n",
       "      <td>70.77</td>\n",
       "    </tr>\n",
       "    <tr>\n",
       "      <th>좌표Y</th>\n",
       "      <td>6562</td>\n",
       "      <td>70.77</td>\n",
       "    </tr>\n",
       "    <tr>\n",
       "      <th>k-전용면적별세대현황(60㎡이하)</th>\n",
       "      <td>6562</td>\n",
       "      <td>70.77</td>\n",
       "    </tr>\n",
       "    <tr>\n",
       "      <th>단지신청일</th>\n",
       "      <td>6562</td>\n",
       "      <td>70.77</td>\n",
       "    </tr>\n",
       "    <tr>\n",
       "      <th>k-수정일자</th>\n",
       "      <td>6562</td>\n",
       "      <td>70.77</td>\n",
       "    </tr>\n",
       "    <tr>\n",
       "      <th>k-85㎡~135㎡이하</th>\n",
       "      <td>6562</td>\n",
       "      <td>70.77</td>\n",
       "    </tr>\n",
       "    <tr>\n",
       "      <th>k-전용면적별세대현황(60㎡~85㎡이하)</th>\n",
       "      <td>6562</td>\n",
       "      <td>70.77</td>\n",
       "    </tr>\n",
       "    <tr>\n",
       "      <th>k-관리비부과면적</th>\n",
       "      <td>6562</td>\n",
       "      <td>70.77</td>\n",
       "    </tr>\n",
       "    <tr>\n",
       "      <th>k-주거전용면적</th>\n",
       "      <td>6562</td>\n",
       "      <td>70.77</td>\n",
       "    </tr>\n",
       "    <tr>\n",
       "      <th>k-연면적</th>\n",
       "      <td>6562</td>\n",
       "      <td>70.77</td>\n",
       "    </tr>\n",
       "    <tr>\n",
       "      <th>k-전체세대수</th>\n",
       "      <td>6562</td>\n",
       "      <td>70.77</td>\n",
       "    </tr>\n",
       "    <tr>\n",
       "      <th>k-난방방식</th>\n",
       "      <td>6562</td>\n",
       "      <td>70.77</td>\n",
       "    </tr>\n",
       "    <tr>\n",
       "      <th>k-관리방식</th>\n",
       "      <td>6562</td>\n",
       "      <td>70.77</td>\n",
       "    </tr>\n",
       "    <tr>\n",
       "      <th>k-세대타입(분양형태)</th>\n",
       "      <td>6562</td>\n",
       "      <td>70.77</td>\n",
       "    </tr>\n",
       "    <tr>\n",
       "      <th>아파트명</th>\n",
       "      <td>10</td>\n",
       "      <td>0.11</td>\n",
       "    </tr>\n",
       "    <tr>\n",
       "      <th>번지</th>\n",
       "      <td>2</td>\n",
       "      <td>0.02</td>\n",
       "    </tr>\n",
       "  </tbody>\n",
       "</table>\n",
       "</div>"
      ],
      "text/plain": [
       "                        결측치 개수  결측치 비율(%)\n",
       "k-135㎡초과                  9270      99.98\n",
       "해제사유발생일                   9060      97.71\n",
       "단지소개기존clob                8718      94.03\n",
       "k-등록일자                    8554      92.26\n",
       "k-홈페이지                    7876      84.94\n",
       "고용보험관리번호                  7453      80.38\n",
       "세대전기계약방법                  6642      71.64\n",
       "k-팩스번호                    6606      71.25\n",
       "k-단지분류(아파트,주상복합등등)        6582      70.99\n",
       "k-시행사                     6580      70.97\n",
       "k-건설사(시공사)                6579      70.96\n",
       "k-전체동수                    6577      70.93\n",
       "k-전화번호                    6576      70.92\n",
       "청소비관리형태                   6573      70.89\n",
       "경비비관리형태                   6573      70.89\n",
       "단지승인일                     6568      70.84\n",
       "건축면적                      6565      70.80\n",
       "k-복도유형                    6564      70.79\n",
       "k-사용검사일-사용승인일             6563      70.78\n",
       "주차대수                      6563      70.78\n",
       "기타/의무/임대/임의=1/2/3/4       6562      70.77\n",
       "사용허가여부                    6562      70.77\n",
       "관리비 업로드                   6562      70.77\n",
       "좌표X                       6562      70.77\n",
       "좌표Y                       6562      70.77\n",
       "k-전용면적별세대현황(60㎡이하)        6562      70.77\n",
       "단지신청일                     6562      70.77\n",
       "k-수정일자                    6562      70.77\n",
       "k-85㎡~135㎡이하              6562      70.77\n",
       "k-전용면적별세대현황(60㎡~85㎡이하)    6562      70.77\n",
       "k-관리비부과면적                 6562      70.77\n",
       "k-주거전용면적                  6562      70.77\n",
       "k-연면적                     6562      70.77\n",
       "k-전체세대수                   6562      70.77\n",
       "k-난방방식                    6562      70.77\n",
       "k-관리방식                    6562      70.77\n",
       "k-세대타입(분양형태)              6562      70.77\n",
       "아파트명                        10       0.11\n",
       "번지                           2       0.02"
      ]
     },
     "metadata": {},
     "output_type": "display_data"
    }
   ],
   "source": [
    "import pandas as pd\n",
    "\n",
    "# 데이터 불러오기\n",
    "train_df = pd.read_csv('../../data/raw/train_original.csv')\n",
    "test_df = pd.read_csv('../../data/raw/test_original.csv')\n",
    "\n",
    "# train에 존재하는 모든 컬럼들의 결측치 개수 및 비율 계산\n",
    "n_rows = len(train_df)\n",
=======
   "outputs": [],
   "source": [
    "# train 전체 행 개수\n",
    "n_rows = len(train_df)\n",
    "\n",
    "# train에 존재하는 모든 컬럼들의 결측치 개수 및 비율 계산\n",
>>>>>>> aabb52f7f46a15aeafec2a35a79392fb457251b6
    "train_missing = train_df.isnull().sum()\n",
    "train_missing = train_missing[train_missing > 0]\n",
    "train_missing_percent = (train_missing / n_rows * 100).round(2)\n",
    "\n",
    "# 결과 표 만들기\n",
<<<<<<< HEAD
    "train_result = pd.DataFrame({\n",
    "    '결측치 개수': train_missing,\n",
    "    '결측치 비율(%)': train_missing_percent\n",
    "}).sort_values(by='결측치 비율(%)', ascending=False)\n",
    "display(train_result)\n",
    "\n",
    "train_result.to_csv('../../data/processed/geocoding/train_missing_summary.csv', encoding='utf-8-sig')\n",
    "\n",
    "# test에 존재하는 모든 컬럼들의 결측치 개수 및 비율 계산\n",
    "n_rows = len(test_df)\n",
    "test_missing = test_df.isnull().sum()\n",
    "test_missing = test_missing[test_missing > 0]\n",
    "test_missing_percent = (test_missing / n_rows * 100).round(2)\n",
    "\n",
    "# 결과 표 만들기\n",
    "test_result = pd.DataFrame({\n",
    "    '결측치 개수': test_missing,\n",
    "    '결측치 비율(%)': test_missing_percent\n",
    "}).sort_values(by='결측치 비율(%)', ascending=False)\n",
    "display(test_result)\n",
    "\n",
    "test_result.to_csv('../../data/processed/geocoding/test_missing_summary.csv', encoding='utf-8-sig')"
=======
    "result = pd.DataFrame({\n",
    "    '결측치 개수': train_missing,\n",
    "    '결측치 비율(%)': train_missing_percent\n",
    "}).sort_values(by='결측치 비율(%)', ascending=False)\n",
    "\n",
    "display(result)\n",
    "\n",
    "# 만약 파일로 저장하고 싶으면 아래 코드 추가\n",
    "#result.to_csv('../data/processed/train_missing_summary.csv', encoding='utf-8-sig')"
>>>>>>> aabb52f7f46a15aeafec2a35a79392fb457251b6
   ]
  },
  {
   "cell_type": "code",
   "execution_count": null,
   "id": "d22d3ad3",
   "metadata": {},
   "outputs": [],
   "source": [
    "# 좌표X 또는 좌표Y에 결측치가 있는 행 필터링\n",
    "missing_coords = train_df[train_df['좌표X'].isnull() | train_df['좌표Y'].isnull()]\n",
    "missing_coords = test_df[test_df['좌표X'].isnull() | test_df['좌표Y'].isnull()]\n",
    "\n",
    "# 좌표에 결측치가 있는 행들 출력\n",
    "display(missing_coords)"
   ]
  },
  {
   "cell_type": "code",
   "execution_count": 8,
   "id": "8c9fc4ce",
   "metadata": {},
   "outputs": [
    {
     "name": "stderr",
     "output_type": "stream",
     "text": [
      "/tmp/ipykernel_116280/730267939.py:4: DtypeWarning: Columns (16,17,35) have mixed types. Specify dtype option on import or set low_memory=False.\n",
      "  train_df = pd.read_csv('../../data/processed/price-prediction/train_final.csv')\n"
     ]
    },
    {
     "name": "stdout",
     "output_type": "stream",
     "text": [
      "✅ Train 데이터의 파생 피처에는 결측치가 없습니다.\n",
      "✅ Test 데이터의 파생 피처에는 결측치가 없습니다.\n"
     ]
    }
   ],
   "source": [
    "import pandas as pd\n",
    "\n",
    "# 데이터 불러오기\n",
    "train_df = pd.read_csv('../../data/processed/price-prediction/train_final.csv')\n",
    "test_df = pd.read_csv('../../data/processed/price-prediction/test_final.csv')\n",
    "\n",
    "# 확인할 파생 피처 컬럼 목록\n",
    "transport_cols = [\n",
    "    '지하철최단거리',\n",
    "    '반경_1km_지하철역_수',\n",
    "    '반경_500m_지하철역_수',\n",
    "    '반경_300m_지하철역_수',\n",
    "    '버스최단거리',\n",
    "    '반경_1km_버스정류장_수',\n",
    "    '반경_500m_버스정류장_수',\n",
    "    '반경_300m_버스정류장_수'\n",
    "]\n",
    "\n",
    "# --- Train 데이터프레임 확인 ---\n",
    "# transport_cols 중 하나라도 결측치가 있는 행을 찾음\n",
    "missing_train_df = train_df[train_df[transport_cols].isnull().any(axis=1)]\n",
    "\n",
    "if not missing_train_df.empty:\n",
    "    print(\"⚠️ Train 데이터의 파생 피처에서 결측치가 발견되었습니다.\")\n",
    "    display(missing_train_df)\n",
    "else:\n",
    "    print(\"✅ Train 데이터의 파생 피처에는 결측치가 없습니다.\")\n",
    "\n",
    "\n",
    "# --- Test 데이터프레임 확인 ---\n",
    "# transport_cols 중 하나라도 결측치가 있는 행을 찾음\n",
    "missing_test_df = test_df[test_df[transport_cols].isnull().any(axis=1)]\n",
    "\n",
    "if not missing_test_df.empty:\n",
    "    print(\"⚠️ Test 데이터의 파생 피처에서 결측치가 발견되었습니다.\")\n",
    "    display(missing_test_df)\n",
    "else:\n",
    "    print(\"✅ Test 데이터의 파생 피처에는 결측치가 없습니다.\")"
   ]
  },
  {
   "cell_type": "code",
   "execution_count": null,
   "id": "6de95bb9",
   "metadata": {},
   "outputs": [],
   "source": [
    "# 도로명/번지 관련 컬럼만 추출\n",
    "target_cols = ['도로명', '번지', '본번', '부번']\n",
    "\n",
    "# 결측치 개수 및 비율 계산\n",
    "missing = train_df[target_cols].isnull().sum()\n",
    "missing_percent = (missing / n_rows * 100).round(2)\n",
    "\n",
    "# 결과 표 만들기\n",
    "result = pd.DataFrame({\n",
    "    '결측치 개수': missing,\n",
    "    '결측치 비율(%)': missing_percent\n",
    "})\n",
    "\n",
    "display(result)\n",
    "\n",
    "# 파일로 저장 (선택사항)\n",
    "result.to_csv('../data/processed/train_road_missing_summary.csv', encoding='utf-8-sig')"
   ]
  }
 ],
 "metadata": {
  "kernelspec": {
   "display_name": "house_price_predict_py3_11_9",
   "language": "python",
   "name": "python3"
  },
  "language_info": {
   "codemirror_mode": {
    "name": "ipython",
    "version": 3
   },
   "file_extension": ".py",
   "mimetype": "text/x-python",
   "name": "python",
   "nbconvert_exporter": "python",
   "pygments_lexer": "ipython3",
   "version": "3.11.9"
  }
 },
 "nbformat": 4,
 "nbformat_minor": 5
}
