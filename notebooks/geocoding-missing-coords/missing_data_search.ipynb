{
 "cells": [
  {
   "cell_type": "code",
   "execution_count": 1,
   "id": "443c1803",
   "metadata": {},
   "outputs": [
    {
     "name": "stderr",
     "output_type": "stream",
     "text": [
      "/tmp/ipykernel_116280/3932298492.py:4: DtypeWarning: Columns (16,17,35) have mixed types. Specify dtype option on import or set low_memory=False.\n",
      "  train_df = pd.read_csv('../../data/raw/train.csv')\n"
     ]
    }
   ],
   "source": [
    "import pandas as pd\n",
    "\n",
    "# 데이터 불러오기\n",
    "train_df = pd.read_csv('../../data/raw/train.csv')\n",
    "test_df = pd.read_csv('../../data/raw/test.csv')"
   ]
  },
  {
   "cell_type": "code",
   "execution_count": null,
   "id": "8a46f066",
   "metadata": {},
   "outputs": [],
   "source": [
    "# train 전체 행 개수\n",
    "n_rows = len(train_df)\n",
    "\n",
    "# train에 존재하는 모든 컬럼들의 결측치 개수 및 비율 계산\n",
    "train_missing = train_df.isnull().sum()\n",
    "train_missing = train_missing[train_missing > 0]\n",
    "train_missing_percent = (train_missing / n_rows * 100).round(2)\n",
    "\n",
    "# 결과 표 만들기\n",
    "result = pd.DataFrame({\n",
    "    '결측치 개수': train_missing,\n",
    "    '결측치 비율(%)': train_missing_percent\n",
    "}).sort_values(by='결측치 비율(%)', ascending=False)\n",
    "\n",
    "display(result)\n",
    "\n",
    "# 만약 파일로 저장하고 싶으면 아래 코드 추가\n",
    "#result.to_csv('../data/processed/train_missing_summary.csv', encoding='utf-8-sig')"
   ]
  },
  {
   "cell_type": "code",
   "execution_count": null,
   "id": "d22d3ad3",
   "metadata": {},
   "outputs": [],
   "source": [
    "# 좌표X 또는 좌표Y에 결측치가 있는 행 필터링\n",
    "missing_coords = train_df[train_df['좌표X'].isnull() | train_df['좌표Y'].isnull()]\n",
    "missing_coords = test_df[test_df['좌표X'].isnull() | test_df['좌표Y'].isnull()]\n",
    "\n",
    "# 좌표에 결측치가 있는 행들 출력\n",
    "display(missing_coords)"
   ]
  },
  {
   "cell_type": "code",
   "execution_count": 8,
   "id": "8c9fc4ce",
   "metadata": {},
   "outputs": [
    {
     "name": "stderr",
     "output_type": "stream",
     "text": [
      "/tmp/ipykernel_116280/730267939.py:4: DtypeWarning: Columns (16,17,35) have mixed types. Specify dtype option on import or set low_memory=False.\n",
      "  train_df = pd.read_csv('../../data/processed/price-prediction/train_final.csv')\n"
     ]
    },
    {
     "name": "stdout",
     "output_type": "stream",
     "text": [
      "✅ Train 데이터의 파생 피처에는 결측치가 없습니다.\n",
      "✅ Test 데이터의 파생 피처에는 결측치가 없습니다.\n"
     ]
    }
   ],
   "source": [
    "import pandas as pd\n",
    "\n",
    "# 데이터 불러오기\n",
    "train_df = pd.read_csv('../../data/processed/price-prediction/train_final.csv')\n",
    "test_df = pd.read_csv('../../data/processed/price-prediction/test_final.csv')\n",
    "\n",
    "# 확인할 파생 피처 컬럼 목록\n",
    "transport_cols = [\n",
    "    '지하철최단거리',\n",
    "    '반경_1km_지하철역_수',\n",
    "    '반경_500m_지하철역_수',\n",
    "    '반경_300m_지하철역_수',\n",
    "    '버스최단거리',\n",
    "    '반경_1km_버스정류장_수',\n",
    "    '반경_500m_버스정류장_수',\n",
    "    '반경_300m_버스정류장_수'\n",
    "]\n",
    "\n",
    "# --- Train 데이터프레임 확인 ---\n",
    "# transport_cols 중 하나라도 결측치가 있는 행을 찾음\n",
    "missing_train_df = train_df[train_df[transport_cols].isnull().any(axis=1)]\n",
    "\n",
    "if not missing_train_df.empty:\n",
    "    print(\"⚠️ Train 데이터의 파생 피처에서 결측치가 발견되었습니다.\")\n",
    "    display(missing_train_df)\n",
    "else:\n",
    "    print(\"✅ Train 데이터의 파생 피처에는 결측치가 없습니다.\")\n",
    "\n",
    "\n",
    "# --- Test 데이터프레임 확인 ---\n",
    "# transport_cols 중 하나라도 결측치가 있는 행을 찾음\n",
    "missing_test_df = test_df[test_df[transport_cols].isnull().any(axis=1)]\n",
    "\n",
    "if not missing_test_df.empty:\n",
    "    print(\"⚠️ Test 데이터의 파생 피처에서 결측치가 발견되었습니다.\")\n",
    "    display(missing_test_df)\n",
    "else:\n",
    "    print(\"✅ Test 데이터의 파생 피처에는 결측치가 없습니다.\")"
   ]
  },
  {
   "cell_type": "code",
   "execution_count": null,
   "id": "6de95bb9",
   "metadata": {},
   "outputs": [],
   "source": [
    "# 도로명/번지 관련 컬럼만 추출\n",
    "target_cols = ['도로명', '번지', '본번', '부번']\n",
    "\n",
    "# 결측치 개수 및 비율 계산\n",
    "missing = train_df[target_cols].isnull().sum()\n",
    "missing_percent = (missing / n_rows * 100).round(2)\n",
    "\n",
    "# 결과 표 만들기\n",
    "result = pd.DataFrame({\n",
    "    '결측치 개수': missing,\n",
    "    '결측치 비율(%)': missing_percent\n",
    "})\n",
    "\n",
    "display(result)\n",
    "\n",
    "# 파일로 저장 (선택사항)\n",
    "result.to_csv('../data/processed/train_road_missing_summary.csv', encoding='utf-8-sig')"
   ]
  }
 ],
 "metadata": {
  "kernelspec": {
   "display_name": "house_price_predict_py3_11_9",
   "language": "python",
   "name": "python3"
  },
  "language_info": {
   "codemirror_mode": {
    "name": "ipython",
    "version": 3
   },
   "file_extension": ".py",
   "mimetype": "text/x-python",
   "name": "python",
   "nbconvert_exporter": "python",
   "pygments_lexer": "ipython3",
   "version": "3.11.9"
  }
 },
 "nbformat": 4,
 "nbformat_minor": 5
}
