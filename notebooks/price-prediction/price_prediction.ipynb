{
 "cells": [
  {
   "cell_type": "code",
   "execution_count": null,
   "id": "c6280e21",
   "metadata": {},
<<<<<<< HEAD
   "outputs": [],
=======
   "outputs": [
    {
     "name": "stdout",
     "output_type": "stream",
     "text": [
      "E: Could not open lock file /var/lib/dpkg/lock-frontend - open (13: Permission denied)\n",
      "E: Unable to acquire the dpkg frontend lock (/var/lib/dpkg/lock-frontend), are you root?\n"
     ]
    }
   ],
>>>>>>> aabb52f7f46a15aeafec2a35a79392fb457251b6
   "source": [
    "# --- 1. 라이브러리 및 모듈 임포트 ---\n",
    "\n",
    "# 데이터 처리 라이브러리\n",
    "import pandas as pd\n",
    "import numpy as np\n",
    "\n",
    "# 데이터 시각화 라이브러리\n",
    "import matplotlib.pyplot as plt\n",
    "import seaborn as sns\n",
    "\n",
    "# 머신러닝 모델 및 평가 도구\n",
    "import lightgbm as lgb\n",
<<<<<<< HEAD
    "from sklearn.model_selection import (\n",
    "    train_test_split,\n",
    "    cross_val_score,\n",
    "    RandomizedSearchCV\n",
    ")\n",
    "from sklearn.preprocessing import LabelEncoder\n",
    "from sklearn.metrics import (\n",
    "    mean_squared_error,\n",
    "    mean_absolute_error,\n",
    "    r2_score\n",
    ")\n",
    "import joblib\n",
=======
    "from sklearn.model_selection import train_test_split\n",
    "from sklearn.preprocessing import LabelEncoder\n",
    "from sklearn.metrics import mean_squared_error\n",
>>>>>>> aabb52f7f46a15aeafec2a35a79392fb457251b6
    "\n",
    "# 변수 중요도 확인 및 모델 해석\n",
    "import eli5\n",
    "from eli5.sklearn import PermutationImportance\n",
    "\n",
    "# 시스템 및 경로 관련 라이브러리\n",
    "import sys\n",
    "import os\n",
    "from datetime import datetime\n",
    "import warnings\n",
    "\n",
    "# 경고 메시지 무시\n",
    "warnings.filterwarnings('ignore')\n",
    "\n",
<<<<<<< HEAD
    "import matplotlib.font_manager as fm\n",
    "\n",
=======
    "# 한글 폰트 설정 (baseline_code.ipynb 참고)\n",
    "# Colab 또는 로컬 환경에 맞게 경로를 설정해야 할 수 있습니다.\n",
    "import matplotlib.font_manager as fm\n",
>>>>>>> aabb52f7f46a15aeafec2a35a79392fb457251b6
    "try:\n",
    "    fe = fm.FontEntry(\n",
    "        fname=r'../../font/NanumFont/NanumGothic.ttf',\n",
    "        name='NanumGothic')\n",
    "    fm.fontManager.ttflist.insert(0, fe)\n",
    "    plt.rcParams.update({'font.size': 10, 'font.family': 'NanumGothic'})\n",
    "    plt.rc('font', family='NanumGothic')\n",
<<<<<<< HEAD
    "    \n",
=======
>>>>>>> aabb52f7f46a15aeafec2a35a79392fb457251b6
    "except FileNotFoundError:\n",
    "    print(\"나눔고딕 폰트를 찾을 수 없어 기본 폰트로 설정됩니다.\")\n",
    "    pass"
   ]
  },
  {
   "cell_type": "code",
   "execution_count": null,
   "id": "b163beac",
   "metadata": {},
<<<<<<< HEAD
   "outputs": [],
   "source": [
    "# --- 2. 경로 설정 및 커스텀 로거 임포트 ---\n",
    "\n",
    "try:\n",
    "    # 현재 노트북 파일의 위치를 기준으로 프로젝트 루트 경로를 설정합니다.\n",
=======
   "outputs": [
    {
     "name": "stdout",
     "output_type": "stream",
     "text": [
      "Logger 모듈 로드 성공.\n"
     ]
    }
   ],
   "source": [
    "# --- 2. 경로 설정 및 커스텀 로거 임포트 ---\n",
    "\n",
    "# 현재 노트북 파일의 위치를 기준으로 프로젝트 루트 경로를 설정합니다.\n",
    "# (예: notebooks 폴더에 있다면 ../../src 가 맞습니다)\n",
    "try:\n",
>>>>>>> aabb52f7f46a15aeafec2a35a79392fb457251b6
    "    src_path = os.path.abspath(os.path.join(os.getcwd(), \"../../src/log\"))\n",
    "    sys.path.insert(0, src_path)\n",
    "    from logger import Logger\n",
    "    print(\"Logger 모듈 로드 성공.\")\n",
    "    \n",
    "except ImportError:\n",
    "    print(\"[오류] Logger 모듈을 찾을 수 없습니다. src/log/logger.py 경로를 확인해주세요.\")\n",
    "    # Logger가 없어도 코드가 중단되지 않도록 임시 클래스 정의\n",
    "    class Logger:\n",
    "        def __init__(self, *args, **kwargs): pass\n",
    "        def write(self, message, **kwargs): print(message)"
   ]
  },
  {
   "cell_type": "code",
   "execution_count": null,
   "id": "ac30b43c",
   "metadata": {},
<<<<<<< HEAD
   "outputs": [],
=======
   "outputs": [
    {
     "name": "stdout",
     "output_type": "stream",
     "text": [
      "2025-07-14 08:07:15 | ==================================================\n",
      "2025-07-14 08:07:15 | >> 아파트 가격 예측 모델링 시작\n"
     ]
    }
   ],
>>>>>>> aabb52f7f46a15aeafec2a35a79392fb457251b6
   "source": [
    "# --- 3. 로거 및 경로 초기화 ---\n",
    "\n",
    "# 로그 파일이 저장될 경로 설정\n",
    "timestamp = datetime.now().strftime(\"%Y%m%d_%H%M%S\")\n",
<<<<<<< HEAD
    "LOG_DIR         = '../../data/logs/price_prediction_loges/price_prediction_1_logs'\n",
=======
    "LOG_DIR         = '../../data/logs/price_prediction_logs'\n",
>>>>>>> aabb52f7f46a15aeafec2a35a79392fb457251b6
    "LOG_FILENAME    = f\"price_prediction_{timestamp}.log\"\n",
    "LOG_PATH        = os.path.join(LOG_DIR, LOG_FILENAME)\n",
    "\n",
    "# Directory 생성\n",
    "os.makedirs(LOG_DIR, exist_ok=True)\n",
    "\n",
    "# Logger 인스턴스 생성\n",
    "logger = Logger(log_path=LOG_PATH)\n",
    "\n",
    "# 데이터 및 제출 파일 경로 설정\n",
    "SUBMISSION_DIR = '../../data/processed/submissions'\n",
    "SUBMISSION_FILENAME = 'price_prediction_submission.csv'\n",
    "SUBMISSION_PATH = os.path.join(SUBMISSION_DIR, SUBMISSION_FILENAME)\n",
    "\n",
<<<<<<< HEAD
    "# model 저장 경로 설정\n",
    "MODEL_DIR = '../../model'\n",
    "MODEL_FILENAME = 'final_price_model.pkl'\n",
    "MODEL_PATH = os.path.join(MODEL_DIR, MODEL_FILENAME)\n",
    "\n",
=======
>>>>>>> aabb52f7f46a15aeafec2a35a79392fb457251b6
    "logger.write(\"=\"*50)\n",
    "logger.write(\">> 아파트 가격 예측 모델링 시작\")"
   ]
  },
  {
   "cell_type": "code",
   "execution_count": null,
   "id": "38a77b4f",
   "metadata": {},
<<<<<<< HEAD
   "outputs": [],
   "source": [
    "# --- 4. 데이터 로드 (공통) ---\n",
    "\n",
    "logger.write(\">> 정제된 Train/Test 데이터를 로드합니다...\")\n",
    "\n",
=======
   "outputs": [
    {
     "name": "stdout",
     "output_type": "stream",
     "text": [
      "2025-07-14 08:07:15 | >> 정제된 Train/Test 데이터를 로드합니다...\n",
      "2025-07-14 08:07:16 | >> 데이터 로드 및 병합 완료.\n"
     ]
    }
   ],
   "source": [
    "# --- 4. 데이터 로드 ---\n",
    "\n",
    "logger.write(\">> 정제된 Train/Test 데이터를 로드합니다...\")\n",
>>>>>>> aabb52f7f46a15aeafec2a35a79392fb457251b6
    "try:\n",
    "    # 학습 데이터와 테스트 데이터를 각각 로드\n",
    "    train_df_clean = pd.read_csv('../../data/processed/cleaned_data/train_clean.csv')\n",
    "    test_df_clean = pd.read_csv('../../data/processed/cleaned_data/test_clean.csv')\n",
<<<<<<< HEAD
    "    logger.write(\">> Train/Test 데이터 로드 완료.\")\n",
=======
>>>>>>> aabb52f7f46a15aeafec2a35a79392fb457251b6
    "    \n",
    "    # 두 데이터를 합치기 전에 isTest 컬럼으로 구분\n",
    "    train_df_clean['isTest'] = 0\n",
    "    test_df_clean['isTest'] = 1\n",
    "    \n",
    "    # 하나의 데이터프레임으로 합침\n",
    "    df = pd.concat([train_df_clean, test_df_clean])\n",
    "    \n",
    "    logger.write(\">> 데이터 로드 및 병합 완료.\")\n",
    "    \n",
    "except FileNotFoundError:\n",
    "    logger.write(f\">> [오류] train_clean.csv 또는 test_clean.csv 파일을 찾을 수 없습니다.\", print_error=True)\n",
    "    df = None"
   ]
  },
  {
   "cell_type": "code",
<<<<<<< HEAD
   "execution_count": null,
   "id": "eda-combined",
   "metadata": {},
   "outputs": [],
   "source": [
    "# --- 5. EDA (탐색적 데이터 분석) ---\n",
    "\n",
    "logger.write(\">> EDA: 데이터 정보 및 통계 요약을 시작합니다...\")\n",
    "\n",
    "if df is not None:\n",
    "    # 데이터 정보 및 통계 요약 로그 기록\n",
    "    logger.write(\">> EDA: 데이터 정보 및 통계 요약\")\n",
    "    logger.write(f\"데이터 크기: {df.shape}\")\n",
    "    logger.write(f\"컬럼 목록: {df.columns.tolist()}\")\n",
    "    logger.write(f\"데이터 타입:\\n{df.dtypes}\")\n",
    "    stats = df.describe()\n",
    "    logger.write(f\"\\n통계 요약:\\n{stats}\")\n",
    "\n",
    "if train_df_clean is not None:\n",
    "    # 상관관계 히트맵\n",
    "    logger.write(\">> EDA: 상관관계 히트맵 시각화\")\n",
    "    plt.figure(figsize=(12, 10))\n",
    "    sns.heatmap(train_df_clean.corr(), annot=True, fmt=\".2f\", cmap='viridis')\n",
    "    plt.title('피처 상관관계')\n",
    "    plt.show()\n",
    "\n",
    "    # 전용면적 vs 가격 산점도\n",
    "    logger.write(\">> EDA: 전용면적 vs 가격 산점도 시각화\")\n",
    "    plt.figure(figsize=(8, 6))\n",
    "    sns.scatterplot(x='전용면적', y='target', data=train_df_clean, alpha=0.5)\n",
    "    plt.title('전용면적 vs 가격')\n",
    "    plt.show()\n",
    "\n",
    "    # 주요 변수 데이터 분포 시각화\n",
    "    logger.write(\">> EDA: 주요 변수 데이터 분포 시각화\")\n",
    "    plt.figure(figsize=(12, 6))\n",
    "    sns.boxplot(data=train_df_clean, x='target', color='skyblue')\n",
    "    plt.title('아파트 실거래가(Target) 분포')\n",
    "    plt.xlabel('가격')\n",
    "    plt.show()\n",
    "\n",
    "    plt.figure(figsize=(12, 6))\n",
    "    sns.boxplot(data=df, x='전용면적', color='lightgreen')\n",
    "    plt.title('전용면적 분포')\n",
    "    plt.xlabel('면적(㎡)')\n",
    "    plt.show()\n",
    "    logger.write(\">> EDA 완료\")"
   ]
  },
  {
   "cell_type": "code",
   "execution_count": null,
   "id": "feature-engineering-combined",
   "metadata": {},
   "outputs": [],
   "source": [
    "# --- 6. 피처 엔지니어링 (수정 및 강화) ---\n",
    "\n",
    "# 계약일자 관련 파생변수 생성\n",
    "def create_date_features(df):\n",
    "    df['계약일자'] = pd.to_datetime(df['계약일자'])\n",
    "    df['계약년'] = df['계약일자'].dt.year\n",
    "    df['계약월'] = df['계약일자'].dt.month\n",
    "    df['계약분기'] = df['계약일자'].dt.quarter\n",
    "    df.drop(columns=['계약일자'], inplace=True)\n",
    "    return df\n",
    "\n",
    "train_df_clean = create_date_features(train_df_clean)\n",
    "test_df_clean = create_date_features(test_df_clean)\n",
    "\n",
    "\n",
    "# 기타 파생변수 생성\n",
    "def create_other_features(df):\n",
    "    df['신축여부'] = (df['연식'] <= 10).astype(int)\n",
    "    \n",
    "    traffic_cols = [\n",
    "        '지하철최단거리', '반경_1km_지하철역_수', '반경_500m_지하철역_수', '반경_300m_지하철역_수',\n",
    "        '버스최단거리', '반경_1km_버스정류장_수', '반경_500m_버스정류장_수', '반경_300m_버스정류장_수'\n",
    "    ]\n",
    "    for col in traffic_cols:\n",
    "        df[col] = pd.to_numeric(df[col], errors='coerce').fillna(0)\n",
    "    return df\n",
    "\n",
    "train_df_clean = create_other_features(train_df_clean)\n",
    "test_df_clean = create_other_features(test_df_clean)\n",
    "\n",
    "# --- 💡 데이터 누수(Data Leakage)를 방지하는 통계 피처 생성 ---\n",
    "# 학습 데이터(train_df_clean)에서만 통계량을 계산하고, 테스트 데이터에 병합합니다.\n",
    "# 이렇게 하면 테스트 데이터의 정보가 학습에 사용되는 것을 막을 수 있습니다.\n",
    "\n",
    "# 자치구별 평균 가격 및 거래량\n",
    "sigungu_stats = train_df_clean.groupby('자치구')['target'].agg(['mean', 'count']).reset_index()\n",
    "sigungu_stats.columns = ['자치구', '자치구별_평균가격', '자치구별_거래량']\n",
    "\n",
    "# 학습 및 테스트 데이터에 통계 피처 병합\n",
    "train_df_clean = pd.merge(train_df_clean, sigungu_stats, on='자치구', how='left')\n",
    "test_df_clean = pd.merge(test_df_clean, sigungu_stats, on='자치구', how='left')\n",
    "\n",
    "# 테스트 데이터에만 존재할 수 있는 '자치구'의 NA 값 처리\n",
    "test_df_clean.fillna(train_df_clean.mean(numeric_only=True), inplace=True)"
   ]
  },
  {
   "cell_type": "code",
   "execution_count": null,
   "id": "45dd8b97",
   "metadata": {},
   "outputs": [],
   "source": [
    "# --- 6-1. 고급 특성 공학 추가 ---\n",
    "\n",
    "if df is not None:\n",
    "    try:\n",
    "        logger.write(\">> 고급 특성 공학을 시작합니다...\")\n",
    "\n",
    "        # 위치(자치구) 기반 통계 특성 생성\n",
    "        sigungu_stats = df.groupby('자치구')['target'].agg(['mean','std','count']).reset_index()\n",
    "        sigungu_stats.columns = ['자치구','자치구별_평균가격','자치구별_가격편차','자치구별_거래량']\n",
    "        df = pd.merge(df, sigungu_stats, on='자치구', how='left')\n",
    "\n",
    "        # NA값 채우기 (테스트 데이터에만 존재할 수 있는 자치구 처리)\n",
    "        df['자치구별_가격편차'].fillna(0, inplace=True)\n",
    "        # 훈련 데이터 전체 평균으로 NA 값 채우기\n",
    "        mean_price = df['자치구별_평균가격'].mean()\n",
    "        df['자치구별_평균가격'].fillna(mean_price, inplace=True)\n",
    "        mean_volume = df['자치구별_거래량'].mean()\n",
    "        df['자치구별_거래량'].fillna(mean_volume, inplace=True)\n",
    "\n",
    "\n",
    "        # 상호작용 특성 생성\n",
    "        df['면적_x_연식'] = df['전용면적'] * df['연식']\n",
    "        df['면적_x_층'] = df['전용면적'] * df['층']\n",
    "\n",
    "        logger.write(\">> 고급 특성 공학 완료.\")\n",
    "        logger.write(f\">> 추가된 컬럼: {['자치구별_평균가격', '자치구별_가격편차', '자치구별_거래량', '면적_x_연식', '면적_x_층']}\")\n",
    "\n",
    "    except Exception as e:\n",
    "        logger.write(f\">> [오류] 고급 특성 공학 중 문제 발생: {e}\", print_error=True)"
=======
   "execution_count": 63,
   "id": "266f817b",
   "metadata": {},
   "outputs": [
    {
     "name": "stdout",
     "output_type": "stream",
     "text": [
      "2025-07-14 08:07:16 | >> 주요 변수 데이터 분포 시각화를 시작합니다...\n"
     ]
    },
    {
     "data": {
      "image/png": "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",
      "text/plain": [
       "<Figure size 1200x600 with 1 Axes>"
      ]
     },
     "metadata": {},
     "output_type": "display_data"
    },
    {
     "data": {
      "image/png": "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",
      "text/plain": [
       "<Figure size 1200x600 with 1 Axes>"
      ]
     },
     "metadata": {},
     "output_type": "display_data"
    }
   ],
   "source": [
    "# --- 5. 데이터 시각화 ---\n",
    "if df is not None:\n",
    "    try:\n",
    "        logger.write(\">> 주요 변수 데이터 분포 시각화를 시작합니다...\")\n",
    "        plt.figure(figsize=(12, 6))\n",
    "        sns.boxplot(data=train_df_clean, x='target', color='skyblue')\n",
    "        plt.title('아파트 실거래가(Target) 분포')\n",
    "        plt.xlabel('가격')\n",
    "        plt.show()\n",
    "\n",
    "        plt.figure(figsize=(12, 6))\n",
    "        sns.boxplot(data=df, x='전용면적', color='lightgreen') # 컬럼명 수정\n",
    "        plt.title('전용면적 분포')\n",
    "        plt.xlabel('면적(㎡)')\n",
    "        plt.show()\n",
    "    except Exception as e:\n",
    "        logger.write(f\">> [오류] 데이터 시각화 중 문제 발생: {e}\", print_error=True)"
   ]
  },
  {
   "cell_type": "code",
   "execution_count": 64,
   "id": "d58ddf5f",
   "metadata": {},
   "outputs": [
    {
     "name": "stdout",
     "output_type": "stream",
     "text": [
      "2025-07-14 08:07:17 | >> 특성 공학을 통해 파생 변수를 생성합니다...\n",
      "2025-07-14 08:07:18 | >> 파생 변수 생성 및 데이터 타입 변환 완료.\n"
     ]
    }
   ],
   "source": [
    "# --- 6. 특성 공학 (Feature Engineering) (수정된 부분) ---\n",
    "\n",
    "if df is not None:\n",
    "    try:\n",
    "        logger.write(\">> 특성 공학을 통해 파생 변수를 생성합니다...\")\n",
    "        \n",
    "        # 1. '신축여부' 파생변수 생성 (연식 컬럼 활용)\n",
    "        # 연식 10년 이하를 신축으로 판단 (기준은 조절 가능)\n",
    "        df['신축여부'] = df['연식'].apply(lambda x: 1 if x <= 10 else 0)\n",
    "\n",
    "        # 2. 교통 관련 변수들을 올바른 숫자형으로 변환\n",
    "        traffic_cols = [\n",
    "            '지하철최단거리', '반경_1km_지하철역_수', '반경_500m_지하철역_수', \n",
    "            '반경_300m_지하철역_수', '버스최단거리', '반경_1km_버스정류장_수',\n",
    "            '반경_500m_버스정류장_수', '반경_300m_버스정류장_수'\n",
    "        ]\n",
    "        for col in traffic_cols:\n",
    "            df[col] = pd.to_numeric(df[col], errors='coerce').fillna(0)\n",
    "            \n",
    "            if '_수' in col:\n",
    "                df[col] = df[col].astype(int)\n",
    "\n",
    "        logger.write(\">> 파생 변수 생성 및 데이터 타입 변환 완료.\")\n",
    "        \n",
    "    except Exception as e:\n",
    "        logger.write(f\">> [오류] 특성 공학 중 문제 발생: {e}\", print_error=True)"
>>>>>>> aabb52f7f46a15aeafec2a35a79392fb457251b6
   ]
  },
  {
   "cell_type": "code",
   "execution_count": null,
<<<<<<< HEAD
   "id": "dfce09a5-merged",
   "metadata": {},
   "outputs": [],
   "source": [
    "# --- 7. 피처 선택 및 데이터 분리 (공통) ---\n",
    "\n",
    "logger.write(\">> 피처 선택 및 데이터 분리를 시작합니다...\")\n",
    "\n",
    "if df is not None:\n",
    "    try:\n",
    "        # 1. Train/Test 데이터 분리\n",
    "        train_df = df[df['isTest']==0].drop('isTest',axis=1).copy()\n",
    "        test_df  = df[df['isTest']==1].drop('isTest',axis=1).copy()\n",
    "        logger.write(\">> Train/Test 데이터 분리 완료.\")\n",
    "\n",
    "        # 2. (✨✨핵심 수정✨✨) X,y 분리 전, train_df의 결측치/무한대 값 처리\n",
    "        # 이 작업을 통해 피처와 타겟의 샘플 수가 완벽하게 일치하게 됩니다.\n",
    "        initial_rows = len(train_df)\n",
    "        train_df.replace([np.inf, -np.inf], np.nan, inplace=True) # 무한대 값을 NaN으로 변경\n",
    "        train_df.dropna(inplace=True) # NaN이 포함된 행 전체 제거\n",
    "        logger.write(f\">> train_df 정제 완료: {initial_rows - len(train_df)}개 행 제거됨. 최종 {len(train_df)}개 행 사용.\")\n",
    "\n",
    "        # 테스트 데이터의 결측치는 예측을 위해 특정 값으로 채우는 것이 일반적입니다.\n",
    "        test_df.replace([np.inf, -np.inf], np.nan, inplace=True)\n",
    "        test_df.fillna(0, inplace=True) # 0으로 채우거나 다른 전략 사용 가능\n",
    "\n",
    "        # 3. 정제된 데이터프레임에서 피처(X)와 타겟(y) 최종 정의\n",
    "        features = [col for col in train_df.columns if col not in ['target', 'id', '아파트이름']]\n",
    "\n",
    "        # 4) 학습용·예측용 데이터 준비\n",
    "        X_train_raw = train_df[features]\n",
    "        y_train     = train_df['target'] # 정제된 train_df에서 생성하므로 행의 개수가 일치함\n",
    "        X_test_raw  = test_df[features]\n",
    "\n",
    "        # 5) 범주형 피처 자동 탐지\n",
=======
   "id": "dfce09a5",
   "metadata": {},
   "outputs": [
    {
     "name": "stdout",
     "output_type": "stream",
     "text": [
      "2025-07-14 08:07:19 | >> Train/Test 데이터 분리 완료.\n",
      "2025-07-14 08:07:19 | >> 예측에 사용할 피처 개수: 29개\n",
      "2025-07-14 08:07:19 | >> 범주형 피처: ['계약일자', '자치구', '법정동', '브랜드등급']\n"
     ]
    }
   ],
   "source": [
    "# --- 7. 피처 선택 및 데이터 분리 ---\n",
    "\n",
    "if df is not None:\n",
    "    try:\n",
    "        # isTest 컬럼을 사용해 train/test 데이터 분리\n",
    "        train_df = df[df['isTest'] == 0].copy()\n",
    "        test_df = df[df['isTest'] == 1].copy()\n",
    "        \n",
    "        # isTest 컬럼은 더 이상 필요 없으므로 제거\n",
    "        train_df = train_df.drop('isTest', axis=1)\n",
    "        test_df = test_df.drop('isTest', axis=1)\n",
    "        \n",
    "        logger.write(\">> Train/Test 데이터 분리 완료.\")\n",
    "\n",
    "        # 예측에 사용할 피처(X)와 타겟(y) 정의\n",
    "        features = [col for col in train_df.columns if col != 'target']\n",
    "        \n",
    "        X_train_raw = train_df[features]\n",
    "        y_train = train_df['target']\n",
    "        X_test_raw = test_df[features]\n",
    "\n",
    "        # 범주형(object) 피처 자동 탐지\n",
>>>>>>> aabb52f7f46a15aeafec2a35a79392fb457251b6
    "        categorical_features = X_train_raw.select_dtypes(include=['object']).columns.tolist()\n",
    "        \n",
    "        logger.write(f\">> 예측에 사용할 피처 개수: {len(features)}개\")\n",
    "        logger.write(f\">> 범주형 피처: {categorical_features}\")\n",
<<<<<<< HEAD
    "\n",
=======
    "        \n",
>>>>>>> aabb52f7f46a15aeafec2a35a79392fb457251b6
    "    except Exception as e:\n",
    "        logger.write(f\">> [오류] 피처 선택 및 데이터 분리 중 문제 발생: {e}\", print_error=True)"
   ]
  },
  {
   "cell_type": "code",
   "execution_count": null,
<<<<<<< HEAD
   "id": "d64a5936-merged",
   "metadata": {},
   "outputs": [],
   "source": [
    "# --- 8. 범주형 피처 Label Encoding (price_prediction2.ipynb 방식으로 강화) ---\n",
    "\n",
    "if 'X_train_raw' in locals():\n",
    "    try:\n",
    "        label_encoders = {}\n",
    "        for col in categorical_features:\n",
    "            le = LabelEncoder()\n",
    "            # Train과 Test 데이터 전체의 값을 사용하여 fit\n",
    "            all_vals = pd.concat([X_train_raw[col], X_test_raw[col]]).astype(str).unique()\n",
    "            le.fit(all_vals)\n",
    "            X_train_raw[col] = le.transform(X_train_raw[col].astype(str))\n",
    "            X_test_raw[col]  = le.transform(X_test_raw[col].astype(str))\n",
    "            label_encoders[col] = le\n",
    "            \n",
    "        logger.write(\">> 범주형 Label Encoding 완료.\")\n",
    "        \n",
    "    except Exception as e:\n",
    "        logger.write(f\">> [오류] Label Encoding 중 문제 발생: {e}\", print_error=True)"
=======
   "id": "d64a5936",
   "metadata": {},
   "outputs": [
    {
     "name": "stdout",
     "output_type": "stream",
     "text": [
      "2025-07-14 08:07:19 | >> 범주형 피처 Label Encoding 완료.\n"
     ]
    }
   ],
   "source": [
    "# --- 8. 범주형 피처 인코딩 ---\n",
    "\n",
    "if 'X_train_raw' in locals():\n",
    "    try:\n",
    "        # LabelEncoder를 사용하여 각 범주형 피처를 수치로 변환\n",
    "        label_encoders = {}\n",
    "        for col in categorical_features:\n",
    "            le = LabelEncoder()\n",
    "            all_categories = pd.concat([X_train_raw[col], X_test_raw[col]]).astype(str).unique()\n",
    "            le.fit(all_categories)\n",
    "            \n",
    "            X_train_raw[col] = le.transform(X_train_raw[col].astype(str))\n",
    "            X_test_raw[col] = le.transform(X_test_raw[col].astype(str))\n",
    "            label_encoders[col] = le\n",
    "            \n",
    "        logger.write(\">> 범주형 피처 Label Encoding 완료.\")\n",
    "        \n",
    "    except Exception as e:\n",
    "        logger.write(f\">> [오류] 범주형 피처 인코딩 중 문제 발생: {e}\", print_error=True)"
>>>>>>> aabb52f7f46a15aeafec2a35a79392fb457251b6
   ]
  },
  {
   "cell_type": "code",
<<<<<<< HEAD
   "execution_count": null,
   "id": "e9bf52c5-merged",
   "metadata": {},
   "outputs": [],
   "source": [
    "# --- 9. 모델 학습 및 기본 평가  ---\n",
    "\n",
    "if 'X_train_raw' in locals():\n",
    "    # 표준 출력을 로그 파일로 리디렉션 시작\n",
    "    logger.start_redirect()\n",
    "    \n",
=======
   "execution_count": 67,
   "id": "e9bf52c5",
   "metadata": {},
   "outputs": [
    {
     "name": "stdout",
     "output_type": "stream",
     "text": [
      "2025-07-14 08:07:19 | >> LightGBM 모델 학습을 시작합니다...\n",
      "[LightGBM] [Info] Auto-choosing row-wise multi-threading, the overhead of testing was 0.010197 seconds.\n",
      "You can set `force_row_wise=true` to remove the overhead.\n",
      "And if memory is not enough, you can set `force_col_wise=true`.\n",
      "[LightGBM] [Info] Total Bins 3046\n",
      "[LightGBM] [Info] Number of data points in the train set: 878273, number of used features: 29\n",
      "[LightGBM] [Info] Start training from score 57582.439147\n",
      "2025-07-14 08:07:21 | >> 모델 학습 완료. Validation RMSE: 12586.1118\n",
      "2025-07-14 08:07:21 | >> Permutation Importance를 계산합니다...\n",
      "2025-07-14 08:07:30 | >> Permutation Importance 계산 완료.\n"
     ]
    },
    {
     "data": {
      "image/png": "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",
      "text/plain": [
       "<Figure size 1200x1000 with 1 Axes>"
      ]
     },
     "metadata": {},
     "output_type": "display_data"
    }
   ],
   "source": [
    "# --- 9. 모델 학습 및 평가 (개선된 부분) ---\n",
    "\n",
    "if 'X_train_raw' in locals():\n",
>>>>>>> aabb52f7f46a15aeafec2a35a79392fb457251b6
    "    try:\n",
    "        X_train, X_val, y_train_split, y_val_split = train_test_split(\n",
    "            X_train_raw, y_train, test_size=0.2, random_state=42\n",
    "        )\n",
    "\n",
<<<<<<< HEAD
    "        logger.write(\">> LightGBM 모델 학습 시작\")\n",
    "        lgbm = lgb.LGBMRegressor(device='cuda', random_state=42)\n",
    "        lgbm.fit(X_train, y_train_split)\n",
    "        y_pred = lgbm.predict(X_val)\n",
    "\n",
    "        # price_prediction2.ipynb의 다양한 평가지표 추가\n",
    "        rmse = np.sqrt(mean_squared_error(y_val_split, y_pred))\n",
    "        mae  = mean_absolute_error(y_val_split, y_pred)\n",
    "        r2   = r2_score(y_val_split, y_pred)\n",
    "        logger.write(f\">> 모델 학습 완료. Validation RMSE: {rmse:.4f}, MAE: {mae:.4f}, R2: {r2:.4f}\")\n",
    "\n",
    "        # 잔차 분포 시각화 (price_prediction2.ipynb에서 추가)\n",
    "        residuals = y_val_split - y_pred\n",
    "        plt.figure(figsize=(8,6))\n",
    "        sns.histplot(residuals, kde=True)\n",
    "        plt.title('잔차 분포')\n",
    "        plt.show()\n",
    "\n",
    "        # 실제 vs 예측 산점도 (price_prediction2.ipynb에서 추가)\n",
    "        plt.figure(figsize=(8,6))\n",
    "        plt.scatter(y_val_split, y_pred, alpha=0.5)\n",
    "        plt.plot([y_val_split.min(), y_val_split.max()],\n",
    "                 [y_val_split.min(), y_val_split.max()],\n",
    "                 'r--')\n",
    "        plt.title('실제 vs 예측')\n",
    "        plt.xlabel('Actual')\n",
    "        plt.ylabel('Predicted')\n",
    "        plt.show()\n",
    "\n",
    "    except Exception as e:\n",
    "        logger.write(f\">> [오류] 모델 학습/평가 중 문제 발생: {e}\", print_error=True)\n",
    "        \n",
    "    finally:\n",
    "        # 표준 출력을 원래대로 복구\n",
    "        logger.stop_redirect()"
=======
    "        logger.write(\">> LightGBM 모델 학습을 시작합니다...\")\n",
    "        lgbm = lgb.LGBMRegressor(random_state=42)\n",
    "        lgbm.fit(X_train, y_train_split)\n",
    "        y_pred = lgbm.predict(X_val)\n",
    "        rmse = np.sqrt(mean_squared_error(y_val_split, y_pred))\n",
    "        logger.write(f\">> 모델 학습 완료. Validation RMSE: {rmse:.4f}\")\n",
    "\n",
    "        logger.write(\">> Permutation Importance를 계산합니다...\")\n",
    "        perm = PermutationImportance(lgbm, scoring='neg_mean_squared_error', random_state=42, n_iter=3).fit(X_val, y_val_split)\n",
    "        logger.write(\">> Permutation Importance 계산 완료.\")\n",
    "        \n",
    "        # 결과를 DataFrame으로 변환\n",
    "        importance_df = pd.DataFrame({\n",
    "            'feature': X_val.columns,\n",
    "            'importance': perm.feature_importances_,\n",
    "            'std': perm.feature_importances_std_\n",
    "        }).sort_values(by='importance', ascending=False)\n",
    "        \n",
    "        # 상위 20개 변수만 시각화 (너무 많으면 보기 어려우므로)\n",
    "        top_n = 20\n",
    "        plt.figure(figsize=(12, 10))\n",
    "        sns.barplot(\n",
    "            x='importance', \n",
    "            y='feature', \n",
    "            data=importance_df.head(top_n), \n",
    "            xerr=importance_df.head(top_n)['std'],\n",
    "            palette='viridis'\n",
    "        )\n",
    "        plt.title(f'상위 {top_n}개 변수 중요도 (Permutation Importance)')\n",
    "        plt.xlabel('중요도 (Importance)')\n",
    "        plt.ylabel('특성 (Feature)')\n",
    "        plt.grid(True, axis='x', linestyle='--')\n",
    "        plt.show()\n",
    "        \n",
    "    except Exception as e:\n",
    "        logger.write(f\">> [오류] 모델 학습 및 평가 중 문제 발생: {e}\", print_error=True)"
>>>>>>> aabb52f7f46a15aeafec2a35a79392fb457251b6
   ]
  },
  {
   "cell_type": "code",
<<<<<<< HEAD
   "execution_count": null,
   "id": "permutation-importance",
   "metadata": {},
   "outputs": [],
   "source": [
    "# --- 10. 변수 중요도 분석 (Permutation Importance) (price_prediction.ipynb 내용 유지) ---\n",
    "\n",
    "if 'X_val' in locals():\n",
    "    logger.write(\">> Permutation Importance를 계산합니다...\")\n",
    "    perm = PermutationImportance(lgbm, scoring='neg_mean_squared_error', random_state=42, n_iter=3).fit(X_val, y_val_split)\n",
    "    logger.write(\">> Permutation Importance 계산 완료.\")\n",
    "        \n",
    "    importance_df = pd.DataFrame({\n",
    "        'feature': X_val.columns,\n",
    "        'importance': perm.feature_importances_,\n",
    "        'std': perm.feature_importances_std_\n",
    "    }).sort_values(by='importance', ascending=False)\n",
    "        \n",
    "    top_n = 20\n",
    "    plt.figure(figsize=(12, 10))\n",
    "    sns.barplot(\n",
    "        x='importance', \n",
    "        y='feature', \n",
    "        data=importance_df.head(top_n), \n",
    "        xerr=importance_df.head(top_n)['std'],\n",
    "        palette='viridis'\n",
    "    )\n",
    "    plt.title(f'상위 {top_n}개 변수 중요도 (Permutation Importance)')\n",
    "    plt.xlabel('중요도 (Importance)')\n",
    "    plt.ylabel('특성 (Feature)')\n",
    "    plt.grid(True, axis='x', linestyle='--')\n",
    "    plt.show()"
   ]
  },
  {
   "cell_type": "code",
   "execution_count": null,
   "id": "error-analysis",
   "metadata": {},
   "outputs": [],
   "source": [
    "# --- 11. 예측 오차 분석 (price_prediction.ipynb 내용 유지) ---\n",
=======
   "execution_count": 68,
   "id": "368308cc",
   "metadata": {},
   "outputs": [
    {
     "name": "stdout",
     "output_type": "stream",
     "text": [
      "2025-07-14 08:07:30 | >> 예측 오차 분석을 시작합니다...\n"
     ]
    },
    {
     "data": {
      "image/png": "iVBORw0KGgoAAAANSUhEUgAAA+MAAAIgCAYAAADuj7h+AAAAOXRFWHRTb2Z0d2FyZQBNYXRwbG90bGliIHZlcnNpb24zLjcuMSwgaHR0cHM6Ly9tYXRwbG90bGliLm9yZy/bCgiHAAAACXBIWXMAAA9hAAAPYQGoP6dpAABVfElEQVR4nO3deXgUVd728buz0J2whCXBJJAIKhJGVtkEgaA+iCyyKAIjIOAuIIwgCCqrCoPgAi6D8gqo4IaCOMgiCAZBxUHZTZARMIGApmVJQmdPvX/wpB+adFaS6ib5fq6rr7HPOVX1656i4O46VWUxDMMQAAAAAAAwjY+nCwAAAAAAoLIhjAMAAAAAYDLCOAAAAAAAJiOMAwAAAABgMsI4AAAAAAAmI4wDAAAAAGAywjgAAAAAACYjjAMAAAAAYDLCOAAAAAAAJiOMAwAAAABgMsI4AKBAW7duVfPmzVW1alXddtttOnTokLPPbrcrMDBQkpSYmKhatWoVuJ6//vpLPj4+slgszleXLl1KXde6des0aNAgXXPNNbLZbAoLC1N0dLT+9a9/KSUlpcDlRo0a5VJDlSpV8o1p3Lixvv3223zt+/fv180336yAgAC1bt1a//nPf1z6a9SoocTERElSQECA/vrrr1J/votde+21+v777/O1JyQkyN/fX35+fgW+qlSpoilTphRrO7fffrvLd2OxWOTj46MOHTq4jHvuuef04IMPul1Henq6Fi1apF69eik8PFxWq1XBwcFq3769Zs2apRMnTrhdbsGCBapSpUq+7QcEBGj16tXOcd99952uu+66fMtff/31+Zb19fXV4MGDXcY9+OCDev7554v1ffTu3VuLFi0qsD8zM1O+vr5KSkrK1/fQQw/lq8fdy9fXV+fOnSuylkaNGmnHjh1ut3Px53n//ffVvXv3fOMmTJhQrFpGjBhRZC0AgLJDGAcAuPXbb7+pb9++mjhxohITE3XHHXeoe/fuzvCQnZ2ttLQ0SReCSd5/Xyo7O1tBQUE6e/aszpw543ytX79ehmGUqKacnBzdc889GjhwoCIjI/XBBx/o2LFj+vrrr9W/f3+99NJLatGiheLj490uv2DBAqWkpDhf7oJQRkaGMjIyXNrOnj2rbt26qW/fvjp16pTGjx+vO++8U3/88YdzTGZmpjIzMyVdCKVZWVkFfo7jx4+rbt26stlsstls+vvf/67hw4fLarU627777rsC65GkiIgIZWVlKTs7u8DXggULtHPnzqK/WF34gSMtLc3lNW3aNJ05cybf95Oenp5v+dTUVN1000168803NXDgQG3ZskXHjx/Xzz//rBkzZui3337TDTfc4DZU7tq1S2PHjlVWVpbLq3v37tq3b5/Ld+xu2wcPHsxX+3333afTp0+7jEtPT3e7vDt532FBcnNzlZubq5ycnHx9ixcvlmEYeuqpp/TAAw/IMAzn6+TJk5KklJQU5eTkKCgoqMha8r4Pd+0X11jQvjJ//vx83+2lr40bN2rLli1F1gIAKDuEcQCAW6+++qr69u2rYcOGKSgoSBMnTtQ111yjZcuWFXsd3377rfz9/eXv76+goCDVqlXL+apWrZqqVKmiJ554otjrW7p0qf79739r+/btmjdvnm666SaFhobqb3/7m/7xj39oz549ql69usaOHet2eX9/f1WrVs35CggIKNZ233nnHTVq1EiTJk1SUFCQhgwZoj59+ui1114rdu0X++2331SzZk1nOPzwww/1448/av369c62jh07lmrdFyvJjx1+fn7OHwJsNpsMw9DixYt17733Fmv5Dz/8UMnJyfrpp580fPhwRUVFKSQkRJGRkerRo4feffddjRkzxu2ZesMwVK1atXxn9qtVq6YZM2Y4z97ecsstbrft7+/vUntKSopWrlypoUOHFvvzu/P4448XeCa5uPuON7BYLIXOoPDz81PNmjUL/fEBAFD2COMAALc2bdqk3r17u7Tdc889+sc//iGLxaKwsLAi19G5c2eXs4J5r6NHj2rIkCEKDQ3VwIEDi13Tt99+q969e6tly5Zu+6tVq6Ynn3zS7TTzq6++2m2oatasWZHbLei7+OKLL4pd+8UMw5CPj0+RbYVxOBy69tprFRgY6PIDw8WvZ555Rrfeemupapw/f75SUlL08MMPF3uZvO+0ID4+PsrNzS1RHVOnTnWevd28eXOxlpk2bZquuuoqDRw40Hk2PT09vcTbfu2119zuv4ZhFDgT5EqVN+0eAGAeP08XAADwTkeOHNH111/v0tasWTNVq1ZNKSkpOnXqVLECeZ7s7Gxt2rRJS5cu1Zo1azR27FgdPHhQNWrUKPY6atWqJZvNVuiYOnXqqHbt2vnajx49mi+MPffcc9q4cWOR2z1y5IgeeeQRl7ZmzZrpl19+UWZmpttrz8vbyZMndezYMWVlZZUoxBfHtm3bNGvWLL344osKDQ1VixYtdPDgQUkXpme7O1s+ePBgLViwQO3atdOECRPUpk0b1alTR2lpaYqNjdUnn3yijz/+uMQ/YPj4+MjP78I/V4oTFt9//30tWrRIa9eulc1mU2BgoEtwfuaZZ4q1XYvF4nbKd5686e6F/fhwJUlLS1PVqlU9XQYAVCqEcQBAPnlnIqtXr+7SXrt2baWmphZrOqthGDp48KC+++47bd26VRs3blSjRo3Utm1bNW7cWO+8846OHj2q9u3bq3nz5rr11lvl7+9f6DoffvhhDRs2TDk5OQUGsy1btridpu7j4+MSWpOSkrRw4UK98847RX6W8+fPu/0ucnJyFB8fr/r16xe5jrKWFwJzcnLKNIwfOnRIAwcOVGBgoDZv3qxRo0Zp7969zv5nn31Wx44dy7dc9erV9eOPP6pPnz564oknlJubqzNnzshmsyk0NFTx8fGKi4vTtddeW6J6PvnkEx04cECS3N4s7WIrV67UI488osaNG2vBggXq2LGjHA6Hs78k09abN2+uSZMm6cknnyxwTMOGDQu9cWFZKmiK/vTp08tk/WfOnFHNmjXLZF0AgOJhmjoAIJ+867zPnj3r0v7XX38pICDAeaayMAcOHFD//v21bds2de3aVXv37tXOnTv1+uuva9++fYqLi9PgwYN16tQpvfrqq4Wehczzt7/9Ta+88opeeumlfMEsIyNDH3zwgerXr6/HH3+80PUYhqFRo0bppptu0l133ZWvv1u3brJYLGrfvr0kqWrVqm6/C+nCna4DAgKKVX9p3XLLLbJYLLr55pudbeHh4WrcuLFq1Kjhcr30pa/AwMB8N2EryO7du9W5c2d17dpVv//+uzIyMnTnnXfmuxFaQQIDA9WgQQPdd999stvtysnJ0fnz5/XZZ5/J19e3wCBusVjcTvt2OBxq3Lixevfurd69e+e7s3uezMxMTZ06VSNHjtR7772nvXv3KiwsTFFRUXr99dcLvZleQebOnaucnJwCp6kbhqEjR46YNiti69at+bY/fPjwEq1j7969+uijj5zvP/zwQ+3fv1/ShR86rrrqqjKtGQBQOM6MAwDcuvbaaxUbG6s2bdo42/bv31+sf7BnZWWpUaNGzn/o57n4TtY1atRwhqw82dnZRQb9Ll26qEuXLtq1a5dOnDihN998U3379lXVqlWd/1uUZ555Rp9++mmBj/1at26dbrnlFmct1157rQ4ePKgBAwY4x+zfv18+Pj46c+aMMxCXl40bN6pLly4u343NZtMvv/xSJus3DEMLFizQ008/rZEjR+q1116Tj4+P1q5dqxEjRqhZs2Zavny527OzhmG43FE8LyhePHsir//itrzHaUkXfmR5+umn9eKLL7qs29fXV5988onzB5NvvvlGy5cvdxmzdetWPfLIIwoMDNT27dud9xN49913tWrVKj311FNq3rx5sR+ll5GRUeK7/EtSlSpVnDMUgoKClJyc7OxzN/sib6bF22+/rYceeqjE2yuN77//Xh999JHzkW9vvfWWBg8erGbNmik+Pl5XX321KXUAAC7gzDgAwK1u3bppzZo1Lm0ff/yxjh07VuQN3Jo2baqAgIASv3r16lXs+tq0aaOWLVtq1apVqlOnjrp27VpkEM/OztaYMWO0atUq7dixQ5988olmz56db1ze3bnzwm+3bt30+eef5/sumjRpUqJr3kurSpUqznr++c9/FusZ1u6eGZ73WK1Lvf3223rllVe0fPlyvfHGG85QabPZ9NFHH+nFF19U3bp13S772GOPOWdS+Pv7a8mSJXr55Zdd2tq0aaOMjAyXtov/v5oyZYqysrLyPZ4sIyPD7cyFi508eVKTJk3Srl278t3Y76677tLhw4edQbyoG8wlJibKZrOVat+dO3eucz2nT5/O9+iw1q1ba8WKFfnazQriRYmIiHD7jHIAQPnhzDgAwK1x48apRYsWeu+99zRgwAAtWLBAO3bs0I8//qi2bdsWegO3Q4cOmVxt0fbs2aNRo0ZJkrZv367g4GDFxMSoe/fu2r9/vxYuXKiQkBC3yz7wwAOaN2+ennvuOU2YMEGrVq3S0qVLtXTp0lLV4uvrq4yMDOXm5srHx0fZ2dny8fFRZmamHA6H/vrrL8XGxuqmm27Kt+xTTz1V6HXMBbn4TPSlhg8frhEjRshqtbrtHzJkSIHrXbRokRYtWuS27/z587LZbMW68VreI7ZK6uKbyRV1VvvFF18sdAZDeHh4gctv2LBBjz76qNvr5S9V0Oe9+GZ0JVHQzeTS09PL7AZyeX82AADm4cw4AMCta6+9VmvWrNHcuXMVFBSkjz/+WF9++aXatm1b7HVkZWU5HytV0Kukj5sqjRUrVujWW2/VoEGD9O233yo4OFiSVK9ePX3//ffy8/PTu+++W+DyQUFB2rhxo7788kvVqFFDU6dO1aJFi0p8zW6epk2bqkqVKvL391eVKlXUo0cPde3aVb169VJYWJiio6P16quvKjExMd+yec+MTk9P19dff13k86PzXoUFYpvN5gziTzzxhLZs2VKqz3X48GE9/vjjatq0qfOZ7v7+/goLC1O/fv20cuXKQpdfsWJFobMjCjuzHRsbW+RZ7cjISG3durVYn6VPnz5KSEgo1tjy1qJFC/Xo0SPfbIfPP/+8WI/mAwB4J86MAwAKdNtttzkfaVUaDRo0cBsoL2a1WrVp0yZ17ty5wDGXXpd8qZycHLd3eM87G9y9e3fFxsa6vd69evXqev/99wutUbpwd+0ffvihyHHFUatWLR06dMj5mfKC8ptvvlnsdcTFxWnQoEH5bix3uf7zn/+oRYsWBfb37t1b58+fz9e+d+9ederUScOGDdOiRYsUFRWlGjVqKCMjQ0ePHtVXX32lMWPG6Ndffy3w8WJpaWlu152nXbt2BT5rvEmTJkVe6z1w4EDt2bOnyKnvkvTVV1/pr7/+UkRERJFj8xS1n+bm5ha6nxbk0kskSltPbm6uy/X8hmG4ramoegAAZYMwDgAoNydOnChyzK233qr9+/cXGsYfe+wxvfXWWwX2d+rUyW271WpVenq680y4t7kSA4+7qfOS9OWXX6pFixb5flCoUqWKmjdvrubNm8vX11crVqwo9rO+LxUQEKDGjRuXatm8Wko7E6NBgwYaNmxYoWPmzp1b4E0BpQvT/d1N+bdYLDpx4kSh92EojYL+3Fz8CMFt27Zp9OjRLv15f24AAOWLaeoAAI8qTkBatGhRoY+YKuhVkQNF3rXmDoej0MsASvrINR8fn1Kts0ePHtq7d6/Gjx+v//znPzp37pxyc3OVlpamQ4cO6c0339S8efNc7p7vbtsZGRlFXtpQmrudl5SPj4/Onz/v3GaDBg30zDPP5Kvl4jPPkydPLtV+mpubW+ZBXOLPDQB4O8I4AKBUfH19ndcZ593tuyKwWq0F3sisMAEBAc5nTttsNpezj5dbj7vv9pprrlHt2rVVtWrVQq+Tttls+R4xV5j27dtr7NixRa7z6NGjLsu1atVK3333nU6fPq27775btWrVkq+vrwIDA9WhQwetXbtWL730kmbMmFHgtps1a6aDBw8WeefyZcuWFfvzlFaXLl3UuXPnImsZOHBguddSXKXddwEAnmExzPh5GQCAAtxzzz3q2bOnRo4c6elSUIaysrKUmprqDO/eYPHixQoJCVG/fv08XQoAAIRxAAAAAADMxjR1AAAAAABMRhgHAAAAAMBkFfbRZrm5uUpMTFT16tVlsVg8XQ4AAAAAoIIzDEMpKSkKDw+Xj0/h574rbBhPTExURESEp8sAAAAAAFQyCQkJql+/fqFjKmwYr169uqQLX0KNGjU8XA0AAAAAoKJLTk5WRESEM48WpsKG8byp6TVq1CCMAwAAAABMU5xLpbmBGwAAAAAAJiOMAwAAAABgMsI4AAAAAAAmq7DXjAMAAADA5TIMQ9nZ2crJyfF0KfACvr6+8vPzK5PHZxPGAQAAAMCNzMxMnTx5Ug6Hw9OlwIsEBgYqLCxMVapUuaz1EMYBAAAA4BK5ubk6evSofH19FR4eripVqpTJ2VBcuQzDUGZmppKSknT06FE1atRIPj6lv/KbMA4AAAAAl8jMzFRubq4iIiIUGBjo6XLgJQICAuTv76/ff/9dmZmZstlspV4XN3ADAAAAgAJczplPVExltU+wZwEAAAAAypRhGJ4uwesxTR0AAAAASiA+Pl52u9207QUHBysyMtK07bmzY8cOzZ8/X6tXry5ybEJCgrp3765ffvnFpX3BggU6f/68nn766RJtu3Hjxtq5c6dq1qxZouW8HWEcAAAAAIopPj5eTaKi5EhLM22bgQEBio2LK3Eg37lzp1577TXt3LlT2dnZ8vX11U033aSxY8eqXbt2+ca/+OKLWrJkifP9Z599phtuuEGSlJWVpaysrGJtNzExUXXq1MnXnpWVpczMzHztK1as0EsvvaSUlBT5+/urZ8+emjlzpqpWrSpJysjIUHZ2dqHbzM7O1pgxY7RhwwYdO3YsX/+aNWs0Y8YMGYahGjVq6F//+pfzs0nSyZMn9eCDD+r48ePKzc3V6NGj9eijjxbr85YWYRwAAAAAislut8uRlqbl/furSUhIuW8vNilJQ1evlt1uL1EYX7lypaZOnapXXnlFS5culb+/vzIzM7VhwwYNGTJEc+fO1V133eWyzKRJkzRp0qTLrnnv3r3OIF2UtWvX6pVXXtG///1v1atXTxkZGXrhhRc0YsQIrVy5sljrSE1N1cCBA1W3bl23of3gwYN68sknFRMTo/DwcG3fvl39+vXTvn37FBAQIEm6++67NXr0aA0ZMkQpKSnq1q2bIiMj1bNnz+J/8BIijAMAAABACTUJCdGNYWGeLqNATz/9tD766CO1bt3a2ValShX16dNHISEheuCBB1zC+KRJk7Ru3Trn+6ysLNntdiUmJspqtZZo2x988IF27dolh8NR5J3oN2/erGHDhqlevXqSJKvVqsmTJys4OLjY20tOTtaIESPUrl07bd68OV//O++8o/Hjxys8PFyS1KlTJ7Vt21YbN250hvKcnBwNGTJEklS9enXNmjVLb775ZrmGcW7gBgAAAAAVzPnz5wsMwoGBgUpNTXVpe/HFF3XgwAHna/78+Wrbtm2Jg/jatWv1008/qXv37nrhhRfy9b/++uuKiorS9OnTJUk9e/bUBx98oMTERElSWlqaZs6cqV69ehV7m+Hh4Ro4cGCB/Zs3b1Z0dLRLW3R0tDZt2lRgf+fOnbVly5ZyvRGdx8L4woUL1bx5c7Vo0UJRUVEaNmyYTpw44ez38/NTy5YtXV4X/1IDAAAAAHDvscce04gRIxQbG+vSvm/fPo0cOVKPPPJIgcva7XZNmjRJCxYscGn/5ptvFBUVpbvvvtvtcr/++qseeughvfbaa1qyZInWrVunRYsWuYwZM2aM4uLiNHPmTEnS7bffrsmTJ6tfv366/vrrdeONNyo3N1fLli0rxad2LzExURERES5tEREROnLkSIH9AQEBstls+vPPP8usjkt5bJr6nXfeqYcfflg2m03Z2dmaOXOmevfurd27d0uScnJytGvXLvn5MZMeAAAAAEpi6tSpqlmzpm6//Xb5+PgoODhYf/zxhywWiyZOnKixY8e6Xe7cuXPOqdl169Z16evatavWrl3rdrmffvpJvXr10qxZszRixAhJF844Dx48WLGxsfmC/cX69++v/v37u7SlpKTol19+yReSS+Ps2bOy2WwubTabTQ6Hw9nfuHHjfMtdPKY8eCzpNmzY8P+K8PPTzJkztXDhQiUmJjrn8gMAAAAASufxxx/XmDFjdOzYMUVFRenQoUNq0KBBgeMPHjyoe++9V1OnTlV2dra6d++u1atXO6/nLky9evW0YcMGtWzZ0tlWp04dffXVV0pKSpJ04Wz0xeF22bJlWr58ubKyspSRkaH09HQ5HA7l5uaqevXqatiwodup7iVltVqVnp4uf39/Z1taWprz5m15/Ze6eEx58JrTzg6HQxaLxe0t8AEAAAAAJWexWNSwYUNZLJYCg7jD4dC0adP09ddfa9GiRerQoYMkKSgoSF27di3WlPHQ0FCFhoZKujBdfc6cOfrhhx8kSYZh6Nprr9W4ceM0aNAg5zJ9+vRRu3btZLPZFBAQoBEjRmjy5Mm65ZZbLu9DX6J+/fqKj493eZRZQkKC6tev79J/sbS0NKWmpuabHVCWvCKMHzx4UJMmTdL06dNLfIOAPBkZGcrIyHC+T05OLqvyAAAAKrX4+HjZ7XZPl+HVgoODS/wMaFzZYv/3bG9F2I5hGLrmmms0Z84cl7PHPXr00LfffqvAwED9/PPPxVrX8ePH1a1bN82bN0+LFy92Xnb8ww8/6KGHHtLMmTOdd3GvXbu2ateu7VzW399fFoulDD/ZBR07dlRMTIxLGI+JiVG3bt2c/RMnTnRZZtu2bWrbtq18fMrvNmseDeMTJ07U+++/rz/++EMPPvigxo0b59J/xx136I8//lBgYKD+/ve/a+zYsQV+GXPmzHHeBAAAAABlIz4+Xk2iouRIS/N0KV4tMCBAsXFxBPJKIDg4WIEBARq6erVp2wwMCCj2o77mzp2rpUuX5mtv0KCBoqKi8rUPHjxYM2bM0KhRo9yuL+9sd3H98MMPat68eb67m99000166qmn9Pnnn+d7vnl5Gz16tAYNGqR+/fopPDxcO3bs0I4dO7R48WJJUpcuXZSVlaUVK1Y4nzM+ffp0TZgwoVzr8mgYnzdvnubNm6e//vpLM2bM0MiRI/Xuu+9Kkk6ePOn8P/7YsWO677775HA49PTTT7td15QpUzR+/Hjn++Tk5DK52B8AAKAys9vtcqSlaXn//moSEuLpcrxSbFKShq5eLbvdThivBCIjIxUbF2fqbJGSzLx46qmn9NRTT5VzRQXr0KGDJk6cqC+++EK9e/d2nkzdvXu3Xn31VT377LPltm1/f3+3M63btGmj2bNn64477pDFYlFgYKDWrFmjatWqSbowlf/zzz/Xww8/rH/+85/KycnRgw8+qHvuuafcapW8ZJp6nTp1tGDBAtWsWVMLFy5UUFCQyy8wDRo00OzZszV27NgCw7jVai31FHcAAAAUrklIiG4MC/N0GYBXiIyMrHQ/vPj7+7tMYS9IvXr1tH79es2ePVtTpkyRYRjO69Vnz56t22+/vcBlfX195evrm6/darW6bXe37d9++81t36BBg1yuV7/U1VdfrY0bNxa5jbLkFWFcunDNd2ZmpnJyctz25+Tk8JgzAAAAAPCAm2++WTfffHOxxkZFRem9994r8TbWrFnjtv3QoUMlXteVoPyuRi9EZmamjh8/7nx/9uxZDR8+XAMGDFDt2rXlcDict7+XLkxTf/LJJ3X//fd7olwAAAAAAMqUR041JyUlqW/fvjp//rxsNpt8fHx07733Om/gdubMGfXu3VtZWVny8/NTQECAxo0bp6FDh3qiXAAAAAAAypRHwni9evX0008/Fdq/e/duEysCAAAAAMA8HpmmDgAAAABAZUYYBwAAAADAZNyeHAAAAABKID4+3mufM44rB2EcAAAAAIopPj5eUVFNlJbmMG2bAQGBiouL9Wgg37Fjh+bPn6/Vq1eXeh0rVqzQrl279Morr5RoucaNG2vnzp2qWbNmqbftjQjjAAAAAFBMdrtdaWkO9e+/XCEhTcp9e0lJsVq9eqjsdnuJw/jOnTv12muvaefOncrOzpavr69uuukmjR07Vu3atcs3/sUXX9SSJUuc7z/77DPdcMMNkqSsrCxlZWUVuc1Zs2bpgw8+cL6///77NWnSpELXsWLFCr300ktKSUmRv7+/evbsqZkzZ6pq1aqSpIyMDGVnZxe63ezsbI0ZM0YbNmzQsWPH8vWvWbNGM2bMkGEYqlGjhv71r385P5sknTx5Ug8++KCOHz+u3NxcjR49Wo8++miRn/dyEMYBAAAAoIRCQpooLOxGT5dRoJUrV2rq1Kl65ZVXtHTpUvn7+yszM1MbNmzQkCFDNHfuXN11110uy0yaNMkZnEtr2rRpmjZtWrHHr127Vq+88or+/e9/q169esrIyNALL7ygESNGaOXKlcVaR2pqqgYOHKi6deu6De0HDx7Uk08+qZiYGIWHh2v79u3q16+f9u3bp4CAAEnS3XffrdGjR2vIkCFKSUlRt27dFBkZqZ49exb7s5QUYRwAAAAAKpinn35aH330kVq3bu1sq1Klivr06aOQkBA98MADLmF80qRJWrdunfN9VlaW7Ha7EhMTZbVai9zeRx99pBkzZhTYP2TIEEVERORr37x5s4YNG6Z69epJkqxWqyZPnqzg4ODifExJUnJyskaMGKF27dpp8+bN+frfeecdjR8/XuHh4ZKkTp06qW3bttq4caMzlOfk5GjIkCGSpOrVq2vWrFl68803yzWMczd1AAAAAKhgzp8/r8DAQLd9gYGBSk1NdWl78cUXdeDAAedr/vz5atu2bbGCuCQNHjxYcXFxiouL044dO7Rs2TLFxMQ426ZOnep2uZ49e+qDDz5QYmKiJCktLU0zZ85Ur169iv1Zw8PDNXDgwAL7N2/erOjoaJe26Ohobdq0qcD+zp07a8uWLTIMo9h1lBRhHAAAAAAqmMcee0wjRoxQbGysS/u+ffs0cuRIPfLIIwUua7fbNWnSJC1YsMCl/ZtvvlFUVJTuvvvuApd9/vnnNXDgQG3cuFGPPPKIRo8e7RJoV6xYoaioKI0bN06SdPvtt2vy5Mnq16+frr/+et14443Kzc3VsmXLSvGp3UtMTMx3Vj4iIkJHjhwpsD8gIEA2m01//vlnmdVxKaapAwAAAEAFM3XqVNWsWVO33367fHx8FBwcrD/++EMWi0UTJ07U2LFj3S537tw559TsunXruvR17dpVa9euLXCb33//vb766ivFxMTIYrFIkkaMGKGPP/5YgwcPlnRhuvrrr7/uslz//v3Vv39/l7aUlBT98ssvbqe2l9TZs2dls9lc2mw2mxwOh7O/cePG+Za7eEx5IIwDAAAAQAX0+OOPa8yYMTp27JiioqJ06NAhNWjQoMDxBw8e1L333qupU6cqOztb3bt31+rVq53XcxclLi5OrVu3dgZxSWrbtq0OHDjgdvyyZcu0fPlyZWVlKSMjQ+np6XI4HMrNzVX16tXVsGFDvfDCCyX6zO5YrValp6fL39/f2ZaWlua8eVte/6UuHlMeCOMAAAAAUEFZLBY1bNhQFoulwCDucDg0bdo0ff3111q0aJE6dOggSQoKClLXrl2LPWW8c+fOeu655zRq1Cg1atRIf/zxh/7f//t/+aa75+nTp4/atWsnm82mgIAAjRgxQpMnT9Ytt9xSmo9aoPr16ys+Pt7lUWYJCQmqX7++S//F0tLSlJqamm92QFkijAMAAABACSUlxRY96ArZjmEYuuaaazRnzhyXs8c9evTQt99+q8DAQP38889Frue6667T4sWLNXz4cCUnJ6tKlSqaOHGiunTp4nZ87dq1Vbt2bed7f39/l7PqZaVjx46KiYlxCeMxMTHq1q2bs3/ixIkuy2zbtk1t27aVj0/53WaNMA4AAAAAxRQcHKyAgECtXj3UtG0GBAQW+1Ffc+fO1dKlS/O1N2jQQFFRUfnaBw8erBkzZmjUqFFu1xcaGlqiWm+77TbddtttJVqmvI0ePVqDBg1Sv379FB4erh07dmjHjh1avHixJKlLly7KysrSihUrnM8Znz59uiZMmFCudRHGAQAAAKCYIiMjFRcXK7vdbto2g4ODFRkZWayxTz31lJ566qlyrsg7+fv7u30UW5s2bTR79mzdcccdslgsCgwM1Jo1a1StWjVJF6byf/7553r44Yf1z3/+Uzk5OXrwwQd1zz33lGu9hHEAAAAAKIHIyMhih+OKwt/f32UKe3msw9fXV76+vvnarVar2/ZL1atXT7/99pvbvkGDBmnQoEEFLnv11Vdr48aNRW6jLBHGAQAAAACFuvnmm3XzzTdf1jqGDBmiIUOGFNi/Zs0at+2HDh26rO16K8I4UEnFx8ebOr2qpEoyHQsAAAC40hDGgUooPj5eUVFNlJbm8HQpBQoICFRcXCyBHAAAABUSYRyohOx2u9LSHOrff7lCQpp4upx8kpJitXr1UNntdsI4AADwKMMwPF0CvExZ7ROEcaASCwlporCwGz1dBgAAgNfJu9GYw+FQQECAh6uBN3E4Lswuvdwb2hHGAQAAAOASvr6+qlmzpv78809JUmBgoCwWi4ergicZhiGHw6E///xTNWvWLNYd3gtDGAcAAAAAN0JDQyXJGcgBSapZs6Zz37gchHEAAAAAcMNisSgsLEx169ZVVlaWp8uBF/D397/sM+J5COMAAAAAUAhfX98yC2BAHh9PFwAAAAAAQGVDGAcAAAAAwGSEcQAAAAAATEYYBwAAAADAZIRxAAAAAABMRhgHAAAAAMBkhHEAAAAAAExGGAcAAAAAwGSEcQAAAAAATEYYBwAAAADAZIRxAAAAAABMRhgHAAAAAMBkhHEAAAAAAExGGAcAAAAAwGSEcQAAAAAATEYYBwAAAADAZIRxAAAAAABMRhgHAAAAAMBkhHEAAAAAAExGGAcAAAAAwGSEcQAAAAAATEYYBwAAAADAZIRxAAAAAABMRhgHAAAAAMBkhHEAAAAAAExGGAcAAAAAwGQeC+MLFy5U8+bN1aJFC0VFRWnYsGE6ceKEsz82NlbR0dFq2bKlWrVqpVWrVnmqVAAAAAAAypTHwvidd96pH3/8UXv37tWBAwfUoEED9e7dW5KUnp6uvn37atasWdqzZ4/Wr1+vKVOmaN++fZ4qFwAAAACAMuOxMN6wYUPZbDZJkp+fn2bOnKkjR44oMTFRX331lVq1aqXo6GhJUmhoqCZMmKAlS5Z4qlwAAAAAAMqM11wz7nA4ZLFYVKdOHW3evNkZxPNER0dr06ZNHqoOAAAAAICy4xVh/ODBgxo0aJCmT58uq9WqxMRERUREuIyJiIjQkSNHClxHRkaGkpOTXV4AAAAAAHgjj4bxiRMnKjQ0VE2bNlV4eLjGjRsnSTp79qxzCnsem82m9PR0GYbhdl1z5sxRUFCQ83VpmAcAAAAAwFt4NIzPmzdPp06dkt1ul81m08iRIyVJVqtV6enpLmPT0tJktVplsVjcrmvKlCk6d+6c85WQkFDu9QMAAAAAUBp+ni5AkurUqaMFCxaoZs2aWrhwoerXr6/4+HiXMQkJCapfv36B67BarbJareVdKgAAAAAAl80rrhmXLlzznZmZqZycHHXs2FExMTEu/TExMerYsaOHqgMAAAAAoOx4JIxnZmbq+PHjzvdnz57V8OHDNWDAANWuXVsDBgzQzp07nYH81KlTmj9/vkaPHu2JcgEAAAAAKFMemaaelJSkvn376vz587LZbPLx8dG9997rvIFb1apV9cUXX2jUqFFKTU1Vbm6uZs6cqfbt23uiXAAAAAAAypRHwni9evX0008/FTqmRYsW2rFjh0kVAQAAAABgHq+5ZhwAAAAAgMqCMA4AAAAAgMkI4wAAAAAAmIwwDgAAAACAyQjjAAAAAACYjDAOAAAAAIDJCOMAAAAAAJiMMA4AAAAAgMkI4wAAAAAAmIwwDgAAAACAyQjjAAAAAACYjDAOAAAAAIDJCOMAAAAAAJiMMA4AAAAAgMkI4wAAAAAAmIwwDgAAAACAyQjjAAAAAACYjDAOAAAAAIDJCOMAAAAAAJiMMA4AAAAAgMkI4wAAAAAAmIwwDgAAAACAyQjjAAAAAACYjDAOAAAAAIDJCOMAAAAAAJiMMA4AAAAAgMkI4wAAAAAAmIwwDgAAAACAyQjjAAAAAACYjDAOAAAAAIDJCOMAAAAAAJiMMA4AAAAAgMkI4wAAAAAAmIwwDgAAAACAyQjjAAAAAACYjDAOAAAAAIDJCOMAAAAAAJiMMA4AAAAAgMkI4wAAAAAAmIwwDgAAAACAyQjjAAAAAACYjDAOAAAAAIDJ/DxdAFCRxcfHy263e7qMfGJjYz1dAgAAAFCpEcaBchIfH6+oqCZKS3N4upQCpaameLoEAAAAoFIijAPlxG63Ky3Nof79lyskpImny3Fx+PA6bd06Venp6Z4uBQAAAKiUCONAOQsJaaKwsBs9XYYLu51p6gAAAIAncQM3AAAAAABMRhgHAAAAAMBkhHEAAAAAAExGGAcAAAAAwGSEcQAAAAAATOaxML5u3Trddtttat68uZo2bapHH31UDsf/PY/Zz89PLVu2dHmtW7fOU+UCAAAAAFBmPPZos2rVqum9995TvXr1lJ2dreHDh2vatGmaP3++JCknJ0e7du2Snx9PXwMAAAAAVCweS7pdunT5vyL8/DRx4kTdd999nioHAAAAAADTeM1p59OnT8tms5V6+YyMDGVkZDjfJycnl0VZAAAAAACUOa+5gduiRYsu68z4nDlzFBQU5HxFRESUYXUAAAAAAJQdrwjjGzdu1J49e/TQQw+5tN9xxx1q1qyZ2rdvr1dffVW5ubkFrmPKlCk6d+6c85WQkFDeZQMAAAAAUCoen6aekJCghx9+WJ999pmsVquz/eTJkwoNDZUkHTt2TPfdd58cDoeefvppt+uxWq0uywMAAAAA4K08emb8/Pnz6tevn55//nm1adPGpS8viEtSgwYNNHv2bH366admlwgAAAAAQJnzWBjPycnR4MGD1aNHDw0bNqxY43nMGQAAAACgIvBYGB83bpwCAgL03HPP5etzOBxKSkpyvj927JiefPJJ3X///WaWCAAAAABAufDIqeYzZ87ojTfeUOPGjdWqVStnu8Vi0YYNG5Sdna3evXsrKytLfn5+CggI0Lhx4zR06FBPlAsAAAAAQJnySBivVauWDMModMzu3btNqgYAAAAAAHN5xaPNAAAAAACoTAjjAAAAAACYjDAOAAAAAIDJCOMAAAAAAJiMMA4AAAAAgMkI4wAAAAAAmIwwDgAAAACAyQjjAAAAAACYjDAOAAAAAIDJCOMAAAAAAJiMMA4AAAAAgMkI4wAAAAAAmIwwDgAAAACAyQjjAAAAAACYjDAOAAAAAIDJCOMAAAAAAJiMMA4AAAAAgMkI4wAAAAAAmIwwDgAAAACAyQjjAAAAAACYjDAOAAAAAIDJCOMAAAAAAJiMMA4AAAAAgMkI4wAAAAAAmIwwDgAAAACAyQjjAAAAAACYjDAOAAAAAIDJCOMAAAAAAJiMMA4AAAAAgMkI4wAAAAAAmIwwDgAAAACAyQjjAAAAAACYjDAOAAAAAIDJCOMAAAAAAJiMMA4AAAAAgMkI4wAAAAAAmIwwDgAAAACAyQjjAAAAAACYjDAOAAAAAIDJCOMAAAAAAJiMMA4AAAAAgMkI4wAAAAAAmIwwDgAAAACAyQjjAAAAAACYjDAOAAAAAIDJCOMAAAAAAJiMMA4AAAAAgMkI4wAAAAAAmIwwDgAAAACAyQjjAAAAAACYjDAOAAAAAIDJPBrG161bp9tuu03NmzdX06ZN9eijj8rhcDj7Y2NjFR0drZYtW6pVq1ZatWqVB6sFAAAAAKBseDSMV6tWTe+995727dunPXv2KCUlRdOmTZMkpaenq2/fvpo1a5b27Nmj9evXa8qUKdq3b58nSwYAAAAA4LJ5NIx36dJF9erVkyT5+flp4sSJ+uqrryRJX331lVq1aqXo6GhJUmhoqCZMmKAlS5Z4rF4AAAAAAMqCV10zfvr0adlsNknS5s2bnUE8T3R0tDZt2uR22YyMDCUnJ7u8AAAAAADwRl4VxhctWqT77rtPkpSYmKiIiAiX/oiICB05csTtsnPmzFFQUJDzdemyAAAAAAB4C68J4xs3btSePXv00EMPSZLOnj3rPEuex2azKT09XYZh5Ft+ypQpOnfunPOVkJBgSt0AAAAAAJSUn6cLkKSEhAQ9/PDD+uyzz2S1WiVJVqtV6enpLuPS0tJktVplsVjyrcNqtTqXBQAAAADAm5XqzHhcXFyBfa+//nqJ1nX+/Hn169dPzz//vNq0aeNsr1+/vuLj413GJiQkqH79+iUrFgAAAAAAL1OqMH7vvfcW2Pfuu+8Wez05OTkaPHiwevTooWHDhrn0dezYUTExMS5tMTEx6tixY8mKBQAAAADAy5Romvq3336rr776SqdOnXI+D/xiv//+u3Jzc4u9vnHjxikgIEDPPfdcvr4BAwZo2rRpiomJUXR0tE6dOqX58+dr+fLlJSkZAAAAAACvU6Iw7uvrKz8/P+d/X9p30003ae7cucVa15kzZ/TGG2+ocePGatWqlbPdYrFow4YNuuqqq/TFF19o1KhRSk1NVW5urmbOnKn27duXpGQAAAAAALxOicJ4x44d1bFjR23atEnTp0+/rA3XqlXL7V3RL9aiRQvt2LHjsrYDAAAAAIC3KdU149u3by/rOgAAAAAAqDRK/Wizffv26dtvv9Xp06ddznBXqVJFkydPLpPiAAAAAACoiEp1Zvz1119X7969deDAAWVmZiorK8v5ys7OLusaAQAAAACoUEp1ZnzRokXavXu36tSpU9b1AAAAAABQ4ZXqzLhhGARxAAAAAABKqVRhPDw8XD///HNZ1wIAAAAAQKVQqmnqHTt21K233qp+/fopIiJCFovF2VelShU9++yzZVYgAAAAAAAVTanCuMVi0RNPPOG2z9fX97IKAgAAAACgoitVGJ8xY0YZlwEAAAAAQOVRqjB+8uRJZWVlue3z9/dXWFjYZRUFAAAAAEBFVqow3rlzZ2VmZsowDEmSw+HQ2bNnFRISomuvvVY7duwo0yIBAAAAAKhIShXG//vf/+Zr+/333zVlyhT17NnzsosCAAAAAKAiK9Wjzdy5+uqr9d577+nVV18tq1UCAAAAAFAhlVkYlyQ/P78CryUHAAAAAAAXlGqa+vHjx5WZmenSZrfb9e677yoyMrJMCgMAAAAAoKIqVRj/n//5H5cbuElSzZo11b59e73zzjtlVhwAAAAAABVRqcJ4XFxcWdcBAAAAAEClUaownic9PV3//e9/5evrq+uuu07+/v5lVRcAAAAAABVWqW7glpubq2eeeUbh4eEaPHiwBgwYoHr16mnmzJllXR8AAAAAABVOqcL4jBkzFBcXp7i4OB04cEAHDx7U/v37tWfPHs2ePbusawQAAAAAoEIpVRj/6KOPtGLFCtWtW9fZdtVVV2nFihV69913y6w4AAAAAAAqolKFcV9fX9lstnztgYGB8vEp00eXAwAAAABQ4ZQqOVerVk179uzJ1/7TTz8pKCjocmsCAAAAAKBCK9Xd1F944QX17t1bEydOVKdOnSRJ27Zt08svv6wVK1aUaYEAAAAAAFQ0pQrjt99+u9atW6eXXnpJ7777rnx9fdW6dWtt3LhRf/vb38q6RgAAAAAAKpRSP2e8efPm3KwNAAAAAIBSKPY14wsWLFBaWlqhY1JTU/XWW29ddlEAAAAAAFRkxQ7jr732mgICAgodU61aNS1cuPCyiwIAAAAAoCIrdhgvKojn8fX1LXUxAAAAAABUBsUO48UN2TxnHAAAAACAwhU7OV911VU6fPhwoWN+++03BQcHX3ZRAAAAAABUZMUO4+PGjdNjjz2mnJwct/05OTkaPXq0Hn/88TIrDgAAAACAiqjYYbxnz57q3Lmz2rZtq5UrV+qPP/5QZmam/vjjD61cuVLt2rVTq1at1Ldv3/KsFwAAAACAK16JnjM+ffp0derUSa+99prGjBmjs2fPKigoSK1bt9bMmTPVu3fv8qoTAAAAAIAKo0RhXJJuu+023XbbbeVRCwAAAAAAlQK3PgcAAAAAwGSEcQAAAAAATEYYBwAAAADAZIRxAAAAAABMRhgHAAAAAMBkhHEAAAAAAExGGAcAAAAAwGQlfs444E3i4+Nlt9s9XYZbsbGxni4BAAAAgJcijOOKFR8fr6ioJkpLc3i6lEKlpqZ4ugQAAAAAXoYwjiuW3W5XWppD/fsvV0hIE0+Xk8/hw+u0detUpaene7oUAAAAAF6GMI4rXkhIE4WF3ejpMvKx25mmDgAAAMA9buAGAAAAAIDJCOMAAAAAAJiMMA4AAAAAgMkI4wAAAAAAmIwwDgAAAACAyTwexpcsWSKr1apjx465tPv5+ally5Yur3Xr1nmmSAAAAAAAypBHH202depU7dq1S7Vq1VJ2drZLX05Ojnbt2iU/P56+BgAAAACoWDx2Zjw3N1dhYWFau3atbDabp8oAAAAAAMB0Hjvt7OPjo1GjRpXZ+jIyMpSRkeF8n5ycXGbrBgAAAACgLHn8mvGyMmfOHAUFBTlfERERni4JAAAAAAC3vDqM33HHHWrWrJnat2+vV199Vbm5uQWOnTJlis6dO+d8JSQkmFgpAAAAAADF57V3Rzt58qRCQ0MlSceOHdN9990nh8Ohp59+2u14q9Uqq9VqZokAAAAAAJSK154ZzwviktSgQQPNnj1bn376qQcrAgAAAACgbHhtGL9UTk4OjzkDAAAAAFQIXhnGHQ6HkpKSnO+PHTumJ598Uvfff78HqwIAAAAAoGx4xanmKlWqyN/f3/n+zJkz6t27t7KysuTn56eAgACNGzdOQ4cO9WCVAAAAAACUDa8I47/++qvL+3r16mn37t0eqgYAAAAAgPLlldPUAQAAAACoyAjjAAAAAACYjDAOAAAAAIDJCOMAAAAAAJjMK27gBgAAyk98fLzsdruny/BawcHBioyM9HQZAIBKhjAOAEAFFh8fryZRUXKkpXm6FK8VGBCg2Lg4AjkAwFSEcQAAKjC73S5HWpqW9++vJiEhni7H68QmJWno6tWy2+2EcQCAqQjjAABUAk1CQnRjWJinywAAAP+LG7gBAAAAAGAywjgAAAAAACYjjAMAAAAAYDLCOAAAAAAAJiOMAwAAAABgMsI4AAAAAAAmI4wDAAAAAGAywjgAAAAAACbz83QB8H7x8fGy2+2eLiOf2NhYT5cAAKgg+DulYHw3xcd3VbDg4GBFRkZ6ugzAqxDGUaj4+HhFRTVRWprD06UUKDU1xdMlAACuUCdTU2WRNHToUE+X4vVSUlM9XYLXYj8qWmBAgGLj4gjkwEUI4yiU3W5XWppD/fsvV0hIE0+X4+Lw4XXaunWq0tPTPV0KAOAKdTY9XYak12+5RR0aNfJ0OV5p3eHDmrp1K3/fFoL9qHCxSUkaunq17HY7YRy4CGEcxRIS0kRhYTd6ugwXdjtTwQAAZeO6WrV0Y1iYp8vwSrFeeKmat2I/AlAS3MANAAAAAACTEcYBAAAAADAZYRwAAAAAAJMRxgEAAAAAMBlhHAAAAAAAkxHGAQAAAAAwGWEcAAAAAACTEcYBAAAAADAZYRwAAAAAAJMRxgEAAAAAMBlhHAAAAAAAkxHGAQAAAAAwGWEcAAAAAACTEcYBAAAAADAZYRwAAAAAAJMRxgEAAAAAMBlhHAAAAAAAkxHGAQAAAAAwGWEcAAAAAACTEcYBAAAAADAZYRwAAAAAAJMRxgEAAAAAMBlhHAAAAAAAkxHGAQAAAAAwGWEcAAAAAACTEcYBAAAAADAZYRwAAAAAAJMRxgEAAAAAMBlhHAAAAAAAkxHGAQAAAAAwGWEcAAAAAACTeUUYX7JkiaxWq44dO+bSHhsbq+joaLVs2VKtWrXSqlWrPFMgAAAAAABlyM/TBUydOlW7du1SrVq1lJ2d7WxPT09X3759tXjxYkVHR+vUqVOKjo7Wddddp+bNm3uwYgAAAAAALo9Hz4zn5uYqLCxMa9eulc1mc+n76quv1KpVK0VHR0uSQkNDNWHCBC1ZssQTpQIAAAAAUGY8embcx8dHo0aNctu3efNmZxDPEx0drQULFrgdn5GRoYyMDOf75OTksisUAOC14uPjZbfbPV2G14qNjfV0CQAAwA2PT1MvSGJiorp16+bSFhERoSNHjrgdP2fOHM2cOdOM0gAAXiI+Pl5NoqLkSEvzdCleLyU11dMlAACAi3htGD979my+qes2m03p6ekyDEMWi8Wlb8qUKRo/frzzfXJysiIiIkypFQDgGXa7XY60NC3v319NQkI8XY5XWnf4sKZu3ar09HRPlwIAAC7itWHcarXm+4dDWlqarFZrviCeN95qtZpVHgDAizQJCdGNYWGeLsMrxTKFHwAAr+QVjzZzp379+oqPj3dpS0hIUP369T1UEQAAAAAAZcNrw3jHjh0VExPj0hYTE6OOHTt6qCIAAAAAAMqG14bxAQMGaOfOnc5AfurUKc2fP1+jR4/2cGUAAAAAAFwer7lmvEqVKvL393e+r1q1qr744guNGjVKqampys3N1cyZM9W+fXsPVgkAAAAAwOXzmjD+66+/5mtr0aKFduzY4YFqAAAAAAAoP147TR0AAAAAgIqKMA4AAAAAgMkI4wAAAAAAmIwwDgAAAACAybzmBm4AgPzi4+Nlt9s9XYbXio2N9XQJAAAApUIYBwAvFR8fryZRUXKkpXm6FK+Xkprq6RIAAABKhDAOAF7KbrfLkZam5f37q0lIiKfL8UrrDh/W1K1blZ6e7ulSAAAASoQwDgBerklIiG4MC/N0GV4plin8AADgCsUN3AAAAAAAMBlhHAAAAAAAkxHGAQAAAAAwGWEcAAAAAACTEcYBAAAAADAZYRwAAAAAAJMRxgEAAAAAMBlhHAAAAAAAkxHGAQAAAAAwGWEcAAAAAACTEcYBAAAAADAZYRwAAAAAAJMRxgEAAAAAMBlhHAAAAAAAkxHGAQAAAAAwGWEcAAAAAACTEcYBAAAAADAZYRwAAAAAAJMRxgEAAAAAMBlhHAAAAAAAkxHGAQAAAAAwGWEcAAAAAACTEcYBAAAAADAZYRwAAAAAAJMRxgEAAAAAMBlhHAAAAAAAkxHGAQAAAAAwGWEcAAAAAACTEcYBAAAAADAZYRwAAAAAAJMRxgEAAAAAMBlhHAAAAAAAkxHGAQAAAAAwGWEcAAAAAACTEcYBAAAAADAZYRwAAAAAAJMRxgEAAAAAMBlhHAAAAAAAkxHGAQAAAAAwGWEcAAAAAACTEcYBAAAAADAZYRwAAAAAAJP5ebqAgixfvlxjx45VZGSks81qteq7776Tr6+vBysDAAAAAODyeG0Yz87OVs+ePbV8+XJPlwIAAAAAQJlimjoAAAAAACYjjAMAAAAAYDKvnaZeUhkZGcrIyHC+T05O9mA1AAAAAAAUzGvPjFssFm3btk2dOnVSkyZNdOedd+r7778vcPycOXMUFBTkfEVERJhYLQAAAAAAxee1YXzAgAE6cOCAtm/frl9++UWPPvqo+vTpo8OHD7sdP2XKFJ07d875SkhIMLliAAAAAACKx2unqVetWtX53xaLRb169VLfvn21fv16NWrUKN94q9Uqq9VqZokAAAAAAJSK154ZdycnJ0d+fl77+wEAAAAAAMXitWH8xIkTys7Odr7/7LPPtGHDBvXv39+DVQEAAAAAcPm89jTzhg0bNG/ePOfU88aNG2vLli0KCwvzcGUAAAAAAFwerw3jDzzwgB544AFPlwEAAAAAQJnz2mnqAAAAAABUVIRxAAAAAABMRhgHAAAAAMBkhHEAAAAAAEzmtTdwq0zi4+Nlt9s9XYZbsbGxni4B8Dpm/ZnN+/MXW4JtBQcGKjIoqLxKAgAAQBkhjHtYfHy8oqKaKC3N4elSCpWamuLpEgCv4Ik/s0NXrSr22AC/KoobM4pADgAA4OUI4x5mt9uVluZQ//7LFRLSxNPl5HP48Dpt3TpV6enpni4F8Apm/pm125O0atUq3RXVRMGBgUWOT3L8rtVxs2V3OAjjAAAAXo4w7iVCQpooLOxGT5eRj93ONHXAHXP+zJ6U9L2CA69VWPXq5bwtAAAAmIkbuAEAAAAAYDLCOAAAAAAAJiOMAwAAAABgMsI4AAAAAAAmI4wDAAAAAGAywjgAAAAAACYjjAMAAAAAYDLCOAAAAAAAJiOMAwAAAABgMsI4AAAAAAAmI4wDAAAAAGAywjgAAAAAACYjjAMAAAAAYDLCOAAAAAAAJiOMAwAAAABgMsI4AAAAAAAmI4wDAAAAAGAywjgAAAAAACYjjAMAAAAAYDLCOAAAAAAAJiOMAwAAAABgMsI4AAAAAAAm8/N0AQAqr3PnzsnhcORrt9uTJEmxsbFml1SkvJou1HiyXLeVlJRUquVi7fYyrqTsBAcGKjIoyNNlAAA8wBv/XvcmwcHBioyM9HQZMBFhHIBHnDt3Tq+//rqys7Pc9F4IuUOHDjW3qBJYtWqVpO9N2VZGZmaxxqVmnpZk0dBVq8q3oMsQ4FdFcWNGEcgBoBI5mZoqi7z773VvEBgQoNi4OAJ5JUIYB+ARDodD2dlZ6h/VRCGBgS59dsdvWhUnLb/rLjUJDvZQhe7F2u0aumqV7opqouDAa8t1W4dPn9bWY0eVnZ1drPHp2amSDN3SYLwa1W5crrWVRpLjd62Omy27w0EYB4BK5Gx6ugxJr99yizo0auTpcrxSbFKShq5eLbvdThivRAjjADwqJDBQYdWrX9J6IZw3CQ7WjWFh5hdVDMFu6y5bSW6m8BdHLVuEwqpfX8bVAABwea6rVctr/14HPIEbuAEAAAAAYDLCOAAAAAAAJiOMAwAAAABgMsI4AAAAAAAmI4wDAAAAAGAywjgAAAAAACYjjAMAAAAAYDLCOAAAAAAAJvPzdAFARXfmzFmdPHnS02W4OHPmzP/+r+dqS0pK8sh24XmxdnuZrevo/+7Lh8+cUchl7ssZ2dmy+nnvX4vBgYGKDArydBkAgHIUGxvr6RK8WnBwsCIjIz1dRpnx3n91AFc4h8MhSdq6dYu2bvW2A+t+Sd5RW0Zmpke3D/OkZp6WZNHQVavKfN2Pb90qbd16mWuxSDLKopxyEeBXRXFjRhHIAaACOpmaKoukoUOHeroUrxYYEKDYuLgKE8gJ40A5ycjIkCS1CQvXjWE3ergaV4dPp2jrMemWBg3VqPYNHqrhtLYeO6rs7GyPbB/mS89OlWTolgbj1ah24zJZZ95+1KNBQ0XUrn0Z69mprceWlGltZSnJ8btWx82W3eEgjANABXQ2PV2GpNdvuUUdGjXydDleKTYpSUNXr5bdbieMAyie6larwqpX93QZLuyOAElSLZvNY7Ul/e/MAVQ+tWwRCqt+fZmsK8nxh6R01bY1VFj1q0q9HrsjvsxrAwCgpK6rVUs3hoV5ugyYhBu4AQAAAABgMsI4AAAAAAAmI4wDAAAAAGAywjgAAAAAACYjjAMAAAAAYDKvD+OLFy9Ws2bN1KJFC/Xo0UMnTpzwdEkAAAAAAFwWrw7jGzdu1Ntvv63t27dr7969GjlypO666y5PlwUAAAAAwGXx6jD+1ltvadasWQoKCpIkDRw4UL6+vtqzZ49nCwMAAAAA4DJ4dRj/+uuv1aVLF5e26Ohobdq0yUMVAQAAAABw+fw8XUBBUlNT5efnp6pVq7q0R0REaP/+/fnGZ2RkKCMjw/n+3LlzkqTk5OTyLfQypaamSpISE39SZmaqh6vJLykp9n//d79+/z3Aw9W48ubaJOns2d8kSSeSD+nnRA8Xc4njyYclSUfPxCorJ91DNZyTdEqHz2QoOSfIpe9sxnFJ0qrYWP108qQHqivY72fPSpJi7ft0MuV0uW6rsO/I/XjP//9amPKor6TfkZm1laW8PxM/nTyp1MzMEi0bm5QkSdqflKSA338v89qudHw/ReM7KhrfUeH4forGd1S0Q3a7pAv5yZszXl5thmEUOdZiFGeUBxw/flzt27fPd8O2JUuWKCYmRu+++65L+4wZMzRz5kwzSwQAAAAAIJ+EhATVr1+/0DFee2bcarUqPT3/2Ym0tDQFBOQ/CzplyhSNHz/e+T43N1enT59WnTp1ZLFY8o1PTk5WRESEEhISVKNGjbItHlc09g0UhH0DBWHfQGHYP1AQ9g0UhH3jymUYhlJSUhQeHl7kWK8N48HBwUpLS1NqaqqqVavmbC/oFwar1Sqr1erSVrNmzSK3U6NGDXZwuMW+gYKwb6Ag7BsoDPsHCsK+gYKwb1yZ8m5AXhSvvYGbxWJR+/bttW3bNpf2mJgYdezY0UNVAQAAAABw+bw2jEvS2LFjNW3aNOdF8J988onOnz+vrl27erYwAAAAAAAug9dOU5ek/v37KyEhQR06dJCPj49CQ0O1Zs0a+fhc/m8IVqtV06dPzze1HWDfQEHYN1AQ9g0Uhv0DBWHfQEHYNyoHr72bOgAAAAAAFZVXT1MHAAAAAKAiIowDAAAAAGAywjgAAAAAACarlGF88eLFatasmVq0aKEePXroxIkTni4JHrB8+XLVrl1bLVu2dL7at2+vnJwcSdLJkyfVq1cvtWjRQs2aNdOiRYs8XDHMsGTJElmtVh07dsylPTY2VtHR0WrZsqVatWqlVatWufRnZWVp3LhxuuGGG3TDDTfo8ccfV2ZmpomVo7wVtG/4+fm5HEdatmypdevWOfsNw9Dzzz+vG264QU2bNtXf//5351NCcGVbt26dbrvtNjVv3lxNmzbVo48+KofD4eznuFF5FbVvcNyovBYuXKjmzZurRYsWioqK0rBhw1yyCMeNSsaoZDZs2GC0adPGOHv2rGEYhvHxxx8b7dq183BV8ISlS5caQ4YMKbC/Q4cOxvLlyw3DMIzk5GSjffv2xpdffmlWefCAZ5991rjjjjuMq666yjh8+LCzPS0tzWjUqJHxzTffGIZhGCdPnjSuv/56Y+/evc4xkydPNh555BEjJyfHyMnJMUaPHm1MnDjR9M+A8lHQvmEYhiHJyMrKKnDZRYsWGb169TLS09MNwzCMuXPnGvfcc0+51gtzxMTEGMePHzcMwzCysrKMe++915gwYYJhGBw3KrvC9g3D4LhRmR05csRIS0szDOPCvvHss88aLVu2NAyD40ZlVOnCeP/+/Y1169a5tHXo0MHYvXu3ZwqCxxQWxvfu3ZvvR5qNGzcaffv2NaEyeEJOTo7xxhtvGNnZ2cbVV1/tErjWrFljDBw40GX8W2+9ZYwbN865bL169YwzZ844+8+dO2eEh4cb2dnZZpSPclTYvmEYRf+julWrVsYvv/zisr7IyEjDbreXW83wjN27dxvNmjUzDIPjBlxdvG8YBscN/J+cnByjRo0axokTJzhuVEKVbpr6119/rS5duri0RUdHa9OmTR6qCN5o8+bNio6Odmnr3LmztmzZIoOnAVZIPj4+GjVqlHx9ffP1udsfLj5u7NmzR+Hh4apZs6azv0aNGoqMjNTPP/9crnWj/BW2bxTlr7/+0okTJ9SkSROX9XXs2FFbtmwpyzLhBU6fPi2bzSaJ4wZcXbxvFIXjRuXicDhksVhUp04djhuVUKUK46mpqfLz81PVqlVd2iMiInTkyBEPVQVvlJiYqIiICJe2gIAA2Ww2/fnnnx6qCp7ibn+4+Ljhrv/SMaicTp48qfr16+drZ9+omBYtWqT77rtPEscNuLp43ygKx43K4+DBgxo0aJCmT58uq9XKcaMSqlRh/OzZs25/lbTZbC431UDlYLFYtG3bNnXq1ElNmjTRnXfeqe+//14S+wpcudsfbDab0tPTZRgG+wt0xx13qFmzZmrfvr1effVV5ebmSuJYUpls3LhRe/bs0UMPPSSJ4wb+z6X7Rh6OG5XXxIkTFRoaqqZNmyo8PFzjxo2TxHGjMqpUYdxqtSo9PT1fe1pamgICAjxQETxpwIABOnDggLZv365ffvlFjz76qPr06aPDhw+zr8CFu/0hLS1NVqtVFouF/aWSO3nypDZv3qz9+/fr448/1qpVq/TPf/5TEn/vVBYJCQl6+OGH9cEHH8hqtUriuIEL3O0bEseNym7evHk6deqU7Ha7bDabRo4cKYnjRmVUqcJ4cHCw0tLSlJqa6tKekJDgdjoQKraqVauqRo0aki6cJe/Vq5f69u2r9evXq379+oqPj3cZn7fv1K1b1xPlwoPc7Q8XHzfc9V86BhVXaGio878bNGig2bNn69NPP5XEvlEZnD9/Xv369dPzzz+vNm3aONs5bqCgfUPiuIEL6tSpowULFmj16tU6d+4cx41KqFKFcYvFovbt22vbtm0u7TExMerYsaOHqoI3ycnJkZ+fnzp27KiYmBiXvm3btqlt27by8alUf2wgud0fLj5utGzZUocPH9bZs2ed/cnJyYqLi9ONN95oZqnwAnnHEUkKCwtTtWrV9Msvvzj7c3NztX37dv7eqQBycnI0ePBg9ejRQ8OGDXPp47hRuRW2bxQ0nuNG5ZSRkaHMzEzl5ORw3KiMPHszd/OtWrXKaN26tXHu3DnDMC48Z7xZs2ZGTk6OhyuD2Y4fP+7yWJFPP/3UCA0NNRITE43c3FyjZcuW+Z4z/sknn3iqXJjo0sdXpaamGpGRkS7P/bzuuuuMH374wTlm7Nixzud+5ubmGqNHjzZGjRpleu0oX5fuG+fPnzf+/PNP5/ujR48abdq0Mf71r385215++WWjV69eRkZGhmEYF54X3LNnT/OKRrkZPXq0cc899xi5ubn5+jhuVG6F7RscNyqvjIwMIyEhwfn+zJkzxj333ON81C7HjcrHYhiV7zlNCxcu1FtvvSUfHx+Fhobq7bffVsOGDT1dFkz2zjvvaN68ec5ruBo3bqyZM2c6HyXy+++/6+GHH1ZiYqJycnL04IMPavz48Z4sGSa5/vrrtWnTJl199dXOtr1792rUqFFKTU1Vbm6upkyZonvvvdfZn56ern/84x/OX7Q7deqkhQsXcg1XBXPpvnHixAn17t1bWVlZ8vPzU0BAgEaPHq2hQ4c6lzEMQ1OnTtVnn30mHx8fNWnSRIsWLVJwcLCnPgbKwJkzZ1S7dm01btzY5YZKFotFGzZs0FVXXcVxo5Iqat/Izs7muFFJnThxQn369NH58+dls9nk4+Oje++9V+PGjZO/v78k/r1R2VTKMA4AAAAAgCdx8SsAAAAAACYjjAMAAAAAYDLCOAAAAAAAJiOMAwAAAABgMsI4AAAAAAAmI4wDAAAAAGAywjgAABXUjTfeqBMnTri0ffrpp+rRo4euueYaXXPNNWrcuLH69++vtWvXlmob3bp10969e8t9GQAAKho/TxcAAABKbv369XriiSdc2v7880999913ioqKkiRlZmYqKyvL2T937lytX79eCxYsUPPmzWWxWGQYhvbv368JEyZo3759evrpp53jV61apUcffVR169Z1tp06dUoLFizQkCFDJElZWVku29ixY4ceeOABl7qOHz+uTZs2qUOHDm6XAQCgMuLMOAAAV6AePXooLi7O+dqyZYt8fHwUGhpa4DLr1q3TM888oxYtWshisUiSLBaLmjdvrlmzZmnVqlUu448cOaJRo0bpwIEDztfo0aP15JNPqmnTpmratKn+85//uCxz8803u9S1du1aNWjQQK1atSr7LwEAgCsYYRwAgApg8uTJGjFihGrWrFngmKFDh+qpp57Sxo0blZKSIklKTU3Vpk2b9I9//EP3339/kduxWCyaMGGCM5y3bdu2wLGnT5/W0KFD9d577+ntt99WVFSUoqKi9OOPP5b48wEAUNEwTR0AgCvcsmXLtHHjRh05ckQzZ87UypUrJUn//e9/XcY99NBDstlsGjJkiCIiIpSSkqJq1aopMTFRL7/8soYOHVqs7SUlJSkuLk6S5HA43I45dOiQRowYoZycHC1fvlwvvviixo4dK0nq2rVrKT8pAAAVB2EcAIAr2Geffabp06fruuuu0yuvvKLp06dr+vTpkqSmTZvmG9+wYUO1bNlSmzdvdrb17t1b9evXL9b2DMPQ+vXr9dtvv0mSjh496tKfnp6u1157TcuWLdOHH36oxo0ba/z48WratKlef/11/c///E9pPyoAABUKYRwAgCtQVlaW5syZoxUrVmjr1q0KDQ3VXXfdpcGDB+uNN95QnTp1nGM3btyo77//XpIUHx+vI0eOaMaMGc7+X3/9VcuWLdM333wjSWrdurXuvPNORUREaPTo0froo4+cY//66y+9/fbb6t+/v6T8Z7m7deumLl266IcfflD16tUlSW+88YZ+/PFH+fhwdRwAAHkshmEYni4CAACUTLt27fS3v/1Nr7zyimrVqiVJys3N1csvv6yGDRvq7rvvVtOmTbV27Vrl5uYqPj6+2OuuV6+eGjVqVKyxXbt21fz589WmTRtJUnZ2tvz8Cv+tf+nSperZs6euuuqqYtcEAEBFw5lxAACuQF9++aVCQkJc2nx8fPTkk0/mG5v3THFJ2r59u95//33t3r1bZ86cUfXq1dWqVSvdd999io6Odrut8+fPy2q1FhmyJTnH9O7dW8eOHXM7platWurXr1+R6wIAoCLjzDgAAFew4cOHa/To0WrXrl2+vo8++kh9+vRRYGCgJGnBggV67733NGPGDN10002qVauWTp8+re+//17Tp0/XyJEjNW7cuHzruf/++9W7d2/ddddd+fri4uLUsGFDWa3WYtfcqVMnLViwQK1bty7BJwUAoGLhzDgAAFewv/76q8A7mg8ePNjl/YcffqhXX31VnTt3drbVrVtXffv2Va1atTRx4kS3YTw3N1e5ublutxEVFVXimv38/MS5AABAZcedVAAAuIJZLJZij+3evbteeOEFHThwwBmGDcPQ3r179dxzz6lbt26XvQ0AAFA8nBkHAOAKdv3112v48OHOO5df6oEHHtATTzwhSZo+fbreeecdjRo1yuWRZI0aNdLIkSM1bNgwt+to3LixnnjiCZc7sF/srrvu0qxZs0pUc40aNYo9HgCAiohrxgEAAAAAMBnT1AEAAAAAMBlhHAAAAAAAkxHGAQAAAAAwGWEcAAAAAACTEcYBAAAAADAZYRwAAAAAAJMRxgEAAAAAMBlhHAAAAAAAkxHGAQAAAAAw2f8HrOWTlvLCQ3wAAAAASUVORK5CYII=",
      "text/plain": [
       "<Figure size 1200x600 with 1 Axes>"
      ]
     },
     "metadata": {},
     "output_type": "display_data"
    }
   ],
   "source": [
    "# --- 10. 예측 오차 분석 (Error Analysis) (추가된 부분) ---\n",
>>>>>>> aabb52f7f46a15aeafec2a35a79392fb457251b6
    "\n",
    "if 'X_val' in locals():\n",
    "    logger.write(\">> 예측 오차 분석을 시작합니다...\")\n",
    "    X_val_analysis = X_val.copy()\n",
    "    X_val_analysis['target'] = y_val_split\n",
    "    X_val_analysis['pred'] = y_pred\n",
    "    X_val_analysis['error'] = (X_val_analysis['target'] - X_val_analysis['pred']) ** 2\n",
    "\n",
    "    # 오차가 큰 상위 100개와 작은 상위 100개 데이터 분리\n",
    "    error_top100 = X_val_analysis.sort_values(by='error', ascending=False).head(100)\n",
    "    best_top100 = X_val_analysis.sort_values(by='error', ascending=True).head(100)\n",
    "    \n",
    "    # '전용면적' 분포 비교 시각화\n",
    "    plt.figure(figsize=(12, 6))\n",
    "    # 수정: 컬럼명을 '전용면적(㎡)'에서 실제 데이터의 컬럼명인 '전용면적'으로 변경\n",
    "    sns.histplot(data=error_top100, x='전용면적', color='red', alpha=0.5, label='오차 상위 100')\n",
    "    sns.histplot(data=best_top100, x='전용면적', color='blue', alpha=0.5, label='오차 하위 100')\n",
    "    plt.title('예측 오차에 따른 전용면적 분포 비교')\n",
    "    plt.legend()\n",
    "    plt.show()"
   ]
  },
  {
   "cell_type": "code",
<<<<<<< HEAD
   "execution_count": null,
   "id": "hyperparameter-tuning",
   "metadata": {},
   "outputs": [],
   "source": [
    "# --- 12. 교차 검증 및 하이퍼파라미터 탐색 (강화된 버전) ---\n",
    "\n",
    "from sklearn.model_selection import KFold\n",
    "\n",
    "if 'X_train_raw' in locals():\n",
    "    # 표준 출력을 로그 파일로 리디렉션 시작\n",
    "    logger.start_redirect()\n",
    "    \n",
    "    try:\n",
    "        logger.write(\">> 강화된 교차 검증 및 하이퍼파라미터 탐색 시작\")\n",
    "        \n",
    "        # 1. 탐색 공간 확장\n",
    "        param_dist = {\n",
    "            'objective': ['regression_l1'],\n",
    "            'metric': ['rmse'],\n",
    "            'n_estimators': [1000, 1500, 2000],\n",
    "            'learning_rate': [0.01, 0.05],\n",
    "            'num_leaves': [31, 50, 70],\n",
    "            'max_depth': [10, 15, -1],\n",
    "            'subsample': [0.8, 0.9],\n",
    "            'colsample_bytree': [0.8, 0.9],\n",
    "            'random_state': [42],\n",
    "        }\n",
    "\n",
    "        rs = RandomizedSearchCV(\n",
    "            estimator=lgb.LGBMRegressor(device='cuda', random_state=42),\n",
    "            param_distributions=param_dist,\n",
    "            n_iter=10,  # 반복 횟수 증가\n",
    "            cv=3,       # 3-fold CV\n",
    "            scoring='neg_mean_squared_error',\n",
    "            verbose=1,\n",
    "            random_state=42,\n",
    "            n_jobs=-1\n",
    "        )\n",
    "        \n",
    "        \n",
    "        # 조기 종료 콜백 설정\n",
    "        # fit_params는 K-Fold 루프 내에서 사용\n",
    "        fit_params = {\n",
    "            \"eval_metric\": \"rmse\",\n",
    "            \"callbacks\": [lgb.early_stopping(stopping_rounds=50, verbose=False)]\n",
    "        }\n",
    "        \n",
    "        # 2. 전체 훈련 데이터로 fit 수행 (오류 수정: X_train -> X_train_raw)\n",
    "        # RandomizedSearchCV는 자체적으로 CV를 수행하므로 전체 데이터를 넣습니다.\n",
    "        # 이 단계에서 조기 종료를 직접 적용하기는 복잡하므로, K-Fold 루프에서 적용합니다.\n",
    "        rs.fit(X_train_raw, y_train)\n",
    "        best_params = rs.best_params_\n",
    "        logger.write(f\">> 최적 파라미터: {best_params}\")\n",
    "\n",
    "        # 3. K-Fold 교차 검증으로 성능 재평가\n",
    "        logger.write(\">> K-Fold 교차 검증으로 최종 모델 성능 평가\")\n",
    "        kf = KFold(n_splits=5, shuffle=True, random_state=42)\n",
    "        test_preds = np.zeros(X_test_raw.shape[0])\n",
    "        rmse_scores = []\n",
    "        \n",
    "        # OOF(Out-of-Fold) 예측값 저장을 위한 배열 초기화\n",
    "        oof_preds = np.zeros(X_train_raw.shape[0])\n",
    "\n",
    "        # 오류 수정: kf.split(X_train) -> kf.split(X_train_raw)\n",
    "        for fold, (train_idx, val_idx) in enumerate(kf.split(X_train_raw)):\n",
    "            X_train_fold, X_val_fold = X_train_raw.iloc[train_idx], X_train_raw.iloc[val_idx]\n",
    "            y_train_fold, y_val_fold = y_train.iloc[train_idx], y_train.iloc[val_idx]\n",
    "\n",
    "            model = lgb.LGBMRegressor(device='cuda', **best_params)\n",
    "            \n",
    "            logger.write(f\"--- Fold {fold+1} 학습 시작 ---\")\n",
    "            model.fit(X_train_fold, y_train_fold,\n",
    "                    eval_set=[(X_val_fold, y_val_fold)],\n",
    "                    **fit_params)\n",
    "\n",
    "            val_preds = model.predict(X_val_fold)\n",
    "            rmse = np.sqrt(mean_squared_error(y_val_fold, val_preds))\n",
    "            rmse_scores.append(rmse)\n",
    "            logger.write(f\"Fold {fold+1} RMSE: {rmse:.4f}\")\n",
    "            \n",
    "            # 테스트 데이터 예측값 누적 (오류 수정: X_test -> X_test_raw)\n",
    "            test_preds += model.predict(X_test_raw) / kf.get_n_splits()\n",
    "\n",
    "        # =========================================================\n",
    "        # ▼▼▼ 최종 RMSE를 계산하고 출력하는 부분 ▼▼▼\n",
    "        # =========================================================\n",
    "        avg_rmse = np.mean(rmse_scores)\n",
    "        logger.write(f\"-------------------------------------------\")\n",
    "        logger.write(f\">> 최종 CV 평균 RMSE: {avg_rmse:.4f}\")\n",
    "        logger.write(f\"-------------------------------------------\")\n",
    "        \n",
    "        # 최종 모델로 전체 데이터 학습\n",
    "        best_model = lgb.LGBMRegressor(device='cuda', **best_params)\n",
    "        best_model.fit(X_train_raw, y_train)\n",
    "\n",
    "    except Exception as e:\n",
    "        logger.write(f\">> [오류] 하이퍼파라미터 탐색 중 문제 발생: {e}\", print_error=True)\n",
    "        \n",
    "    finally:\n",
    "        # 표준 출력을 원래대로 복구\n",
    "        logger.stop_redirect()"
   ]
  },
  {
   "cell_type": "code",
   "execution_count": null,
   "id": "final-prediction-merged",
   "metadata": {},
   "outputs": [],
   "source": [
    "# --- 13. 최종 예측 및 제출 파일 생성 (병합 및 강화된 부분) ---\n",
    "\n",
    "if 'best_model' in locals():\n",
    "    logger.write(\"\\n>> 최종 모델 학습(최적 파라미터 사용) 및 제출 파일 생성을 시작합니다...\")\n",
    "    \n",
    "    try:\n",
    "        joblib.dump(best_model, MODEL_PATH)\n",
    "        logger.write(f\">> 모델 저장 완료: {MODEL_FILENAME}\")\n",
    "\n",
    "        # 테스트 예측 및 제출 파일 생성\n",
    "        final_preds = best_model.predict(X_test_raw)\n",
    "\n",
    "        try:\n",
    "            sub_df = pd.read_csv(SUBMISSION_PATH)\n",
    "            sub_df['target'] = final_preds\n",
    "            sub_df['target'] = sub_df['target'].astype(int)\n",
    "            sub_df.to_csv(SUBMISSION_PATH, index=False)\n",
    "            \n",
    "        except FileNotFoundError:\n",
    "            logger.write(f\">> '{SUBMISSION_FILENAME}' 파일을 찾을 수 없어 새로 생성합니다.\", print_error=True)\n",
    "            submission_df = pd.DataFrame({'target': final_preds})\n",
    "            submission_df.to_csv(SUBMISSION_PATH, index=False)\n",
    "            \n",
    "        logger.write(f\">> 제출 파일 '{SUBMISSION_PATH}' 생성 완료.\")\n",
    "        \n",
=======
   "execution_count": 69,
   "id": "95aee9dd",
   "metadata": {},
   "outputs": [
    {
     "name": "stdout",
     "output_type": "stream",
     "text": [
      "2025-07-14 08:07:30 | \n",
      ">> 최종 모델 학습 및 제출 파일 생성을 시작합니다...\n",
      "[LightGBM] [Info] Auto-choosing row-wise multi-threading, the overhead of testing was 0.020100 seconds.\n",
      "You can set `force_row_wise=true` to remove the overhead.\n",
      "And if memory is not enough, you can set `force_col_wise=true`.\n",
      "[LightGBM] [Info] Total Bins 3042\n",
      "[LightGBM] [Info] Number of data points in the train set: 1097842, number of used features: 29\n",
      "[LightGBM] [Info] Start training from score 57571.638850\n",
      "2025-07-14 08:07:31 | >> 제출 파일 '../../data/processed/submissions/price_prediction_submission.csv' 생성 완료.\n",
      "2025-07-14 08:07:31 | >> 모델링 종료\n",
      "2025-07-14 08:07:31 | ==================================================\n",
      "\n"
     ]
    }
   ],
   "source": [
    "# --- 11. 최종 예측 및 제출 파일 생성 ---\n",
    "if 'X_train_raw' in locals():\n",
    "    logger.write(\"\\n>> 최종 모델 학습 및 제출 파일 생성을 시작합니다...\")\n",
    "    try:\n",
    "        # 전체 학습 데이터로 최종 모델 재학습\n",
    "        final_model = lgb.LGBMRegressor(random_state=42)\n",
    "        final_model.fit(X_train_raw, y_train)\n",
    "        \n",
    "        # 테스트 데이터에 대한 예측 수행\n",
    "        final_predictions = final_model.predict(X_test_raw)\n",
    "        \n",
    "        # 제출 파일 생성\n",
    "        try:\n",
    "            sample_submission_df = pd.read_csv(SUBMISSION_PATH)\n",
    "            sample_submission_df['target'] = final_predictions\n",
    "            sample_submission_df.to_csv(SUBMISSION_PATH, index=False)\n",
    "        except FileNotFoundError:\n",
    "            logger.write(\">> sample_submission.csv 파일을 찾을 수 없어 새로 생성합니다.\", print_error=True)\n",
    "            submission_df = pd.DataFrame({'target': final_predictions})\n",
    "            submission_df.to_csv(SUBMISSION_PATH, index=False)\n",
    "            \n",
    "        logger.write(f\">> 제출 파일 '{SUBMISSION_PATH}' 생성 완료.\")\n",
>>>>>>> aabb52f7f46a15aeafec2a35a79392fb457251b6
    "    except Exception as e:\n",
    "        logger.write(f\">> [오류] 최종 예측 및 제출 파일 생성 중 문제 발생: {e}\", print_error=True)\n",
    "    \n",
    "    logger.write(\">> 모델링 종료\")\n",
<<<<<<< HEAD
    "    logger.write(\"=\"*50 + \"\\n\")\n",
    "    \n",
    "    # 스크립트 종료 시 로그 파일 닫기\n",
    "    logger.close()"
=======
    "    logger.write(\"=\"*50 + \"\\n\")"
>>>>>>> aabb52f7f46a15aeafec2a35a79392fb457251b6
   ]
  }
 ],
 "metadata": {
  "kernelspec": {
   "display_name": "house_price_predict_py3_11_9",
   "language": "python",
   "name": "python3"
  },
  "language_info": {
   "codemirror_mode": {
    "name": "ipython",
    "version": 3
   },
   "file_extension": ".py",
   "mimetype": "text/x-python",
   "name": "python",
   "nbconvert_exporter": "python",
   "pygments_lexer": "ipython3",
   "version": "3.11.9"
  }
 },
 "nbformat": 4,
 "nbformat_minor": 5
}
