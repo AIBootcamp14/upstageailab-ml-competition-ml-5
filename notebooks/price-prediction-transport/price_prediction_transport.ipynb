{
 "cells": [
  {
   "cell_type": "code",
   "execution_count": 20,
   "id": "c6280e21",
   "metadata": {},
   "outputs": [],
   "source": [
    "# --- 1. 라이브러리 및 모듈 임포트 ---\n",
    "\n",
    "# 데이터 처리 라이브러리\n",
    "import pandas as pd\n",
    "import numpy as np\n",
    "\n",
    "# 머신러닝 모델 및 평가 도구\n",
    "import lightgbm as lgb\n",
    "from sklearn.model_selection import train_test_split\n",
    "from sklearn.preprocessing import LabelEncoder\n",
    "from sklearn.metrics import mean_squared_error\n",
    "\n",
    "# 시스템 및 경로 관련 라이브러리\n",
    "import sys\n",
    "import os\n",
    "from datetime import datetime\n",
    "import warnings\n",
    "\n",
    "# 경고 메시지 무시\n",
    "warnings.filterwarnings('ignore')"
   ]
  },
  {
   "cell_type": "code",
   "execution_count": 21,
   "id": "b163beac",
   "metadata": {},
   "outputs": [
    {
     "name": "stdout",
     "output_type": "stream",
     "text": [
      "Logger 모듈 로드 성공.\n"
     ]
    }
   ],
   "source": [
    "# --- 2. 경로 설정 및 커스텀 로거 임포트 ---\n",
    "\n",
    "# 현재 노트북 파일의 위치를 기준으로 프로젝트 루트 경로를 설정합니다.\n",
    "# (예: notebooks 폴더에 있다면 ../../src 가 맞습니다)\n",
    "try:\n",
    "    src_path = os.path.abspath(os.path.join(os.getcwd(), \"../../src/log\"))\n",
    "    sys.path.insert(0, src_path)\n",
    "    from logger import Logger\n",
    "    print(\"Logger 모듈 로드 성공.\")\n",
    "except ImportError:\n",
    "    print(\"[오류] Logger 모듈을 찾을 수 없습니다. src/log/logger.py 경로를 확인해주세요.\")\n",
    "    # Logger가 없어도 코드가 중단되지 않도록 임시 클래스 정의\n",
    "    class Logger:\n",
    "        def __init__(self, *args, **kwargs): pass\n",
    "        def write(self, message, **kwargs): print(message)"
   ]
  },
  {
   "cell_type": "code",
   "execution_count": null,
   "id": "ac30b43c",
   "metadata": {},
   "outputs": [
    {
     "name": "stdout",
     "output_type": "stream",
     "text": [
      "2025-07-14 06:26:19 | ==================================================\n",
      "2025-07-14 06:26:19 | >> 아파트 가격 예측 모델링 시작\n"
     ]
    }
   ],
   "source": [
    "# --- 3. 로거 및 경로 초기화 ---\n",
    "\n",
    "# 로그 파일이 저장될 경로 설정\n",
    "timestamp = datetime.now().strftime(\"%Y%m%d_%H%M%S\")\n",
    "LOG_DIR         = '../../data/logs/price_prediction_transport_logs'\n",
    "LOG_FILENAME    = f\"price_prediction_transport_{timestamp}.log\"\n",
    "LOG_PATH        = os.path.join(LOG_DIR, LOG_FILENAME)\n",
    "\n",
    "# Directory 생성\n",
    "os.makedirs(LOG_DIR, exist_ok=True)\n",
    "\n",
    "# Logger 인스턴스 생성\n",
    "logger = Logger(log_path=LOG_PATH)\n",
    "\n",
    "# 데이터 및 제출 파일 경로 설정\n",
    "DATA_PATH = '../../data/processed/cleaned_data/test_clean.csv'\n",
    "SUBMISSION_DIR = '../../data/processed/submissions'\n",
    "SUBMISSION_FILENAME = 'price_prediction_submission.csv'\n",
    "SUBMISSION_PATH = os.path.join(SUBMISSION_DIR, SUBMISSION_FILENAME)\n",
    "\n",
    "logger.write(\"=\"*50)\n",
    "logger.write(\">> 아파트 가격 예측 모델링 시작\")"
   ]
  },
  {
   "cell_type": "code",
   "execution_count": 23,
   "id": "38a77b4f",
   "metadata": {},
   "outputs": [
    {
     "name": "stdout",
     "output_type": "stream",
     "text": [
      "2025-07-14 06:26:19 | >> 정제된 Train/Test 데이터를 로드합니다...\n",
      "2025-07-14 06:26:23 | >> 데이터 로드 및 병합 완료.\n"
     ]
    }
   ],
   "source": [
    "# --- 4. 데이터 로드 ---\n",
    "\n",
    "logger.write(\">> 정제된 Train/Test 데이터를 로드합니다...\")\n",
    "try:\n",
    "    # 학습 데이터와 테스트 데이터를 각각 로드\n",
    "    train_df_clean = pd.read_csv('../../data/processed/cleaned_data/train_clean.csv')\n",
    "    test_df_clean = pd.read_csv('../../data/processed/cleaned_data/test_clean.csv')\n",
    "    \n",
    "    # 두 데이터를 합치기 전에 isTest 컬럼으로 구분\n",
    "    train_df_clean['isTest'] = 0\n",
    "    test_df_clean['isTest'] = 1\n",
    "    \n",
    "    # 하나의 데이터프레임으로 합침\n",
    "    df = pd.concat([train_df_clean, test_df_clean])\n",
    "    \n",
    "    logger.write(\">> 데이터 로드 및 병합 완료.\")\n",
    "except FileNotFoundError:\n",
    "    logger.write(f\">> [오류] train_clean.csv 또는 test_clean.csv 파일을 찾을 수 없습니다.\", print_error=True)\n",
    "    df = None"
   ]
  },
  {
   "cell_type": "code",
   "execution_count": 24,
   "id": "266f817b",
   "metadata": {},
   "outputs": [
    {
     "name": "stdout",
     "output_type": "stream",
     "text": [
      "2025-07-14 06:26:24 | >> Train/Test 데이터 분리 완료.\n",
      "2025-07-14 06:26:24 | >> 예측에 사용할 피처 개수: 28개\n",
      "2025-07-14 06:26:24 | >> 범주형 피처: ['계약일자', '자치구', '법정동', '브랜드등급', '지하철최단거리', '반경_1km_지하철역_수', '반경_500m_지하철역_수', '반경_300m_지하철역_수', '버스최단거리', '반경_1km_버스정류장_수', '반경_500m_버스정류장_수', '반경_300m_버스정류장_수']\n"
     ]
    }
   ],
   "source": [
    "# --- 5. 피처 선택 및 데이터 분리 ---\n",
    "\n",
    "if df is not None:\n",
    "    try:\n",
    "        # isTest 컬럼을 사용해 train/test 데이터 분리\n",
    "        train_df = df[df['isTest'] == 0].copy()\n",
    "        test_df = df[df['isTest'] == 1].copy()\n",
    "        logger.write(\">> Train/Test 데이터 분리 완료.\")\n",
    "\n",
    "        # 예측에 사용할 피처(X)와 타겟(y) 정의\n",
    "        features = [col for col in df.columns if col not in ['isTest', 'target']]\n",
    "        \n",
    "        X_train_raw = train_df[features]\n",
    "        y_train = train_df['target']\n",
    "        X_test_raw = test_df[features]\n",
    "\n",
    "        # 범주형(object) 피처 자동 탐지\n",
    "        categorical_features = X_train_raw.select_dtypes(include=['object']).columns.tolist()\n",
    "        \n",
    "        logger.write(f\">> 예측에 사용할 피처 개수: {len(features)}개\")\n",
    "        logger.write(f\">> 범주형 피처: {categorical_features}\")\n",
    "    except Exception as e:\n",
    "        logger.write(f\">> [오류] 피처 선택 및 데이터 분리 중 문제 발생: {e}\", print_error=True)"
   ]
  },
  {
   "cell_type": "code",
   "execution_count": 25,
   "id": "d58ddf5f",
   "metadata": {},
   "outputs": [
    {
     "name": "stdout",
     "output_type": "stream",
     "text": [
      "2025-07-14 06:26:25 | >> 범주형 피처 Label Encoding 완료.\n"
     ]
    }
   ],
   "source": [
    "# --- 6. 범주형 피처 인코딩 ---\n",
    "\n",
    "if 'X_train_raw' in locals():\n",
    "    try:\n",
    "        # LabelEncoder를 사용하여 각 범주형 피처를 수치로 변환\n",
    "        label_encoders = {}\n",
    "        for col in categorical_features:\n",
    "            le = LabelEncoder()\n",
    "            all_categories = pd.concat([X_train_raw[col], X_test_raw[col]]).astype(str).unique()\n",
    "            le.fit(all_categories)\n",
    "            \n",
    "            X_train_raw[col] = le.transform(X_train_raw[col].astype(str))\n",
    "            X_test_raw[col] = le.transform(X_test_raw[col].astype(str))\n",
    "            label_encoders[col] = le\n",
    "        logger.write(\">> 범주형 피처 Label Encoding 완료.\")\n",
    "    except Exception as e:\n",
    "        logger.write(f\">> [오류] 범주형 피처 인코딩 중 문제 발생: {e}\", print_error=True)"
   ]
  },
  {
   "cell_type": "code",
   "execution_count": 26,
   "id": "e9bf52c5",
   "metadata": {},
   "outputs": [
    {
     "name": "stdout",
     "output_type": "stream",
     "text": [
      "2025-07-14 06:26:26 | >> LightGBM 모델 학습을 시작합니다...\n",
      "[LightGBM] [Info] Auto-choosing row-wise multi-threading, the overhead of testing was 0.009519 seconds.\n",
      "You can set `force_row_wise=true` to remove the overhead.\n",
      "And if memory is not enough, you can set `force_col_wise=true`.\n",
      "[LightGBM] [Info] Total Bins 3111\n",
      "[LightGBM] [Info] Number of data points in the train set: 878273, number of used features: 28\n",
      "[LightGBM] [Info] Start training from score 57582.439147\n",
      "2025-07-14 06:26:27 | >> 모델 학습 완료. Validation RMSE: 12749.2160\n",
      "2025-07-14 06:26:27 | >> 상위 10개 피처 중요도:\n",
      "2025-07-14 06:26:27 | 전용면적              511\n",
      "연식                335\n",
      "법정동               263\n",
      "자치구               256\n",
      "계약일자              178\n",
      "성비(남/여)           170\n",
      "지하철최단거리           145\n",
      "총인구수              141\n",
      "반경_1km_버스정류장_수    128\n",
      "아파트이름길이           120\n",
      "dtype: int32\n"
     ]
    }
   ],
   "source": [
    "# --- 7. 모델 학습 및 평가 ---\n",
    "\n",
    "if 'X_train_raw' in locals():\n",
    "    try:\n",
    "        # 학습 데이터를 다시 train/validation 세트로 분리\n",
    "        X_train, X_val, y_train_split, y_val_split = train_test_split(\n",
    "            X_train_raw, y_train, test_size=0.2, random_state=42\n",
    "        )\n",
    "\n",
    "        # LightGBM 모델 학습\n",
    "        logger.write(\">> LightGBM 모델 학습을 시작합니다...\")\n",
    "        lgbm = lgb.LGBMRegressor(random_state=42)\n",
    "        lgbm.fit(X_train, y_train_split)\n",
    "\n",
    "        # 검증 데이터셋에 대한 예측 및 성능 평가\n",
    "        y_pred = lgbm.predict(X_val)\n",
    "        rmse = np.sqrt(mean_squared_error(y_val_split, y_pred))\n",
    "        logger.write(f\">> 모델 학습 완료. Validation RMSE: {rmse:.4f}\")\n",
    "\n",
    "        # 피처 중요도 확인\n",
    "        feature_importances = pd.Series(lgbm.feature_importances_, index=features)\n",
    "        logger.write(\">> 상위 10개 피처 중요도:\")\n",
    "        logger.write(str(feature_importances.sort_values(ascending=False).head(10)))\n",
    "    except Exception as e:\n",
    "        logger.write(f\">> [오류] 모델 학습 및 평가 중 문제 발생: {e}\", print_error=True)\n"
   ]
  },
  {
   "cell_type": "code",
   "execution_count": null,
   "id": "95aee9dd",
   "metadata": {},
   "outputs": [
    {
     "name": "stdout",
     "output_type": "stream",
     "text": [
      "2025-07-14 06:26:27 | \n",
      ">> 최종 모델 학습 및 제출 파일 생성을 시작합니다...\n",
      "[LightGBM] [Info] Auto-choosing row-wise multi-threading, the overhead of testing was 0.016775 seconds.\n",
      "You can set `force_row_wise=true` to remove the overhead.\n",
      "And if memory is not enough, you can set `force_col_wise=true`.\n",
      "[LightGBM] [Info] Total Bins 3109\n",
      "[LightGBM] [Info] Number of data points in the train set: 1097842, number of used features: 28\n",
      "[LightGBM] [Info] Start training from score 57571.638850\n",
      "2025-07-14 06:26:28 | >> 제출 파일 '../../data/processed/submissions/test_submission.csv' 생성 완료.\n",
      "2025-07-14 06:26:28 | >> 모델링 종료\n",
      "2025-07-14 06:26:28 | ==================================================\n",
      "\n"
     ]
    }
   ],
   "source": [
    "# --- 8. 최종 예측 및 제출 파일 생성 ---\n",
    "if 'X_train_raw' in locals():\n",
    "    logger.write(\"\\n>> 최종 모델 학습 및 제출 파일 생성을 시작합니다...\")\n",
    "    try:\n",
    "        # 전체 학습 데이터로 최종 모델 재학습\n",
    "        final_model = lgb.LGBMRegressor(random_state=42)\n",
    "        final_model.fit(X_train_raw, y_train)\n",
    "        \n",
    "        # 테스트 데이터에 대한 예측 수행\n",
    "        final_predictions = final_model.predict(X_test_raw)\n",
    "        \n",
    "        # 제출 파일 생성\n",
    "        try:\n",
    "            sample_submission_df = pd.read_csv(SUBMISSION_PATH)\n",
    "            sample_submission_df['target'] = final_predictions\n",
    "            sample_submission_df.to_csv(SUBMISSION_PATH, index=False)\n",
    "        except FileNotFoundError:\n",
    "            logger.write(\">> sample_submission.csv 파일을 찾을 수 없어 새로 생성합니다.\", print_error=True)\n",
    "            submission_df = pd.DataFrame({'target': final_predictions})\n",
    "            submission_df.to_csv(SUBMISSION_PATH, index=False)\n",
    "            \n",
    "        logger.write(f\">> 제출 파일 '{SUBMISSION_PATH}' 생성 완료.\")\n",
    "    except Exception as e:\n",
    "        logger.write(f\">> [오류] 최종 예측 및 제출 파일 생성 중 문제 발생: {e}\", print_error=True)\n",
    "    \n",
    "    logger.write(\">> 모델링 종료\")\n",
    "    logger.write(\"=\"*50 + \"\\n\")"
   ]
  }
 ],
 "metadata": {
  "kernelspec": {
   "display_name": "house_price_predict_py3_11_9",
   "language": "python",
   "name": "python3"
  },
  "language_info": {
   "codemirror_mode": {
    "name": "ipython",
    "version": 3
   },
   "file_extension": ".py",
   "mimetype": "text/x-python",
   "name": "python",
   "nbconvert_exporter": "python",
   "pygments_lexer": "ipython3",
   "version": "3.11.9"
  }
 },
 "nbformat": 4,
 "nbformat_minor": 5
}
