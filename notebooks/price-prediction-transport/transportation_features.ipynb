{
 "cells": [
  {
   "cell_type": "code",
   "execution_count": null,
   "id": "15d2bbf7",
   "metadata": {},
   "outputs": [],
   "source": [
    "# 1: 라이브러리 불러오기\n",
    "import pandas as pd\n",
    "import os\n",
    "\n",
    "# 2: 원본 CSV 파일 로드\n",
    "# ../../data/raw/test.csv 에서 필요한 컬럼만 읽기\n",
    "test_df = pd.read_csv('../../data/raw/test.csv', usecols=[\n",
    "    '시군구', '도로명', '번지', '아파트명', '좌표X', '좌표Y'\n",
    "])\n",
    "\n",
    "# 3: 교통 특성 CSV 파일 로드\n",
    "# ../../data/raw/test_transportation_features.csv 에서 필요한 컬럼만 읽기\n",
    "trans_df = pd.read_csv('../../data/processed/transportation-features/test_transportation_features.csv', usecols=[\n",
    "    '지하철최단거리',\n",
    "    '반경_1km_지하철역_수',\n",
    "    '반경_500m_지하철역_수',\n",
    "    '반경_300m_지하철역_수',\n",
    "    '버스최단거리',\n",
    "    '반경_1km_버스정류장_수',\n",
    "    '반경_500m_버스정류장_수',\n",
    "    '반경_300m_버스정류장_수'\n",
    "])"
   ]
  },
  {
   "cell_type": "code",
   "execution_count": null,
   "id": "714c0a60",
   "metadata": {},
   "outputs": [
    {
     "name": "stdout",
     "output_type": "stream",
     "text": [
      "저장 완료: ../../data/processed/transportation-features/test_transportation.csv\n"
     ]
    }
   ],
   "source": [
    "# 4: 두 데이터프레임 병합\n",
    "# 인덱스를 기준으로 가로 방향으로 결합\n",
    "test_transportation_df = pd.concat([test_df, trans_df], axis=1)\n",
    "\n",
    "# 5: 저장 경로 디렉토리 생성\n",
    "output_dir = '../../data/processed/transportation-features'\n",
    "os.makedirs(output_dir, exist_ok=True)\n",
    "\n",
    "# 6: CSV로 저장\n",
    "output_path = os.path.join(output_dir, 'test_transportation.csv')\n",
    "test_transportation_df.to_csv(output_path, index=False)\n",
    "\n",
    "# (선택) 저장 완료 메시지 출력\n",
    "print(f\"저장 완료: {output_path}\")"
   ]
  }
 ],
 "metadata": {
  "kernelspec": {
   "display_name": "house_price_predict_py3_11_9",
   "language": "python",
   "name": "python3"
  },
  "language_info": {
   "codemirror_mode": {
    "name": "ipython",
    "version": 3
   },
   "file_extension": ".py",
   "mimetype": "text/x-python",
   "name": "python",
   "nbconvert_exporter": "python",
   "pygments_lexer": "ipython3",
   "version": "3.11.9"
  }
 },
 "nbformat": 4,
 "nbformat_minor": 5
}
