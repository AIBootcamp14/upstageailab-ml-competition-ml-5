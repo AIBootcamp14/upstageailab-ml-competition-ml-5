{
 "cells": [
  {
   "cell_type": "code",
   "execution_count": 5,
   "id": "546729a7",
   "metadata": {},
   "outputs": [
    {
     "name": "stdout",
     "output_type": "stream",
     "text": [
      "Requirement already satisfied: python-dotenv in /home/ieyeppo/.pyenv/versions/3.11.9/envs/house_price_predict_py3_11_9/lib/python3.11/site-packages (1.1.1)\n"
     ]
    }
   ],
   "source": [
    "# --- 1. 라이브러리 설치 및 임포트 ---\n",
    "\n",
    "# .env 파일을 사용하기 위한 라이브러리를 설치합니다.\n",
    "!pip install python-dotenv\n",
    "\n",
    "import pandas as pd\n",
    "import requests\n",
    "import time\n",
    "from tqdm import tqdm\n",
    "import os\n",
    "from dotenv import load_dotenv # .env 파일을 읽기 위한 라이브러리\n",
    "\n",
    "# tqdm 라이브러리와 pandas의 연동을 설정합니다.\n",
    "tqdm.pandas()"
   ]
  },
  {
   "cell_type": "code",
   "execution_count": 20,
   "id": "4d3b07fc",
   "metadata": {},
   "outputs": [],
   "source": [
    "# --- 2. 오류 메시지 출력 함수 ---\n",
    "def print_error(text):\n",
    "    # ANSI 이스케이프 코드: '\\033[91m'는 빨간색, '\\033[0m'는 색상 리셋\n",
    "    print(f\"\\033[91m{text}\\033[0m\")"
   ]
  },
  {
   "cell_type": "code",
   "execution_count": null,
   "id": "867866b2",
   "metadata": {},
   "outputs": [
    {
     "name": "stdout",
     "output_type": "stream",
     "text": [
      "총 10개의 API 키 로드 완료.\n"
     ]
    }
   ],
   "source": [
    "# --- 3. .env 파일에서 API 키 로드 ---\n",
    "\n",
    "# .env 파일에 정의된 환경 변수를 현재 세션으로 로드합니다.\n",
    "load_dotenv()\n",
    "\n",
    "# API 키 관리를 위한 전역 변수\n",
    "key_idx = 0\n",
    "all_keys_exhausted = False\n",
    "\n",
    "# KAKAO_REST_API_KEY1부터 KAKAO_REST_API_KEY10까지의 키를 저장할 리스트\n",
    "KAKAO_KEYS = []\n",
    "\n",
    "# 여러 개의 API 키를 리스트로 불러오기\n",
    "for i in range(1, 11):  # 최대 10개 지원 (필요시 숫자 변경)\n",
    "    # os.getenv() 함수를 사용하여 \"KAKAO_REST_API_KEY\" 라는 이름의 환경 변수 값을 가져옵니다.\n",
    "    key = os.getenv(f\"KAKAO_REST_API_KEY{i}\")\n",
    "    if key: KAKAO_KEYS.append(key)\n",
    "\n",
    "if not KAKAO_KEYS:\n",
    "    print_error(\"[오류] '.env 파일에 KAKAO_REST_API_KEY1~N 형식으로 키가 필요합니다.\")\n",
    "else:\n",
    "    print(f\"총 {len(KAKAO_KEYS)}개의 API 키 로드 완료.\")"
   ]
  },
  {
   "cell_type": "code",
   "execution_count": null,
   "id": "4b55be0b",
   "metadata": {},
   "outputs": [
    {
     "name": "stdout",
     "output_type": "stream",
     "text": [
      "'../data/raw/train.csv'에서 원본 데이터를 로드합니다...\n",
      "데이터 로드 완료.\n"
     ]
    }
   ],
   "source": [
    "# --- 4. 경로 설정 및 데이터 로드 ---\n",
    "\n",
    "# 원본 학습 데이터 경로 지정\n",
    "TRAIN_DATA_PATH = '../data/processed/train_geocoded.csv'\n",
    "\n",
    "# 처리된 데이터가 저장될 디렉토리 경로\n",
    "OUTPUT_DIR = '../data/processed/'\n",
    "\n",
    "# 도로명 주소가 없는 행을 저장할 파일명\n",
    "NO_ADDRESS_FILENAME = 'missing_address_rows.csv'\n",
    "\n",
    "# 중간 저장 체크포인트 파일명\n",
    "CHECKPOINT_FILENAME = 'train_geocoded_checkpoint.csv'\n",
    "\n",
    "# 최종 결과 파일명\n",
    "FINAL_FILENAME = 'train_geocoded.csv'\n",
    "\n",
    "# 각 파일의 전체 경로 구성\n",
    "NO_ADDRESS_PATH = os.path.join(OUTPUT_DIR, NO_ADDRESS_FILENAME)\n",
    "CHECKPOINT_PATH = os.path.join(OUTPUT_DIR, CHECKPOINT_FILENAME)\n",
    "FINAL_PATH = os.path.join(OUTPUT_DIR, FINAL_FILENAME)\n",
    "\n",
    "# 데이터 로드 시작 메시지 출력\n",
    "print(f\"'{TRAIN_DATA_PATH}'에서 원본 데이터를 로드합니다...\")\n",
    "\n",
    "try:\n",
    "    # 원본 CSV 파일을 pandas로 읽어옴\n",
    "    train_df = pd.read_csv(TRAIN_DATA_PATH, low_memory=False)\n",
    "    print(\"데이터 로드 완료.\")\n",
    "except FileNotFoundError:\n",
    "    # 파일이 존재하지 않을 경우 예외 처리\n",
    "    print_error(f\"오류: ''except FileNotFoundError:' / '{TRAIN_DATA_PATH}' 파일을 찾을 수 없습니다.\")\n",
    "    train_df = None"
   ]
  },
  {
   "cell_type": "code",
   "execution_count": 35,
   "id": "64967027",
   "metadata": {},
   "outputs": [],
   "source": [
    "# --- 5. 지오코딩 및 주소 생성 함수 정의 ---\n",
    "\n",
    "# 주어진 주소와 API 키 인덱스를 이용해 좌표(X, Y)를 요청\n",
    "def get_coordinates(address, key_index):\n",
    "    # 현재 사용할 카카오 API 키 선택\n",
    "    api_key = KAKAO_KEYS[key_index]\n",
    "    \n",
    "    # 카카오 주소 검색 API URL 구성\n",
    "    url = f\"https://dapi.kakao.com/v2/local/search/address.json?query={address}\"\n",
    "    \n",
    "    # 요청 헤더에 API 키 추가\n",
    "    headers = {\"Authorization\": f\"KakaoAK {api_key}\"}\n",
    "\n",
    "    try:\n",
    "        # API에 GET 요청을 보내고 응답을 받음\n",
    "        response = requests.get(url, headers=headers)\n",
    "        \n",
    "        # 응답 상태 코드가 200(성공)이 아닐 경우 예외 발생\n",
    "        response.raise_for_status()\n",
    "        \n",
    "        # JSON 형식으로 응답 데이터 파싱\n",
    "        data = response.json()\n",
    "\n",
    "        # 주소 정보가 존재할 경우 첫 번째 결과의 좌표 반환\n",
    "        if data['documents']:\n",
    "            return float(data['documents'][0]['x']), float(data['documents'][0]['y'])\n",
    "        \n",
    "        # 주소 정보가 없을 경우 None 반환\n",
    "        else:\n",
    "            # [추가된 부분] API 검색 결과가 없는 경우 원인 출력\n",
    "            print_error('def get_coordinates(address, key_index): 주소 정보 존재여부 체크')\n",
    "            print_error(f\"  [실패] API 검색 결과 없음: '{address}'\")\n",
    "            return None\n",
    "\n",
    "    # HTTP 오류가 발생했을 경우\n",
    "    except requests.exceptions.HTTPError as e:\n",
    "        # API 사용량 초과(429) 또는 권한 없음(403)일 경우 키 교체 지시\n",
    "        if e.response.status_code == 429 or e.response.status_code == 403:\n",
    "            return \"CHANGE_KEY\"\n",
    "        \n",
    "        print_error('def get_coordinates(address, key_index): / except requests.exceptions.HTTPError')\n",
    "        print(f\"  [실패] API 요청 실패 (HTTP 오류): {e}, 주소: '{address}'\")\n",
    "        \n",
    "        # 기타 오류는 None 반환\n",
    "        return None\n",
    "    \n",
    "    except (requests.exceptions.ConnectionError, requests.exceptions.Timeout):\n",
    "        # 네트워크 오류 발생 시 메시지 출력 후 재시도 지시\n",
    "        print_error('def get_coordinates(address, key_index): / except (requests.exceptions.ConnectionError, requests.exceptions.Timeout)')\n",
    "        print_error(f\"[네트워크 오류] 인터넷 연결이 끊겼거나 응답 시간이 초과되었습니다. 주소: '{address}'\")\n",
    "        time.sleep(5)  # 잠시 대기\n",
    "        return \"RETRY\"\n",
    "    \n",
    "    # 그 외 예외 상황도 모두 None 반환\n",
    "    except Exception as e:\n",
    "        print_error('5. 지오코딩 및 주소 생성 함수 정의')\n",
    "        print_error('except Exception as e:')\n",
    "        print(f\"  [실패] 알 수 없는 오류 발생: {e}, 주소: '{address}'\")\n",
    "        return None  \n",
    "\n",
    "# 여러 API 키를 순환하며 지오코딩을 시도하는 함수\n",
    "def geocode_with_key_rotation(address):\n",
    "    # 전역 변수로 선언된 key_idx 사용\n",
    "    global key_idx, all_keys_exhausted\n",
    "    \n",
    "    # 주소가 결측치일 경우 None 반환\n",
    "    if pd.isnull(address):\n",
    "        return None\n",
    "\n",
    "    # 현재 키 인덱스를 저장 (한 바퀴 돌았는지 확인용)\n",
    "    start_key_idx = key_idx\n",
    "    \n",
    "    # 네트워크 오류 재시도 횟수 초기화\n",
    "    retry_attempts = 0\n",
    "\n",
    "    while True:\n",
    "        # 현재 키로 지오코딩 시도\n",
    "        result = get_coordinates(address, key_idx)\n",
    "\n",
    "        # API 키 변경이 필요한 경우\n",
    "        if result == \"CHANGE_KEY\":\n",
    "            # 다음 키로 인덱스 전환\n",
    "            key_idx = (key_idx + 1) % len(KAKAO_KEYS)\n",
    "            \n",
    "            # 한 바퀴를 다 돌았으면 모든 키 소진 처리\n",
    "            if key_idx == start_key_idx:\n",
    "                all_keys_exhausted = True\n",
    "                return None\n",
    "            \n",
    "            # 다음 키로 요청하기 전 잠시 대기\n",
    "            time.sleep(1)\n",
    "            continue\n",
    "        \n",
    "        elif result == \"RETRY\":\n",
    "            # 네트워크 오류 재시도\n",
    "            retry_attempts += 1\n",
    "            \n",
    "            # 재시도 횟수가 5회를 초과하면 오류 메시지 출력 후 None 반환\n",
    "            if retry_attempts >= 5:\n",
    "                print_error(f\"[재시도 실패] 주소: '{address}' - 네트워크 오류가 계속 발생하여 건너뜁니다.\")\n",
    "                return None\n",
    "            time.sleep(5)\n",
    "            continue\n",
    "\n",
    "\n",
    "        # 좌표가 정상적으로 반환된 경우\n",
    "        return result"
   ]
  },
  {
   "cell_type": "code",
   "execution_count": 36,
   "id": "beafe548",
   "metadata": {},
   "outputs": [],
   "source": [
    "# --- 6. 주소 생성 함수 정의 (도로명/번지 예외 처리) ---\n",
    "\n",
    "def create_full_address(row):\n",
    "    \"\"\"\n",
    "    도로명 주소를 우선 사용하되, 없으면 번지 주소를 사용합니다.\n",
    "    \"\"\"\n",
    "    # '도로명'이 유효한 문자열인지 확인\n",
    "    if isinstance(row['도로명'], str) and row['도로명'].strip():\n",
    "        return row['시군구'] + ' ' + row['도로명']\n",
    "    # '도로명'이 없으면 '번지'가 유효한지 확인\n",
    "    elif isinstance(row['번지'], str) and row['번지'].strip():\n",
    "        return row['시군구'] + ' ' + row['번지']\n",
    "    # 둘 다 없으면 None 반환\n",
    "    else:\n",
    "        return None"
   ]
  },
  {
   "cell_type": "code",
   "execution_count": 37,
   "id": "8dea5a40",
   "metadata": {},
   "outputs": [
    {
     "name": "stdout",
     "output_type": "stream",
     "text": [
      "\n",
      "총 869670개의 좌표 결측치에 대한 작업을 시작합니다...\n",
      "모든 행에 '도로명' 또는 '번지' 주소 정보가 존재합니다.\n",
      "실제 API 호출 대상 고유 주소 개수: 8504\n"
     ]
    },
    {
     "name": "stderr",
     "output_type": "stream",
     "text": [
      "Geocoding Progress:   0%|          | 11/8504 [00:10<51:08,  2.77it/s]  "
     ]
    },
    {
     "name": "stdout",
     "output_type": "stream",
     "text": [
      "\u001b[91mdef get_coordinates(address, key_index): 주소 정보 존재여부 체크\u001b[0m\n",
      "\u001b[91m  [실패] API 검색 결과 없음: '서울특별시 강남구 개포동 언주로 21'\u001b[0m\n"
     ]
    },
    {
     "name": "stderr",
     "output_type": "stream",
     "text": [
      "Geocoding Progress:   2%|▏         | 133/8504 [00:21<23:00,  6.07it/s]"
     ]
    },
    {
     "name": "stdout",
     "output_type": "stream",
     "text": [
      "\u001b[91mdef get_coordinates(address, key_index): 주소 정보 존재여부 체크\u001b[0m\n",
      "\u001b[91m  [실패] API 검색 결과 없음: '서울특별시 강남구 도곡동 남부순환로 2803'\u001b[0m\n"
     ]
    },
    {
     "name": "stderr",
     "output_type": "stream",
     "text": [
      "Geocoding Progress:   2%|▏         | 197/8504 [00:27<10:21, 13.38it/s]"
     ]
    },
    {
     "name": "stdout",
     "output_type": "stream",
     "text": [
      "\u001b[91mdef get_coordinates(address, key_index): 주소 정보 존재여부 체크\u001b[0m\n",
      "\u001b[91m  [실패] API 검색 결과 없음: '서울특별시 강남구 삼성동 삼성로 649'\u001b[0m\n"
     ]
    },
    {
     "name": "stderr",
     "output_type": "stream",
     "text": [
      "Geocoding Progress:   3%|▎         | 275/8504 [00:34<10:44, 12.76it/s]"
     ]
    },
    {
     "name": "stdout",
     "output_type": "stream",
     "text": [
      "\u001b[91mdef get_coordinates(address, key_index): 주소 정보 존재여부 체크\u001b[0m\n",
      "\u001b[91m  [실패] API 검색 결과 없음: '서울특별시 강남구 역삼동 언주로 406'\u001b[0m\n"
     ]
    },
    {
     "name": "stderr",
     "output_type": "stream",
     "text": [
      "Geocoding Progress:   4%|▍         | 329/8504 [00:38<10:14, 13.30it/s]"
     ]
    },
    {
     "name": "stdout",
     "output_type": "stream",
     "text": [
      "\u001b[91mdef get_coordinates(address, key_index): 주소 정보 존재여부 체크\u001b[0m\n",
      "\u001b[91m  [실패] API 검색 결과 없음: '서울특별시 강남구 역삼동 언주로70길 24'\u001b[0m\n"
     ]
    },
    {
     "name": "stderr",
     "output_type": "stream",
     "text": [
      "Geocoding Progress:   4%|▍         | 343/8504 [00:39<10:04, 13.50it/s]"
     ]
    },
    {
     "name": "stdout",
     "output_type": "stream",
     "text": [
      "\u001b[91mdef get_coordinates(address, key_index): 주소 정보 존재여부 체크\u001b[0m\n",
      "\u001b[91m  [실패] API 검색 결과 없음: '서울특별시 강남구 역삼동 언주로70길 18-8'\u001b[0m\n"
     ]
    },
    {
     "name": "stderr",
     "output_type": "stream",
     "text": [
      "Geocoding Progress:   4%|▍         | 349/8504 [00:39<10:02, 13.54it/s]"
     ]
    },
    {
     "name": "stdout",
     "output_type": "stream",
     "text": [
      "\u001b[91mdef get_coordinates(address, key_index): 주소 정보 존재여부 체크\u001b[0m\n",
      "\u001b[91m  [실패] API 검색 결과 없음: '서울특별시 강남구 일원동 개포로110길 36'\u001b[0m\n"
     ]
    },
    {
     "name": "stderr",
     "output_type": "stream",
     "text": [
      "Geocoding Progress:   7%|▋         | 575/8504 [01:00<10:28, 12.61it/s]"
     ]
    },
    {
     "name": "stdout",
     "output_type": "stream",
     "text": [
      "\u001b[91mdef get_coordinates(address, key_index): 주소 정보 존재여부 체크\u001b[0m\n",
      "\u001b[91m  [실패] API 검색 결과 없음: '서울특별시 강동구 상일동 상일로11길 25'\u001b[0m\n"
     ]
    },
    {
     "name": "stderr",
     "output_type": "stream",
     "text": [
      "Geocoding Progress:   8%|▊         | 687/8504 [01:10<09:08, 14.25it/s]"
     ]
    },
    {
     "name": "stdout",
     "output_type": "stream",
     "text": [
      "\u001b[91mdef get_coordinates(address, key_index): 주소 정보 존재여부 체크\u001b[0m\n",
      "\u001b[91m  [실패] API 검색 결과 없음: '서울특별시 강동구 암사동 고덕로25길 13-11'\u001b[0m\n"
     ]
    },
    {
     "name": "stderr",
     "output_type": "stream",
     "text": [
      "Geocoding Progress:   9%|▉         | 785/8504 [01:18<10:15, 12.53it/s]"
     ]
    },
    {
     "name": "stdout",
     "output_type": "stream",
     "text": [
      "\u001b[91mdef get_coordinates(address, key_index): 주소 정보 존재여부 체크\u001b[0m\n",
      "\u001b[91m  [실패] API 검색 결과 없음: '서울특별시 강동구 천호동 진황도로 12'\u001b[0m\n"
     ]
    },
    {
     "name": "stderr",
     "output_type": "stream",
     "text": [
      "Geocoding Progress:   9%|▉         | 795/8504 [01:19<10:03, 12.77it/s]"
     ]
    },
    {
     "name": "stdout",
     "output_type": "stream",
     "text": [
      "\u001b[91mdef get_coordinates(address, key_index): 주소 정보 존재여부 체크\u001b[0m\n",
      "\u001b[91m  [실패] API 검색 결과 없음: '서울특별시 강동구 천호동 진황도로 18'\u001b[0m\n"
     ]
    },
    {
     "name": "stderr",
     "output_type": "stream",
     "text": [
      "Geocoding Progress:  12%|█▏        | 1009/8504 [01:38<09:04, 13.76it/s]"
     ]
    },
    {
     "name": "stdout",
     "output_type": "stream",
     "text": [
      "\n",
      "--- 1000개 처리 완료. 체크포인트를 저장합니다 ---\n"
     ]
    },
    {
     "name": "stderr",
     "output_type": "stream",
     "text": [
      "Geocoding Progress:  12%|█▏        | 1011/8504 [01:52<4:29:02,  2.15s/it]"
     ]
    },
    {
     "name": "stdout",
     "output_type": "stream",
     "text": [
      "체크포인트 저장 완료: '../data/processed/train_geocoded_checkpoint.csv'\n"
     ]
    },
    {
     "name": "stderr",
     "output_type": "stream",
     "text": [
      "Geocoding Progress:  12%|█▏        | 1037/8504 [02:01<22:26,  5.55it/s]  "
     ]
    },
    {
     "name": "stdout",
     "output_type": "stream",
     "text": [
      "\u001b[91mdef get_coordinates(address, key_index): 주소 정보 존재여부 체크\u001b[0m\n",
      "\u001b[91m  [실패] API 검색 결과 없음: '서울특별시 강서구 방화동 양천로30길 98'\u001b[0m\n"
     ]
    },
    {
     "name": "stderr",
     "output_type": "stream",
     "text": [
      "Geocoding Progress:  12%|█▏        | 1045/8504 [02:01<13:37,  9.12it/s]"
     ]
    },
    {
     "name": "stdout",
     "output_type": "stream",
     "text": [
      "\u001b[91mdef get_coordinates(address, key_index): 주소 정보 존재여부 체크\u001b[0m\n",
      "\u001b[91m  [실패] API 검색 결과 없음: '서울특별시 강서구 방화동 방화대로34길 62'\u001b[0m\n",
      "\u001b[91mdef get_coordinates(address, key_index): 주소 정보 존재여부 체크\u001b[0m\n",
      "\u001b[91m  [실패] API 검색 결과 없음: '서울특별시 강서구 방화동 양천로30길 108'\u001b[0m\n",
      "\u001b[91mdef get_coordinates(address, key_index): 주소 정보 존재여부 체크\u001b[0m\n",
      "\u001b[91m  [실패] API 검색 결과 없음: '서울특별시 강서구 방화동 양천로26길 38'\u001b[0m\n"
     ]
    },
    {
     "name": "stderr",
     "output_type": "stream",
     "text": [
      "Geocoding Progress:  12%|█▏        | 1049/8504 [02:02<11:40, 10.65it/s]"
     ]
    },
    {
     "name": "stdout",
     "output_type": "stream",
     "text": [
      "\u001b[91mdef get_coordinates(address, key_index): 주소 정보 존재여부 체크\u001b[0m\n",
      "\u001b[91m  [실패] API 검색 결과 없음: '서울특별시 강서구 방화동 방화대로44길 42'\u001b[0m\n",
      "\u001b[91mdef get_coordinates(address, key_index): 주소 정보 존재여부 체크\u001b[0m\n",
      "\u001b[91m  [실패] API 검색 결과 없음: '서울특별시 강서구 방화동 방화대로34길 110'\u001b[0m\n",
      "\u001b[91mdef get_coordinates(address, key_index): 주소 정보 존재여부 체크\u001b[0m\n",
      "\u001b[91m  [실패] API 검색 결과 없음: '서울특별시 강서구 방화동 방화대로40길 66'\u001b[0m\n"
     ]
    },
    {
     "name": "stderr",
     "output_type": "stream",
     "text": [
      "Geocoding Progress:  13%|█▎        | 1079/8504 [02:05<10:07, 12.23it/s]"
     ]
    },
    {
     "name": "stdout",
     "output_type": "stream",
     "text": [
      "\u001b[91mdef get_coordinates(address, key_index): 주소 정보 존재여부 체크\u001b[0m\n",
      "\u001b[91m  [실패] API 검색 결과 없음: '서울특별시 강서구 방화동 양천로 128'\u001b[0m\n",
      "\u001b[91mdef get_coordinates(address, key_index): 주소 정보 존재여부 체크\u001b[0m\n",
      "\u001b[91m  [실패] API 검색 결과 없음: '서울특별시 강서구 방화동 양천로 132'\u001b[0m\n"
     ]
    },
    {
     "name": "stderr",
     "output_type": "stream",
     "text": [
      "Geocoding Progress:  13%|█▎        | 1105/8504 [02:08<23:04,  5.34it/s]"
     ]
    },
    {
     "name": "stdout",
     "output_type": "stream",
     "text": [
      "\u001b[91mdef get_coordinates(address, key_index): 주소 정보 존재여부 체크\u001b[0m\n",
      "\u001b[91m  [실패] API 검색 결과 없음: '서울특별시 강서구 염창동 공항대로 559'\u001b[0m\n"
     ]
    },
    {
     "name": "stderr",
     "output_type": "stream",
     "text": [
      "Geocoding Progress:  16%|█▌        | 1367/8504 [02:29<09:28, 12.55it/s]"
     ]
    },
    {
     "name": "stdout",
     "output_type": "stream",
     "text": [
      "\u001b[91mdef get_coordinates(address, key_index): 주소 정보 존재여부 체크\u001b[0m\n",
      "\u001b[91m  [실패] API 검색 결과 없음: '서울특별시 관악구 봉천동 구암길 95'\u001b[0m\n"
     ]
    },
    {
     "name": "stderr",
     "output_type": "stream",
     "text": [
      "Geocoding Progress:  19%|█▉        | 1629/8504 [02:49<08:31, 13.44it/s]"
     ]
    },
    {
     "name": "stdout",
     "output_type": "stream",
     "text": [
      "\u001b[91mdef get_coordinates(address, key_index): 주소 정보 존재여부 체크\u001b[0m\n",
      "\u001b[91m  [실패] API 검색 결과 없음: '서울특별시 광진구 자양동 뚝섬로 45'\u001b[0m\n"
     ]
    },
    {
     "name": "stderr",
     "output_type": "stream",
     "text": [
      "Geocoding Progress:  20%|█▉        | 1689/8504 [02:54<09:55, 11.45it/s]"
     ]
    },
    {
     "name": "stdout",
     "output_type": "stream",
     "text": [
      "\u001b[91mdef get_coordinates(address, key_index): 주소 정보 존재여부 체크\u001b[0m\n",
      "\u001b[91m  [실패] API 검색 결과 없음: '서울특별시 구로구 개봉동 개봉로3가길 88-41'\u001b[0m\n"
     ]
    },
    {
     "name": "stderr",
     "output_type": "stream",
     "text": [
      "Geocoding Progress:  20%|█▉        | 1693/8504 [02:54<09:04, 12.52it/s]"
     ]
    },
    {
     "name": "stdout",
     "output_type": "stream",
     "text": [
      "\u001b[91mdef get_coordinates(address, key_index): 주소 정보 존재여부 체크\u001b[0m\n",
      "\u001b[91m  [실패] API 검색 결과 없음: '서울특별시 구로구 개봉동 남부순환로97길 30'\u001b[0m\n"
     ]
    },
    {
     "name": "stderr",
     "output_type": "stream",
     "text": [
      "Geocoding Progress:  22%|██▏       | 1899/8504 [03:11<08:21, 13.16it/s]"
     ]
    },
    {
     "name": "stdout",
     "output_type": "stream",
     "text": [
      "\u001b[91mdef get_coordinates(address, key_index): 주소 정보 존재여부 체크\u001b[0m\n",
      "\u001b[91m  [실패] API 검색 결과 없음: '서울특별시 구로구 구로동 구일로 18'\u001b[0m\n"
     ]
    },
    {
     "name": "stderr",
     "output_type": "stream",
     "text": [
      "Geocoding Progress:  23%|██▎       | 1979/8504 [03:17<08:03, 13.50it/s]"
     ]
    },
    {
     "name": "stdout",
     "output_type": "stream",
     "text": [
      "\u001b[91mdef get_coordinates(address, key_index): 주소 정보 존재여부 체크\u001b[0m\n",
      "\u001b[91m  [실패] API 검색 결과 없음: '서울특별시 구로구 오류동 천왕로 91'\u001b[0m\n"
     ]
    },
    {
     "name": "stderr",
     "output_type": "stream",
     "text": [
      "Geocoding Progress:  24%|██▍       | 2025/8504 [03:20<07:41, 14.05it/s]"
     ]
    },
    {
     "name": "stdout",
     "output_type": "stream",
     "text": [
      "\n",
      "--- 2000개 처리 완료. 체크포인트를 저장합니다 ---\n"
     ]
    },
    {
     "name": "stderr",
     "output_type": "stream",
     "text": [
      "Geocoding Progress:  24%|██▍       | 2029/8504 [03:35<2:50:52,  1.58s/it]"
     ]
    },
    {
     "name": "stdout",
     "output_type": "stream",
     "text": [
      "체크포인트 저장 완료: '../data/processed/train_geocoded_checkpoint.csv'\n"
     ]
    },
    {
     "name": "stderr",
     "output_type": "stream",
     "text": [
      "Geocoding Progress:  25%|██▍       | 2093/8504 [03:40<11:18,  9.45it/s]  "
     ]
    },
    {
     "name": "stdout",
     "output_type": "stream",
     "text": [
      "\u001b[91mdef get_coordinates(address, key_index): 주소 정보 존재여부 체크\u001b[0m\n",
      "\u001b[91m  [실패] API 검색 결과 없음: '서울특별시 금천구 시흥동 탑골로3길 50'\u001b[0m\n"
     ]
    },
    {
     "name": "stderr",
     "output_type": "stream",
     "text": [
      "Geocoding Progress:  25%|██▍       | 2105/8504 [03:41<08:45, 12.18it/s]"
     ]
    },
    {
     "name": "stdout",
     "output_type": "stream",
     "text": [
      "\u001b[91mdef get_coordinates(address, key_index): 주소 정보 존재여부 체크\u001b[0m\n",
      "\u001b[91m  [실패] API 검색 결과 없음: '서울특별시 노원구 공릉동 노원로1길 103'\u001b[0m\n"
     ]
    },
    {
     "name": "stderr",
     "output_type": "stream",
     "text": [
      "Geocoding Progress:  25%|██▌       | 2159/8504 [03:45<08:15, 12.81it/s]"
     ]
    },
    {
     "name": "stdout",
     "output_type": "stream",
     "text": [
      "\u001b[91mdef get_coordinates(address, key_index): 주소 정보 존재여부 체크\u001b[0m\n",
      "\u001b[91m  [실패] API 검색 결과 없음: '서울특별시 노원구 공릉동 공릉로34길 74'\u001b[0m\n"
     ]
    },
    {
     "name": "stderr",
     "output_type": "stream",
     "text": [
      "Geocoding Progress:  25%|██▌       | 2161/8504 [03:46<08:16, 12.79it/s]"
     ]
    },
    {
     "name": "stdout",
     "output_type": "stream",
     "text": [
      "\u001b[91mdef get_coordinates(address, key_index): 주소 정보 존재여부 체크\u001b[0m\n",
      "\u001b[91m  [실패] API 검색 결과 없음: '서울특별시 노원구 상계동 덕릉로98길 15'\u001b[0m\n"
     ]
    },
    {
     "name": "stderr",
     "output_type": "stream",
     "text": [
      "Geocoding Progress:  25%|██▌       | 2167/8504 [03:46<07:39, 13.80it/s]"
     ]
    },
    {
     "name": "stdout",
     "output_type": "stream",
     "text": [
      "\u001b[91mdef get_coordinates(address, key_index): 주소 정보 존재여부 체크\u001b[0m\n",
      "\u001b[91m  [실패] API 검색 결과 없음: '서울특별시 노원구 상계동 덕릉로106길 20-3'\u001b[0m\n"
     ]
    },
    {
     "name": "stderr",
     "output_type": "stream",
     "text": [
      "Geocoding Progress:  27%|██▋       | 2273/8504 [03:55<07:41, 13.49it/s]"
     ]
    },
    {
     "name": "stdout",
     "output_type": "stream",
     "text": [
      "\u001b[91mdef get_coordinates(address, key_index): 주소 정보 존재여부 체크\u001b[0m\n",
      "\u001b[91m  [실패] API 검색 결과 없음: '서울특별시 노원구 월계동 화랑로43길 34'\u001b[0m\n"
     ]
    },
    {
     "name": "stderr",
     "output_type": "stream",
     "text": [
      "Geocoding Progress:  30%|███       | 2569/8504 [04:19<07:37, 12.97it/s]"
     ]
    },
    {
     "name": "stdout",
     "output_type": "stream",
     "text": [
      "\u001b[91mdef get_coordinates(address, key_index): 주소 정보 존재여부 체크\u001b[0m\n",
      "\u001b[91m  [실패] API 검색 결과 없음: '서울특별시 동대문구 장안동 한천로24길 74-11'\u001b[0m\n"
     ]
    },
    {
     "name": "stderr",
     "output_type": "stream",
     "text": [
      "Geocoding Progress:  31%|███▏      | 2673/8504 [04:27<07:25, 13.08it/s]"
     ]
    },
    {
     "name": "stdout",
     "output_type": "stream",
     "text": [
      "\u001b[91mdef get_coordinates(address, key_index): 주소 정보 존재여부 체크\u001b[0m\n",
      "\u001b[91m  [실패] API 검색 결과 없음: '서울특별시 동대문구 제기동 정릉천동로 100'\u001b[0m\n"
     ]
    },
    {
     "name": "stderr",
     "output_type": "stream",
     "text": [
      "Geocoding Progress:  32%|███▏      | 2709/8504 [04:29<07:10, 13.46it/s]"
     ]
    },
    {
     "name": "stdout",
     "output_type": "stream",
     "text": [
      "\u001b[91mdef get_coordinates(address, key_index): 주소 정보 존재여부 체크\u001b[0m\n",
      "\u001b[91m  [실패] API 검색 결과 없음: '서울특별시 동작구 노량진동 만양로 26'\u001b[0m\n"
     ]
    },
    {
     "name": "stderr",
     "output_type": "stream",
     "text": [
      "Geocoding Progress:  32%|███▏      | 2713/8504 [04:30<07:23, 13.06it/s]"
     ]
    },
    {
     "name": "stdout",
     "output_type": "stream",
     "text": [
      "\u001b[91mdef get_coordinates(address, key_index): 주소 정보 존재여부 체크\u001b[0m\n",
      "\u001b[91m  [실패] API 검색 결과 없음: '서울특별시 동작구 노량진동 장승배기로17길 31'\u001b[0m\n",
      "\u001b[91mdef get_coordinates(address, key_index): 주소 정보 존재여부 체크\u001b[0m\n",
      "\u001b[91m  [실패] API 검색 결과 없음: '서울특별시 동작구 노량진동 장승배기로13길 46'\u001b[0m\n"
     ]
    },
    {
     "name": "stderr",
     "output_type": "stream",
     "text": [
      "Geocoding Progress:  32%|███▏      | 2719/8504 [04:30<07:11, 13.42it/s]"
     ]
    },
    {
     "name": "stdout",
     "output_type": "stream",
     "text": [
      "\u001b[91mdef get_coordinates(address, key_index): 주소 정보 존재여부 체크\u001b[0m\n",
      "\u001b[91m  [실패] API 검색 결과 없음: '서울특별시 동작구 노량진동 장승배기로17길 32'\u001b[0m\n"
     ]
    },
    {
     "name": "stderr",
     "output_type": "stream",
     "text": [
      "Geocoding Progress:  34%|███▍      | 2881/8504 [04:42<07:11, 13.03it/s]"
     ]
    },
    {
     "name": "stdout",
     "output_type": "stream",
     "text": [
      "\u001b[91mdef get_coordinates(address, key_index): 주소 정보 존재여부 체크\u001b[0m\n",
      "\u001b[91m  [실패] API 검색 결과 없음: '서울특별시 동작구 흑석동 현충로10길 42'\u001b[0m\n"
     ]
    },
    {
     "name": "stderr",
     "output_type": "stream",
     "text": [
      "Geocoding Progress:  34%|███▍      | 2883/8504 [04:42<06:56, 13.49it/s]"
     ]
    },
    {
     "name": "stdout",
     "output_type": "stream",
     "text": [
      "\u001b[91mdef get_coordinates(address, key_index): 주소 정보 존재여부 체크\u001b[0m\n",
      "\u001b[91m  [실패] API 검색 결과 없음: '서울특별시 동작구 흑석동 서달로1길 8-6'\u001b[0m\n"
     ]
    },
    {
     "name": "stderr",
     "output_type": "stream",
     "text": [
      "Geocoding Progress:  36%|███▌      | 3037/8504 [04:55<06:44, 13.53it/s]"
     ]
    },
    {
     "name": "stdout",
     "output_type": "stream",
     "text": [
      "\u001b[91mdef get_coordinates(address, key_index): 주소 정보 존재여부 체크\u001b[0m\n",
      "\u001b[91m  [실패] API 검색 결과 없음: '서울특별시 마포구 아현동 마포대로19길 8'\u001b[0m\n"
     ]
    },
    {
     "name": "stderr",
     "output_type": "stream",
     "text": [
      "Geocoding Progress:  36%|███▌      | 3041/8504 [04:55<06:33, 13.88it/s]"
     ]
    },
    {
     "name": "stdout",
     "output_type": "stream",
     "text": [
      "\n",
      "--- 3000개 처리 완료. 체크포인트를 저장합니다 ---\n"
     ]
    },
    {
     "name": "stderr",
     "output_type": "stream",
     "text": [
      "Geocoding Progress:  36%|███▌      | 3043/8504 [05:09<3:08:47,  2.07s/it]"
     ]
    },
    {
     "name": "stdout",
     "output_type": "stream",
     "text": [
      "체크포인트 저장 완료: '../data/processed/train_geocoded_checkpoint.csv'\n"
     ]
    },
    {
     "name": "stderr",
     "output_type": "stream",
     "text": [
      "Geocoding Progress:  36%|███▋      | 3097/8504 [05:13<06:35, 13.65it/s]  "
     ]
    },
    {
     "name": "stdout",
     "output_type": "stream",
     "text": [
      "\u001b[91mdef get_coordinates(address, key_index): 주소 정보 존재여부 체크\u001b[0m\n",
      "\u001b[91m  [실패] API 검색 결과 없음: '서울특별시 서대문구 냉천동 독립문로8길 141'\u001b[0m\n"
     ]
    },
    {
     "name": "stderr",
     "output_type": "stream",
     "text": [
      "Geocoding Progress:  39%|███▉      | 3307/8504 [05:30<06:43, 12.89it/s]"
     ]
    },
    {
     "name": "stdout",
     "output_type": "stream",
     "text": [
      "\u001b[91mdef get_coordinates(address, key_index): 주소 정보 존재여부 체크\u001b[0m\n",
      "\u001b[91m  [실패] API 검색 결과 없음: '서울특별시 서초구 반포동 신반포로 137'\u001b[0m\n"
     ]
    },
    {
     "name": "stderr",
     "output_type": "stream",
     "text": [
      "Geocoding Progress:  39%|███▉      | 3317/8504 [05:31<06:18, 13.69it/s]"
     ]
    },
    {
     "name": "stdout",
     "output_type": "stream",
     "text": [
      "\u001b[91mdef get_coordinates(address, key_index): 주소 정보 존재여부 체크\u001b[0m\n",
      "\u001b[91m  [실패] API 검색 결과 없음: '서울특별시 서초구 반포동 신반포로 9'\u001b[0m\n",
      "\u001b[91mdef get_coordinates(address, key_index): 주소 정보 존재여부 체크\u001b[0m\n",
      "\u001b[91m  [실패] API 검색 결과 없음: '서울특별시 서초구 반포동 신반포로 45'\u001b[0m\n"
     ]
    },
    {
     "name": "stderr",
     "output_type": "stream",
     "text": [
      "Geocoding Progress:  39%|███▉      | 3341/8504 [05:33<06:27, 13.32it/s]"
     ]
    },
    {
     "name": "stdout",
     "output_type": "stream",
     "text": [
      "\u001b[91mdef get_coordinates(address, key_index): 주소 정보 존재여부 체크\u001b[0m\n",
      "\u001b[91m  [실패] API 검색 결과 없음: '서울특별시 서초구 반포동 신반포로 32'\u001b[0m\n"
     ]
    },
    {
     "name": "stderr",
     "output_type": "stream",
     "text": [
      "Geocoding Progress:  39%|███▉      | 3351/8504 [05:33<06:14, 13.76it/s]"
     ]
    },
    {
     "name": "stdout",
     "output_type": "stream",
     "text": [
      "\u001b[91mdef get_coordinates(address, key_index): 주소 정보 존재여부 체크\u001b[0m\n",
      "\u001b[91m  [실패] API 검색 결과 없음: '서울특별시 서초구 반포동 신반포로15길 5'\u001b[0m\n",
      "\u001b[91mdef get_coordinates(address, key_index): 주소 정보 존재여부 체크\u001b[0m\n",
      "\u001b[91m  [실패] API 검색 결과 없음: '서울특별시 서초구 반포동 신반포로19길 10'\u001b[0m\n"
     ]
    },
    {
     "name": "stderr",
     "output_type": "stream",
     "text": [
      "Geocoding Progress:  40%|████      | 3443/8504 [05:40<06:19, 13.34it/s]"
     ]
    },
    {
     "name": "stdout",
     "output_type": "stream",
     "text": [
      "\u001b[91mdef get_coordinates(address, key_index): 주소 정보 존재여부 체크\u001b[0m\n",
      "\u001b[91m  [실패] API 검색 결과 없음: '서울특별시 서초구 방배동 효령로34길 79'\u001b[0m\n"
     ]
    },
    {
     "name": "stderr",
     "output_type": "stream",
     "text": [
      "Geocoding Progress:  41%|████      | 3461/8504 [05:42<06:11, 13.56it/s]"
     ]
    },
    {
     "name": "stdout",
     "output_type": "stream",
     "text": [
      "\u001b[91mdef get_coordinates(address, key_index): 주소 정보 존재여부 체크\u001b[0m\n",
      "\u001b[91m  [실패] API 검색 결과 없음: '서울특별시 서초구 방배동 남부순환로289길 16'\u001b[0m\n"
     ]
    },
    {
     "name": "stderr",
     "output_type": "stream",
     "text": [
      "Geocoding Progress:  41%|████      | 3465/8504 [05:42<06:15, 13.43it/s]"
     ]
    },
    {
     "name": "stdout",
     "output_type": "stream",
     "text": [
      "\u001b[91mdef get_coordinates(address, key_index): 주소 정보 존재여부 체크\u001b[0m\n",
      "\u001b[91m  [실패] API 검색 결과 없음: '서울특별시 서초구 방배동 방배중앙로 51'\u001b[0m\n"
     ]
    },
    {
     "name": "stderr",
     "output_type": "stream",
     "text": [
      "Geocoding Progress:  41%|████      | 3471/8504 [05:42<06:24, 13.09it/s]"
     ]
    },
    {
     "name": "stdout",
     "output_type": "stream",
     "text": [
      "\u001b[91mdef get_coordinates(address, key_index): 주소 정보 존재여부 체크\u001b[0m\n",
      "\u001b[91m  [실패] API 검색 결과 없음: '서울특별시 서초구 방배동 방배중앙로9길 29'\u001b[0m\n"
     ]
    },
    {
     "name": "stderr",
     "output_type": "stream",
     "text": [
      "Geocoding Progress:  43%|████▎     | 3693/8504 [06:00<05:39, 14.16it/s]"
     ]
    },
    {
     "name": "stdout",
     "output_type": "stream",
     "text": [
      "\u001b[91mdef get_coordinates(address, key_index): 주소 정보 존재여부 체크\u001b[0m\n",
      "\u001b[91m  [실패] API 검색 결과 없음: '서울특별시 서초구 잠원동 잠원로4길 34-11'\u001b[0m\n"
     ]
    },
    {
     "name": "stderr",
     "output_type": "stream",
     "text": [
      "Geocoding Progress:  44%|████▎     | 3711/8504 [06:01<05:29, 14.55it/s]"
     ]
    },
    {
     "name": "stdout",
     "output_type": "stream",
     "text": [
      "\u001b[91mdef get_coordinates(address, key_index): 주소 정보 존재여부 체크\u001b[0m\n",
      "\u001b[91m  [실패] API 검색 결과 없음: '서울특별시 서초구 잠원동 나루터로4길 39'\u001b[0m\n",
      "\u001b[91mdef get_coordinates(address, key_index): 주소 정보 존재여부 체크\u001b[0m\n",
      "\u001b[91m  [실패] API 검색 결과 없음: '서울특별시 서초구 잠원동 나루터로4길 61'\u001b[0m\n"
     ]
    },
    {
     "name": "stderr",
     "output_type": "stream",
     "text": [
      "Geocoding Progress:  44%|████▎     | 3715/8504 [06:02<05:40, 14.08it/s]"
     ]
    },
    {
     "name": "stdout",
     "output_type": "stream",
     "text": [
      "\u001b[91mdef get_coordinates(address, key_index): 주소 정보 존재여부 체크\u001b[0m\n",
      "\u001b[91m  [실패] API 검색 결과 없음: '서울특별시 서초구 잠원동 신반포로23길 31'\u001b[0m\n",
      "\u001b[91mdef get_coordinates(address, key_index): 주소 정보 존재여부 체크\u001b[0m\n",
      "\u001b[91m  [실패] API 검색 결과 없음: '서울특별시 서초구 잠원동 나루터로4길 49'\u001b[0m\n"
     ]
    },
    {
     "name": "stderr",
     "output_type": "stream",
     "text": [
      "Geocoding Progress:  44%|████▎     | 3719/8504 [06:02<05:46, 13.83it/s]"
     ]
    },
    {
     "name": "stdout",
     "output_type": "stream",
     "text": [
      "\u001b[91mdef get_coordinates(address, key_index): 주소 정보 존재여부 체크\u001b[0m\n",
      "\u001b[91m  [실패] API 검색 결과 없음: '서울특별시 서초구 잠원동 신반포로 267'\u001b[0m\n",
      "\u001b[91mdef get_coordinates(address, key_index): 주소 정보 존재여부 체크\u001b[0m\n",
      "\u001b[91m  [실패] API 검색 결과 없음: '서울특별시 서초구 잠원동 잠원로 86'\u001b[0m\n"
     ]
    },
    {
     "name": "stderr",
     "output_type": "stream",
     "text": [
      "Geocoding Progress:  44%|████▍     | 3725/8504 [06:02<06:02, 13.18it/s]"
     ]
    },
    {
     "name": "stdout",
     "output_type": "stream",
     "text": [
      "\u001b[91mdef get_coordinates(address, key_index): 주소 정보 존재여부 체크\u001b[0m\n",
      "\u001b[91m  [실패] API 검색 결과 없음: '서울특별시 서초구 잠원동 나루터로4길 28'\u001b[0m\n",
      "\u001b[91mdef get_coordinates(address, key_index): 주소 정보 존재여부 체크\u001b[0m\n",
      "\u001b[91m  [실패] API 검색 결과 없음: '서울특별시 서초구 잠원동 신반포로33길 30'\u001b[0m\n"
     ]
    },
    {
     "name": "stderr",
     "output_type": "stream",
     "text": [
      "Geocoding Progress:  44%|████▍     | 3731/8504 [06:03<05:35, 14.22it/s]"
     ]
    },
    {
     "name": "stdout",
     "output_type": "stream",
     "text": [
      "\u001b[91mdef get_coordinates(address, key_index): 주소 정보 존재여부 체크\u001b[0m\n",
      "\u001b[91m  [실패] API 검색 결과 없음: '서울특별시 서초구 잠원동 신반포로23길 5'\u001b[0m\n"
     ]
    },
    {
     "name": "stderr",
     "output_type": "stream",
     "text": [
      "Geocoding Progress:  44%|████▍     | 3753/8504 [06:04<06:29, 12.21it/s]"
     ]
    },
    {
     "name": "stdout",
     "output_type": "stream",
     "text": [
      "\u001b[91mdef get_coordinates(address, key_index): 주소 정보 존재여부 체크\u001b[0m\n",
      "\u001b[91m  [실패] API 검색 결과 없음: '서울특별시 성동구 금호동2가 동호로 100'\u001b[0m\n"
     ]
    },
    {
     "name": "stderr",
     "output_type": "stream",
     "text": [
      "Geocoding Progress:  44%|████▍     | 3779/8504 [06:06<05:57, 13.21it/s]"
     ]
    },
    {
     "name": "stdout",
     "output_type": "stream",
     "text": [
      "\u001b[91mdef get_coordinates(address, key_index): 주소 정보 존재여부 체크\u001b[0m\n",
      "\u001b[91m  [실패] API 검색 결과 없음: '서울특별시 성동구 상왕십리동 왕십리로 410'\u001b[0m\n"
     ]
    },
    {
     "name": "stderr",
     "output_type": "stream",
     "text": [
      "Geocoding Progress:  45%|████▍     | 3795/8504 [06:08<06:06, 12.86it/s]"
     ]
    },
    {
     "name": "stdout",
     "output_type": "stream",
     "text": [
      "\u001b[91mdef get_coordinates(address, key_index): 주소 정보 존재여부 체크\u001b[0m\n",
      "\u001b[91m  [실패] API 검색 결과 없음: '서울특별시 성동구 성수동1가 왕십리로 66-15'\u001b[0m\n"
     ]
    },
    {
     "name": "stderr",
     "output_type": "stream",
     "text": [
      "Geocoding Progress:  46%|████▌     | 3883/8504 [06:14<06:04, 12.68it/s]"
     ]
    },
    {
     "name": "stdout",
     "output_type": "stream",
     "text": [
      "\u001b[91mdef get_coordinates(address, key_index): 주소 정보 존재여부 체크\u001b[0m\n",
      "\u001b[91m  [실패] API 검색 결과 없음: '서울특별시 성북구 길음동 동소문로43길 47'\u001b[0m\n"
     ]
    },
    {
     "name": "stderr",
     "output_type": "stream",
     "text": [
      "Geocoding Progress:  46%|████▌     | 3915/8504 [06:17<05:47, 13.22it/s]"
     ]
    },
    {
     "name": "stdout",
     "output_type": "stream",
     "text": [
      "\u001b[91mdef get_coordinates(address, key_index): 주소 정보 존재여부 체크\u001b[0m\n",
      "\u001b[91m  [실패] API 검색 결과 없음: '서울특별시 성북구 동소문동7가 동소문로13길 84'\u001b[0m\n"
     ]
    },
    {
     "name": "stderr",
     "output_type": "stream",
     "text": [
      "Geocoding Progress:  46%|████▋     | 3941/8504 [06:19<05:40, 13.41it/s]"
     ]
    },
    {
     "name": "stdout",
     "output_type": "stream",
     "text": [
      "\u001b[91mdef get_coordinates(address, key_index): 주소 정보 존재여부 체크\u001b[0m\n",
      "\u001b[91m  [실패] API 검색 결과 없음: '서울특별시 성북구 안암동1가 인촌로17가길 64'\u001b[0m\n"
     ]
    },
    {
     "name": "stderr",
     "output_type": "stream",
     "text": [
      "Geocoding Progress:  46%|████▋     | 3953/8504 [06:20<05:37, 13.47it/s]"
     ]
    },
    {
     "name": "stdout",
     "output_type": "stream",
     "text": [
      "\u001b[91mdef get_coordinates(address, key_index): 주소 정보 존재여부 체크\u001b[0m\n",
      "\u001b[91m  [실패] API 검색 결과 없음: '서울특별시 성북구 장위동 장위로 122-3'\u001b[0m\n"
     ]
    },
    {
     "name": "stderr",
     "output_type": "stream",
     "text": [
      "Geocoding Progress:  48%|████▊     | 4051/8504 [06:29<05:29, 13.52it/s]"
     ]
    },
    {
     "name": "stdout",
     "output_type": "stream",
     "text": [
      "\u001b[91mdef get_coordinates(address, key_index): 주소 정보 존재여부 체크\u001b[0m\n",
      "\u001b[91m  [실패] API 검색 결과 없음: '서울특별시 송파구 가락동 오금로40길 8'\u001b[0m\n"
     ]
    },
    {
     "name": "stderr",
     "output_type": "stream",
     "text": [
      "Geocoding Progress:  48%|████▊     | 4063/8504 [06:30<05:36, 13.20it/s]"
     ]
    },
    {
     "name": "stdout",
     "output_type": "stream",
     "text": [
      "\u001b[91mdef get_coordinates(address, key_index): 주소 정보 존재여부 체크\u001b[0m\n",
      "\u001b[91m  [실패] API 검색 결과 없음: '서울특별시 송파구 거여동 오금로61길 24'\u001b[0m\n"
     ]
    },
    {
     "name": "stderr",
     "output_type": "stream",
     "text": [
      "Geocoding Progress:  48%|████▊     | 4071/8504 [06:31<05:20, 13.84it/s]"
     ]
    },
    {
     "name": "stdout",
     "output_type": "stream",
     "text": [
      "\n",
      "--- 4000개 처리 완료. 체크포인트를 저장합니다 ---\n"
     ]
    },
    {
     "name": "stderr",
     "output_type": "stream",
     "text": [
      "Geocoding Progress:  48%|████▊     | 4073/8504 [06:45<2:43:24,  2.21s/it]"
     ]
    },
    {
     "name": "stdout",
     "output_type": "stream",
     "text": [
      "체크포인트 저장 완료: '../data/processed/train_geocoded_checkpoint.csv'\n"
     ]
    },
    {
     "name": "stderr",
     "output_type": "stream",
     "text": [
      "Geocoding Progress:  50%|████▉     | 4225/8504 [07:06<05:38, 12.65it/s]  "
     ]
    },
    {
     "name": "stdout",
     "output_type": "stream",
     "text": [
      "\u001b[91mdef get_coordinates(address, key_index): 주소 정보 존재여부 체크\u001b[0m\n",
      "\u001b[91m  [실패] API 검색 결과 없음: '서울특별시 송파구 신천동 올림픽로 399'\u001b[0m\n",
      "\u001b[91mdef get_coordinates(address, key_index): 주소 정보 존재여부 체크\u001b[0m\n",
      "\u001b[91m  [실패] API 검색 결과 없음: '서울특별시 송파구 신천동 올림픽로33길 1'\u001b[0m\n"
     ]
    },
    {
     "name": "stderr",
     "output_type": "stream",
     "text": [
      "Geocoding Progress:  50%|████▉     | 4247/8504 [07:08<05:25, 13.08it/s]"
     ]
    },
    {
     "name": "stdout",
     "output_type": "stream",
     "text": [
      "\u001b[91mdef get_coordinates(address, key_index): 주소 정보 존재여부 체크\u001b[0m\n",
      "\u001b[91m  [실패] API 검색 결과 없음: '서울특별시 송파구 오금동 성내천로6길 1-13'\u001b[0m\n"
     ]
    },
    {
     "name": "stderr",
     "output_type": "stream",
     "text": [
      "Geocoding Progress:  55%|█████▌    | 4701/8504 [07:44<04:48, 13.19it/s]"
     ]
    },
    {
     "name": "stdout",
     "output_type": "stream",
     "text": [
      "\u001b[91mdef get_coordinates(address, key_index): 주소 정보 존재여부 체크\u001b[0m\n",
      "\u001b[91m  [실패] API 검색 결과 없음: '서울특별시 영등포구 당산동5가 당산로42길 25'\u001b[0m\n"
     ]
    },
    {
     "name": "stderr",
     "output_type": "stream",
     "text": [
      "Geocoding Progress:  57%|█████▋    | 4875/8504 [07:57<04:30, 13.43it/s]"
     ]
    },
    {
     "name": "stdout",
     "output_type": "stream",
     "text": [
      "\u001b[91mdef get_coordinates(address, key_index): 주소 정보 존재여부 체크\u001b[0m\n",
      "\u001b[91m  [실패] API 검색 결과 없음: '서울특별시 용산구 문배동 백범로 341'\u001b[0m\n"
     ]
    },
    {
     "name": "stderr",
     "output_type": "stream",
     "text": [
      "Geocoding Progress:  58%|█████▊    | 4963/8504 [08:04<04:28, 13.20it/s]"
     ]
    },
    {
     "name": "stdout",
     "output_type": "stream",
     "text": [
      "\u001b[91mdef get_coordinates(address, key_index): 주소 정보 존재여부 체크\u001b[0m\n",
      "\u001b[91m  [실패] API 검색 결과 없음: '서울특별시 용산구 한강로1가  174-2'\u001b[0m\n"
     ]
    },
    {
     "name": "stderr",
     "output_type": "stream",
     "text": [
      "Geocoding Progress:  59%|█████▉    | 5049/8504 [08:11<04:24, 13.07it/s]"
     ]
    },
    {
     "name": "stdout",
     "output_type": "stream",
     "text": [
      "\u001b[91mdef get_coordinates(address, key_index): 주소 정보 존재여부 체크\u001b[0m\n",
      "\u001b[91m  [실패] API 검색 결과 없음: '서울특별시 은평구 갈현동 연서로17길 12'\u001b[0m\n",
      "\u001b[91mdef get_coordinates(address, key_index): 주소 정보 존재여부 체크\u001b[0m\n",
      "\u001b[91m  [실패] API 검색 결과 없음: '서울특별시 은평구 갈현동 연서로19길 9'\u001b[0m\n"
     ]
    },
    {
     "name": "stderr",
     "output_type": "stream",
     "text": [
      "Geocoding Progress:  60%|█████▉    | 5079/8504 [08:14<04:13, 13.49it/s]"
     ]
    },
    {
     "name": "stdout",
     "output_type": "stream",
     "text": [
      "\n",
      "--- 5000개 처리 완료. 체크포인트를 저장합니다 ---\n"
     ]
    },
    {
     "name": "stderr",
     "output_type": "stream",
     "text": [
      "Geocoding Progress:  60%|█████▉    | 5081/8504 [08:28<2:10:38,  2.29s/it]"
     ]
    },
    {
     "name": "stdout",
     "output_type": "stream",
     "text": [
      "체크포인트 저장 완료: '../data/processed/train_geocoded_checkpoint.csv'\n"
     ]
    },
    {
     "name": "stderr",
     "output_type": "stream",
     "text": [
      "Geocoding Progress:  60%|██████    | 5137/8504 [08:33<04:10, 13.47it/s]  "
     ]
    },
    {
     "name": "stdout",
     "output_type": "stream",
     "text": [
      "\u001b[91mdef get_coordinates(address, key_index): 주소 정보 존재여부 체크\u001b[0m\n",
      "\u001b[91m  [실패] API 검색 결과 없음: '서울특별시 은평구 대조동 통일로71가길 17-4'\u001b[0m\n"
     ]
    },
    {
     "name": "stderr",
     "output_type": "stream",
     "text": [
      "Geocoding Progress:  61%|██████    | 5145/8504 [08:33<04:11, 13.36it/s]"
     ]
    },
    {
     "name": "stdout",
     "output_type": "stream",
     "text": [
      "\u001b[91mdef get_coordinates(address, key_index): 주소 정보 존재여부 체크\u001b[0m\n",
      "\u001b[91m  [실패] API 검색 결과 없음: '서울특별시 은평구 불광동 통일로78길 5-5'\u001b[0m\n"
     ]
    },
    {
     "name": "stderr",
     "output_type": "stream",
     "text": [
      "Geocoding Progress:  61%|██████    | 5161/8504 [08:35<04:09, 13.37it/s]"
     ]
    },
    {
     "name": "stdout",
     "output_type": "stream",
     "text": [
      "\u001b[91mdef get_coordinates(address, key_index): 주소 정보 존재여부 체크\u001b[0m\n",
      "\u001b[91m  [실패] API 검색 결과 없음: '서울특별시 은평구 수색동 수색로 217-1'\u001b[0m\n",
      "\u001b[91mdef get_coordinates(address, key_index): 주소 정보 존재여부 체크\u001b[0m\n",
      "\u001b[91m  [실패] API 검색 결과 없음: '서울특별시 은평구 수색동 수색로18길 19-8'\u001b[0m\n"
     ]
    },
    {
     "name": "stderr",
     "output_type": "stream",
     "text": [
      "Geocoding Progress:  61%|██████    | 5165/8504 [08:35<04:24, 12.62it/s]"
     ]
    },
    {
     "name": "stdout",
     "output_type": "stream",
     "text": [
      "\u001b[91mdef get_coordinates(address, key_index): 주소 정보 존재여부 체크\u001b[0m\n",
      "\u001b[91m  [실패] API 검색 결과 없음: '서울특별시 은평구 수색동 은평터널로 14'\u001b[0m\n",
      "\u001b[91mdef get_coordinates(address, key_index): 주소 정보 존재여부 체크\u001b[0m\n",
      "\u001b[91m  [실패] API 검색 결과 없음: '서울특별시 은평구 수색동 수색로18길 27-5'\u001b[0m\n"
     ]
    },
    {
     "name": "stderr",
     "output_type": "stream",
     "text": [
      "Geocoding Progress:  61%|██████    | 5167/8504 [08:35<04:20, 12.83it/s]"
     ]
    },
    {
     "name": "stdout",
     "output_type": "stream",
     "text": [
      "\u001b[91mdef get_coordinates(address, key_index): 주소 정보 존재여부 체크\u001b[0m\n",
      "\u001b[91m  [실패] API 검색 결과 없음: '서울특별시 은평구 수색동 수색로18길 45-15'\u001b[0m\n"
     ]
    },
    {
     "name": "stderr",
     "output_type": "stream",
     "text": [
      "Geocoding Progress:  63%|██████▎   | 5317/8504 [08:47<04:13, 12.55it/s]"
     ]
    },
    {
     "name": "stdout",
     "output_type": "stream",
     "text": [
      "\u001b[91mdef get_coordinates(address, key_index): 주소 정보 존재여부 체크\u001b[0m\n",
      "\u001b[91m  [실패] API 검색 결과 없음: '서울특별시 은평구 증산동 증산로1길 24-5'\u001b[0m\n"
     ]
    },
    {
     "name": "stderr",
     "output_type": "stream",
     "text": [
      "Geocoding Progress:  64%|██████▍   | 5447/8504 [08:57<03:50, 13.25it/s]"
     ]
    },
    {
     "name": "stdout",
     "output_type": "stream",
     "text": [
      "\u001b[91mdef get_coordinates(address, key_index): 주소 정보 존재여부 체크\u001b[0m\n",
      "\u001b[91m  [실패] API 검색 결과 없음: '서울특별시 종로구 평창동 평창문화로 171'\u001b[0m\n"
     ]
    },
    {
     "name": "stderr",
     "output_type": "stream",
     "text": [
      "Geocoding Progress:  64%|██████▍   | 5451/8504 [08:58<03:55, 12.99it/s]"
     ]
    },
    {
     "name": "stdout",
     "output_type": "stream",
     "text": [
      "\u001b[91mdef get_coordinates(address, key_index): 주소 정보 존재여부 체크\u001b[0m\n",
      "\u001b[91m  [실패] API 검색 결과 없음: '서울특별시 종로구 평창동 세검정로 384-13'\u001b[0m\n"
     ]
    },
    {
     "name": "stderr",
     "output_type": "stream",
     "text": [
      "Geocoding Progress:  67%|██████▋   | 5663/8504 [09:15<03:31, 13.43it/s]"
     ]
    },
    {
     "name": "stdout",
     "output_type": "stream",
     "text": [
      "\u001b[91mdef get_coordinates(address, key_index): 주소 정보 존재여부 체크\u001b[0m\n",
      "\u001b[91m  [실패] API 검색 결과 없음: '서울특별시 중랑구 상봉동 신내로7길 20'\u001b[0m\n"
     ]
    },
    {
     "name": "stderr",
     "output_type": "stream",
     "text": [
      "Geocoding Progress:  67%|██████▋   | 5725/8504 [09:20<04:17, 10.79it/s]"
     ]
    },
    {
     "name": "stdout",
     "output_type": "stream",
     "text": [
      "\u001b[91mdef get_coordinates(address, key_index): 주소 정보 존재여부 체크\u001b[0m\n",
      "\u001b[91m  [실패] API 검색 결과 없음: '서울특별시 중랑구 중화동 봉화산로1길 16'\u001b[0m\n"
     ]
    },
    {
     "name": "stderr",
     "output_type": "stream",
     "text": [
      "Geocoding Progress:  68%|██████▊   | 5749/8504 [09:22<03:31, 13.00it/s]"
     ]
    },
    {
     "name": "stdout",
     "output_type": "stream",
     "text": [
      "\u001b[91mdef get_coordinates(address, key_index): 주소 정보 존재여부 체크\u001b[0m\n",
      "\u001b[91m  [실패] API 검색 결과 없음: '서울특별시 강남구 대치동 남부순환로 2914'\u001b[0m\n",
      "\u001b[91mdef get_coordinates(address, key_index): 주소 정보 존재여부 체크\u001b[0m\n",
      "\u001b[91m  [실패] API 검색 결과 없음: '서울특별시 강남구 대치동 남부순환로395길 30'\u001b[0m\n"
     ]
    },
    {
     "name": "stderr",
     "output_type": "stream",
     "text": [
      "Geocoding Progress:  68%|██████▊   | 5755/8504 [09:23<03:38, 12.59it/s]"
     ]
    },
    {
     "name": "stdout",
     "output_type": "stream",
     "text": [
      "\u001b[91mdef get_coordinates(address, key_index): 주소 정보 존재여부 체크\u001b[0m\n",
      "\u001b[91m  [실패] API 검색 결과 없음: '서울특별시 강남구 대치동 남부순환로395길 11'\u001b[0m\n",
      "\u001b[91mdef get_coordinates(address, key_index): 주소 정보 존재여부 체크\u001b[0m\n",
      "\u001b[91m  [실패] API 검색 결과 없음: '서울특별시 강남구 대치동 남부순환로395길 12'\u001b[0m\n"
     ]
    },
    {
     "name": "stderr",
     "output_type": "stream",
     "text": [
      "Geocoding Progress:  68%|██████▊   | 5759/8504 [09:23<03:30, 13.01it/s]"
     ]
    },
    {
     "name": "stdout",
     "output_type": "stream",
     "text": [
      "\u001b[91mdef get_coordinates(address, key_index): 주소 정보 존재여부 체크\u001b[0m\n",
      "\u001b[91m  [실패] API 검색 결과 없음: '서울특별시 강남구 대치동 삼성로51길 58'\u001b[0m\n",
      "\u001b[91mdef get_coordinates(address, key_index): 주소 정보 존재여부 체크\u001b[0m\n",
      "\u001b[91m  [실패] API 검색 결과 없음: '서울특별시 강남구 대치동 남부순환로 3032'\u001b[0m\n",
      "\u001b[91mdef get_coordinates(address, key_index): 주소 정보 존재여부 체크\u001b[0m\n",
      "\u001b[91m  [실패] API 검색 결과 없음: '서울특별시 강남구 도곡동 남부순환로365길 16'\u001b[0m\n"
     ]
    },
    {
     "name": "stderr",
     "output_type": "stream",
     "text": [
      "Geocoding Progress:  68%|██████▊   | 5763/8504 [09:23<03:26, 13.30it/s]"
     ]
    },
    {
     "name": "stdout",
     "output_type": "stream",
     "text": [
      "\u001b[91mdef get_coordinates(address, key_index): 주소 정보 존재여부 체크\u001b[0m\n",
      "\u001b[91m  [실패] API 검색 결과 없음: '서울특별시 강남구 도곡동 논현로58길 20'\u001b[0m\n"
     ]
    },
    {
     "name": "stderr",
     "output_type": "stream",
     "text": [
      "Geocoding Progress:  68%|██████▊   | 5765/8504 [09:23<03:28, 13.15it/s]"
     ]
    },
    {
     "name": "stdout",
     "output_type": "stream",
     "text": [
      "\u001b[91mdef get_coordinates(address, key_index): 주소 정보 존재여부 체크\u001b[0m\n",
      "\u001b[91m  [실패] API 검색 결과 없음: '서울특별시 강남구 도곡동 남부순환로 2804'\u001b[0m\n",
      "\u001b[91mdef get_coordinates(address, key_index): 주소 정보 존재여부 체크\u001b[0m\n",
      "\u001b[91m  [실패] API 검색 결과 없음: '서울특별시 강남구 도곡동 남부순환로365길 42'\u001b[0m\n"
     ]
    },
    {
     "name": "stderr",
     "output_type": "stream",
     "text": [
      "Geocoding Progress:  68%|██████▊   | 5791/8504 [09:25<03:13, 14.05it/s]"
     ]
    },
    {
     "name": "stdout",
     "output_type": "stream",
     "text": [
      "\u001b[91mdef get_coordinates(address, key_index): 주소 정보 존재여부 체크\u001b[0m\n",
      "\u001b[91m  [실패] API 검색 결과 없음: '서울특별시 강남구 역삼동 선릉로85길 18'\u001b[0m\n"
     ]
    },
    {
     "name": "stderr",
     "output_type": "stream",
     "text": [
      "Geocoding Progress:  68%|██████▊   | 5799/8504 [09:26<03:16, 13.73it/s]"
     ]
    },
    {
     "name": "stdout",
     "output_type": "stream",
     "text": [
      "\u001b[91mdef get_coordinates(address, key_index): 주소 정보 존재여부 체크\u001b[0m\n",
      "\u001b[91m  [실패] API 검색 결과 없음: '서울특별시 강남구 일원동 광평로9길 34'\u001b[0m\n",
      "\u001b[91mdef get_coordinates(address, key_index): 주소 정보 존재여부 체크\u001b[0m\n",
      "\u001b[91m  [실패] API 검색 결과 없음: '서울특별시 강남구 일원동 개포로110길 46'\u001b[0m\n"
     ]
    },
    {
     "name": "stderr",
     "output_type": "stream",
     "text": [
      "Geocoding Progress:  68%|██████▊   | 5809/8504 [09:26<03:17, 13.66it/s]"
     ]
    },
    {
     "name": "stdout",
     "output_type": "stream",
     "text": [
      "\u001b[91mdef get_coordinates(address, key_index): 주소 정보 존재여부 체크\u001b[0m\n",
      "\u001b[91m  [실패] API 검색 결과 없음: '서울특별시 강남구 청담동 선릉로190길 120'\u001b[0m\n"
     ]
    },
    {
     "name": "stderr",
     "output_type": "stream",
     "text": [
      "Geocoding Progress:  68%|██████▊   | 5813/8504 [09:27<03:19, 13.48it/s]"
     ]
    },
    {
     "name": "stdout",
     "output_type": "stream",
     "text": [
      "\u001b[91mdef get_coordinates(address, key_index): 주소 정보 존재여부 체크\u001b[0m\n",
      "\u001b[91m  [실패] API 검색 결과 없음: '서울특별시 강남구 청담동 압구정로73길 30'\u001b[0m\n"
     ]
    },
    {
     "name": "stderr",
     "output_type": "stream",
     "text": [
      "Geocoding Progress:  68%|██████▊   | 5817/8504 [09:27<03:11, 14.05it/s]"
     ]
    },
    {
     "name": "stdout",
     "output_type": "stream",
     "text": [
      "\u001b[91mdef get_coordinates(address, key_index): 주소 정보 존재여부 체크\u001b[0m\n",
      "\u001b[91m  [실패] API 검색 결과 없음: '서울특별시 강동구 고덕동 아리수로50길 85'\u001b[0m\n",
      "\u001b[91mdef get_coordinates(address, key_index): 주소 정보 존재여부 체크\u001b[0m\n",
      "\u001b[91m  [실패] API 검색 결과 없음: '서울특별시 강동구 고덕동 아리수로50길 38'\u001b[0m\n",
      "\u001b[91mdef get_coordinates(address, key_index): 주소 정보 존재여부 체크\u001b[0m\n",
      "\u001b[91m  [실패] API 검색 결과 없음: '서울특별시 강동구 고덕동 아리수로50길 82'\u001b[0m\n"
     ]
    },
    {
     "name": "stderr",
     "output_type": "stream",
     "text": [
      "Geocoding Progress:  68%|██████▊   | 5819/8504 [09:27<03:09, 14.13it/s]"
     ]
    },
    {
     "name": "stdout",
     "output_type": "stream",
     "text": [
      "\u001b[91mdef get_coordinates(address, key_index): 주소 정보 존재여부 체크\u001b[0m\n",
      "\u001b[91m  [실패] API 검색 결과 없음: '서울특별시 강동구 고덕동 동남로82길 94-43'\u001b[0m\n",
      "\u001b[91mdef get_coordinates(address, key_index): 주소 정보 존재여부 체크\u001b[0m\n",
      "\u001b[91m  [실패] API 검색 결과 없음: '서울특별시 강동구 고덕동 고덕로 313'\u001b[0m\n",
      "\u001b[91mdef get_coordinates(address, key_index): 주소 정보 존재여부 체크\u001b[0m\n",
      "\u001b[91m  [실패] API 검색 결과 없음: '서울특별시 강동구 고덕동 고덕로79길 18'\u001b[0m\n"
     ]
    },
    {
     "name": "stderr",
     "output_type": "stream",
     "text": [
      "Geocoding Progress:  69%|██████▊   | 5845/8504 [09:29<03:30, 12.63it/s]"
     ]
    },
    {
     "name": "stdout",
     "output_type": "stream",
     "text": [
      "\u001b[91mdef get_coordinates(address, key_index): 주소 정보 존재여부 체크\u001b[0m\n",
      "\u001b[91m  [실패] API 검색 결과 없음: '서울특별시 강동구 명일동 양재대로 1656'\u001b[0m\n"
     ]
    },
    {
     "name": "stderr",
     "output_type": "stream",
     "text": [
      "Geocoding Progress:  69%|██████▉   | 5849/8504 [09:30<03:28, 12.76it/s]"
     ]
    },
    {
     "name": "stdout",
     "output_type": "stream",
     "text": [
      "\u001b[91mdef get_coordinates(address, key_index): 주소 정보 존재여부 체크\u001b[0m\n",
      "\u001b[91m  [실패] API 검색 결과 없음: '서울특별시 강동구 상일동 고덕로80길 13'\u001b[0m\n",
      "\u001b[91mdef get_coordinates(address, key_index): 주소 정보 존재여부 체크\u001b[0m\n",
      "\u001b[91m  [실패] API 검색 결과 없음: '서울특별시 강동구 상일동 상일로11길 95'\u001b[0m\n"
     ]
    },
    {
     "name": "stderr",
     "output_type": "stream",
     "text": [
      "Geocoding Progress:  69%|██████▉   | 5853/8504 [09:30<03:22, 13.11it/s]"
     ]
    },
    {
     "name": "stdout",
     "output_type": "stream",
     "text": [
      "\u001b[91mdef get_coordinates(address, key_index): 주소 정보 존재여부 체크\u001b[0m\n",
      "\u001b[91m  [실패] API 검색 결과 없음: '서울특별시 강동구 상일동 상암로79길 62'\u001b[0m\n"
     ]
    },
    {
     "name": "stderr",
     "output_type": "stream",
     "text": [
      "Geocoding Progress:  69%|██████▉   | 5863/8504 [09:31<03:14, 13.56it/s]"
     ]
    },
    {
     "name": "stdout",
     "output_type": "stream",
     "text": [
      "\u001b[91mdef get_coordinates(address, key_index): 주소 정보 존재여부 체크\u001b[0m\n",
      "\u001b[91m  [실패] API 검색 결과 없음: '서울특별시 강동구 천호동 천중로5길 47'\u001b[0m\n"
     ]
    },
    {
     "name": "stderr",
     "output_type": "stream",
     "text": [
      "Geocoding Progress:  69%|██████▉   | 5887/8504 [09:32<03:18, 13.20it/s]"
     ]
    },
    {
     "name": "stdout",
     "output_type": "stream",
     "text": [
      "\u001b[91mdef get_coordinates(address, key_index): 주소 정보 존재여부 체크\u001b[0m\n",
      "\u001b[91m  [실패] API 검색 결과 없음: '서울특별시 강서구 염창동 공항대로69길 29-10'\u001b[0m\n"
     ]
    },
    {
     "name": "stderr",
     "output_type": "stream",
     "text": [
      "Geocoding Progress:  69%|██████▉   | 5907/8504 [09:34<03:13, 13.45it/s]"
     ]
    },
    {
     "name": "stdout",
     "output_type": "stream",
     "text": [
      "\u001b[91mdef get_coordinates(address, key_index): 주소 정보 존재여부 체크\u001b[0m\n",
      "\u001b[91m  [실패] API 검색 결과 없음: '서울특별시 강서구 화곡동 월정로20길 82-8'\u001b[0m\n"
     ]
    },
    {
     "name": "stderr",
     "output_type": "stream",
     "text": [
      "Geocoding Progress:  71%|███████   | 6029/8504 [09:44<04:49,  8.55it/s]"
     ]
    },
    {
     "name": "stdout",
     "output_type": "stream",
     "text": [
      "\u001b[91mdef get_coordinates(address, key_index): 주소 정보 존재여부 체크\u001b[0m\n",
      "\u001b[91m  [실패] API 검색 결과 없음: '서울특별시 구로구 천왕동 오리로13길 105'\u001b[0m\n"
     ]
    },
    {
     "name": "stderr",
     "output_type": "stream",
     "text": [
      "Geocoding Progress:  71%|███████   | 6055/8504 [09:46<03:05, 13.19it/s]"
     ]
    },
    {
     "name": "stdout",
     "output_type": "stream",
     "text": [
      "\u001b[91mdef get_coordinates(address, key_index): 주소 정보 존재여부 체크\u001b[0m\n",
      "\u001b[91m  [실패] API 검색 결과 없음: '서울특별시 노원구 상계동 노원로38길 46'\u001b[0m\n"
     ]
    },
    {
     "name": "stderr",
     "output_type": "stream",
     "text": [
      "Geocoding Progress:  71%|███████▏  | 6061/8504 [09:47<03:05, 13.18it/s]"
     ]
    },
    {
     "name": "stdout",
     "output_type": "stream",
     "text": [
      "\u001b[91mdef get_coordinates(address, key_index): 주소 정보 존재여부 체크\u001b[0m\n",
      "\u001b[91m  [실패] API 검색 결과 없음: '서울특별시 노원구 중계동 중계로14길 22'\u001b[0m\n",
      "\u001b[91mdef get_coordinates(address, key_index): 주소 정보 존재여부 체크\u001b[0m\n",
      "\u001b[91m  [실패] API 검색 결과 없음: '서울특별시 도봉구 도봉동 도봉로169라길 77'\u001b[0m\n"
     ]
    },
    {
     "name": "stderr",
     "output_type": "stream",
     "text": [
      "Geocoding Progress:  71%|███████▏  | 6073/8504 [09:47<03:02, 13.29it/s]"
     ]
    },
    {
     "name": "stdout",
     "output_type": "stream",
     "text": [
      "\u001b[91mdef get_coordinates(address, key_index): 주소 정보 존재여부 체크\u001b[0m\n",
      "\u001b[91m  [실패] API 검색 결과 없음: '서울특별시 도봉구 쌍문동 도봉로127길 71'\u001b[0m\n"
     ]
    },
    {
     "name": "stderr",
     "output_type": "stream",
     "text": [
      "Geocoding Progress:  72%|███████▏  | 6115/8504 [09:51<03:03, 13.05it/s]"
     ]
    },
    {
     "name": "stdout",
     "output_type": "stream",
     "text": [
      "\u001b[91mdef get_coordinates(address, key_index): 주소 정보 존재여부 체크\u001b[0m\n",
      "\u001b[91m  [실패] API 검색 결과 없음: '서울특별시 동작구 상도동 상도로 253'\u001b[0m\n"
     ]
    },
    {
     "name": "stderr",
     "output_type": "stream",
     "text": [
      "Geocoding Progress:  72%|███████▏  | 6121/8504 [09:51<03:05, 12.82it/s]"
     ]
    },
    {
     "name": "stdout",
     "output_type": "stream",
     "text": [
      "\u001b[91mdef get_coordinates(address, key_index): 주소 정보 존재여부 체크\u001b[0m\n",
      "\u001b[91m  [실패] API 검색 결과 없음: '서울특별시 동작구 흑석동 현충로 50'\u001b[0m\n"
     ]
    },
    {
     "name": "stderr",
     "output_type": "stream",
     "text": [
      "Geocoding Progress:  72%|███████▏  | 6127/8504 [09:52<03:10, 12.49it/s]"
     ]
    },
    {
     "name": "stdout",
     "output_type": "stream",
     "text": [
      "\u001b[91mdef get_coordinates(address, key_index): 주소 정보 존재여부 체크\u001b[0m\n",
      "\u001b[91m  [실패] API 검색 결과 없음: '서울특별시 마포구 상암동 매봉산로 8'\u001b[0m\n",
      "\n",
      "--- 6000개 처리 완료. 체크포인트를 저장합니다 ---\n"
     ]
    },
    {
     "name": "stderr",
     "output_type": "stream",
     "text": [
      "Geocoding Progress:  72%|███████▏  | 6130/8504 [10:07<1:11:32,  1.81s/it]"
     ]
    },
    {
     "name": "stdout",
     "output_type": "stream",
     "text": [
      "체크포인트 저장 완료: '../data/processed/train_geocoded_checkpoint.csv'\n"
     ]
    },
    {
     "name": "stderr",
     "output_type": "stream",
     "text": [
      "Geocoding Progress:  72%|███████▏  | 6150/8504 [10:08<04:50,  8.09it/s]  "
     ]
    },
    {
     "name": "stdout",
     "output_type": "stream",
     "text": [
      "\u001b[91mdef get_coordinates(address, key_index): 주소 정보 존재여부 체크\u001b[0m\n",
      "\u001b[91m  [실패] API 검색 결과 없음: '서울특별시 마포구 용강동 큰우물로 50'\u001b[0m\n"
     ]
    },
    {
     "name": "stderr",
     "output_type": "stream",
     "text": [
      "Geocoding Progress:  72%|███████▏  | 6152/8504 [10:08<04:17,  9.13it/s]"
     ]
    },
    {
     "name": "stdout",
     "output_type": "stream",
     "text": [
      "\u001b[91mdef get_coordinates(address, key_index): 주소 정보 존재여부 체크\u001b[0m\n",
      "\u001b[91m  [실패] API 검색 결과 없음: '서울특별시 마포구 현석동 토정로18길 41'\u001b[0m\n"
     ]
    },
    {
     "name": "stderr",
     "output_type": "stream",
     "text": [
      "Geocoding Progress:  72%|███████▏  | 6158/8504 [10:09<03:30, 11.13it/s]"
     ]
    },
    {
     "name": "stdout",
     "output_type": "stream",
     "text": [
      "\u001b[91mdef get_coordinates(address, key_index): 주소 정보 존재여부 체크\u001b[0m\n",
      "\u001b[91m  [실패] API 검색 결과 없음: '서울특별시 서대문구 북아현동 북아현로1가길 23'\u001b[0m\n"
     ]
    },
    {
     "name": "stderr",
     "output_type": "stream",
     "text": [
      "Geocoding Progress:  73%|███████▎  | 6166/8504 [10:10<03:09, 12.37it/s]"
     ]
    },
    {
     "name": "stdout",
     "output_type": "stream",
     "text": [
      "\u001b[91mdef get_coordinates(address, key_index): 주소 정보 존재여부 체크\u001b[0m\n",
      "\u001b[91m  [실패] API 검색 결과 없음: '서울특별시 서대문구 연희동 홍제천로 128-5'\u001b[0m\n"
     ]
    },
    {
     "name": "stderr",
     "output_type": "stream",
     "text": [
      "Geocoding Progress:  73%|███████▎  | 6170/8504 [10:10<03:08, 12.38it/s]"
     ]
    },
    {
     "name": "stdout",
     "output_type": "stream",
     "text": [
      "\u001b[91mdef get_coordinates(address, key_index): 주소 정보 존재여부 체크\u001b[0m\n",
      "\u001b[91m  [실패] API 검색 결과 없음: '서울특별시 서대문구 연희동 홍제천로 120'\u001b[0m\n"
     ]
    },
    {
     "name": "stderr",
     "output_type": "stream",
     "text": [
      "Geocoding Progress:  73%|███████▎  | 6194/8504 [10:12<02:58, 12.92it/s]"
     ]
    },
    {
     "name": "stdout",
     "output_type": "stream",
     "text": [
      "\u001b[91mdef get_coordinates(address, key_index): 주소 정보 존재여부 체크\u001b[0m\n",
      "\u001b[91m  [실패] API 검색 결과 없음: '서울특별시 서초구 반포동 사평대로 310-8'\u001b[0m\n",
      "\u001b[91mdef get_coordinates(address, key_index): 주소 정보 존재여부 체크\u001b[0m\n",
      "\u001b[91m  [실패] API 검색 결과 없음: '서울특별시 서초구 반포동 고무래로 79'\u001b[0m\n"
     ]
    },
    {
     "name": "stderr",
     "output_type": "stream",
     "text": [
      "Geocoding Progress:  73%|███████▎  | 6200/8504 [10:12<03:00, 12.78it/s]"
     ]
    },
    {
     "name": "stdout",
     "output_type": "stream",
     "text": [
      "\u001b[91mdef get_coordinates(address, key_index): 주소 정보 존재여부 체크\u001b[0m\n",
      "\u001b[91m  [실패] API 검색 결과 없음: '서울특별시 서초구 반포동 신반포로3길 14'\u001b[0m\n"
     ]
    },
    {
     "name": "stderr",
     "output_type": "stream",
     "text": [
      "Geocoding Progress:  73%|███████▎  | 6232/8504 [10:15<02:54, 13.01it/s]"
     ]
    },
    {
     "name": "stdout",
     "output_type": "stream",
     "text": [
      "\u001b[91mdef get_coordinates(address, key_index): 주소 정보 존재여부 체크\u001b[0m\n",
      "\u001b[91m  [실패] API 검색 결과 없음: '서울특별시 서초구 서초동 서운로 211'\u001b[0m\n",
      "\u001b[91mdef get_coordinates(address, key_index): 주소 정보 존재여부 체크\u001b[0m\n",
      "\u001b[91m  [실패] API 검색 결과 없음: '서울특별시 서초구 서초동 서운로 208'\u001b[0m\n"
     ]
    },
    {
     "name": "stderr",
     "output_type": "stream",
     "text": [
      "Geocoding Progress:  73%|███████▎  | 6244/8504 [10:16<02:58, 12.67it/s]"
     ]
    },
    {
     "name": "stdout",
     "output_type": "stream",
     "text": [
      "\u001b[91mdef get_coordinates(address, key_index): 주소 정보 존재여부 체크\u001b[0m\n",
      "\u001b[91m  [실패] API 검색 결과 없음: '서울특별시 서초구 서초동 사임당로 169'\u001b[0m\n"
     ]
    },
    {
     "name": "stderr",
     "output_type": "stream",
     "text": [
      "Geocoding Progress:  74%|███████▎  | 6259/8504 [10:18<03:44, 10.01it/s]"
     ]
    },
    {
     "name": "stdout",
     "output_type": "stream",
     "text": [
      "\u001b[91mdef get_coordinates(address, key_index): 주소 정보 존재여부 체크\u001b[0m\n",
      "\u001b[91m  [실패] API 검색 결과 없음: '서울특별시 서초구 잠원동 잠원로8길 25'\u001b[0m\n",
      "\u001b[91mdef get_coordinates(address, key_index): 주소 정보 존재여부 체크\u001b[0m\n",
      "\u001b[91m  [실패] API 검색 결과 없음: '서울특별시 서초구 잠원동 잠원로12길 5'\u001b[0m\n"
     ]
    },
    {
     "name": "stderr",
     "output_type": "stream",
     "text": [
      "Geocoding Progress:  74%|███████▎  | 6263/8504 [10:18<03:14, 11.52it/s]"
     ]
    },
    {
     "name": "stdout",
     "output_type": "stream",
     "text": [
      "\u001b[91mdef get_coordinates(address, key_index): 주소 정보 존재여부 체크\u001b[0m\n",
      "\u001b[91m  [실패] API 검색 결과 없음: '서울특별시 서초구 잠원동 잠원로 195'\u001b[0m\n",
      "\u001b[91mdef get_coordinates(address, key_index): 주소 정보 존재여부 체크\u001b[0m\n",
      "\u001b[91m  [실패] API 검색 결과 없음: '서울특별시 서초구 잠원동 잠원로12길 13'\u001b[0m\n"
     ]
    },
    {
     "name": "stderr",
     "output_type": "stream",
     "text": [
      "Geocoding Progress:  74%|███████▎  | 6267/8504 [10:18<02:58, 12.53it/s]"
     ]
    },
    {
     "name": "stdout",
     "output_type": "stream",
     "text": [
      "\u001b[91mdef get_coordinates(address, key_index): 주소 정보 존재여부 체크\u001b[0m\n",
      "\u001b[91m  [실패] API 검색 결과 없음: '서울특별시 서초구 잠원동 잠원로 127'\u001b[0m\n",
      "\u001b[91mdef get_coordinates(address, key_index): 주소 정보 존재여부 체크\u001b[0m\n",
      "\u001b[91m  [실패] API 검색 결과 없음: '서울특별시 서초구 잠원동 신반포로 171'\u001b[0m\n"
     ]
    },
    {
     "name": "stderr",
     "output_type": "stream",
     "text": [
      "Geocoding Progress:  74%|███████▎  | 6269/8504 [10:18<02:52, 12.92it/s]"
     ]
    },
    {
     "name": "stdout",
     "output_type": "stream",
     "text": [
      "\u001b[91mdef get_coordinates(address, key_index): 주소 정보 존재여부 체크\u001b[0m\n",
      "\u001b[91m  [실패] API 검색 결과 없음: '서울특별시 서초구 잠원동 잠원로 62'\u001b[0m\n"
     ]
    },
    {
     "name": "stderr",
     "output_type": "stream",
     "text": [
      "Geocoding Progress:  74%|███████▍  | 6275/8504 [10:19<02:54, 12.81it/s]"
     ]
    },
    {
     "name": "stdout",
     "output_type": "stream",
     "text": [
      "\u001b[91mdef get_coordinates(address, key_index): 주소 정보 존재여부 체크\u001b[0m\n",
      "\u001b[91m  [실패] API 검색 결과 없음: '서울특별시 성동구 성수동1가 왕십리로 85'\u001b[0m\n",
      "\u001b[91mdef get_coordinates(address, key_index): 주소 정보 존재여부 체크\u001b[0m\n",
      "\u001b[91m  [실패] API 검색 결과 없음: '서울특별시 성동구 성수동1가 상원길 15'\u001b[0m\n"
     ]
    },
    {
     "name": "stderr",
     "output_type": "stream",
     "text": [
      "Geocoding Progress:  74%|███████▍  | 6281/8504 [10:19<02:55, 12.64it/s]"
     ]
    },
    {
     "name": "stdout",
     "output_type": "stream",
     "text": [
      "\u001b[91mdef get_coordinates(address, key_index): 주소 정보 존재여부 체크\u001b[0m\n",
      "\u001b[91m  [실패] API 검색 결과 없음: '서울특별시 성북구 길음동 동소문로43길 33'\u001b[0m\n"
     ]
    },
    {
     "name": "stderr",
     "output_type": "stream",
     "text": [
      "Geocoding Progress:  74%|███████▍  | 6299/8504 [10:21<02:48, 13.10it/s]"
     ]
    },
    {
     "name": "stdout",
     "output_type": "stream",
     "text": [
      "\u001b[91mdef get_coordinates(address, key_index): 주소 정보 존재여부 체크\u001b[0m\n",
      "\u001b[91m  [실패] API 검색 결과 없음: '서울특별시 송파구 가락동 동남로18길 44'\u001b[0m\n",
      "\u001b[91mdef get_coordinates(address, key_index): 주소 정보 존재여부 체크\u001b[0m\n",
      "\u001b[91m  [실패] API 검색 결과 없음: '서울특별시 송파구 거여동 오금로 553'\u001b[0m\n",
      "\u001b[91mdef get_coordinates(address, key_index): 주소 정보 존재여부 체크\u001b[0m\n",
      "\u001b[91m  [실패] API 검색 결과 없음: '서울특별시 송파구 거여동 마천로 320'\u001b[0m\n"
     ]
    },
    {
     "name": "stderr",
     "output_type": "stream",
     "text": [
      "Geocoding Progress:  74%|███████▍  | 6303/8504 [10:21<02:45, 13.27it/s]"
     ]
    },
    {
     "name": "stdout",
     "output_type": "stream",
     "text": [
      "\u001b[91mdef get_coordinates(address, key_index): 주소 정보 존재여부 체크\u001b[0m\n",
      "\u001b[91m  [실패] API 검색 결과 없음: '서울특별시 송파구 문정동 송이로31길 20-10'\u001b[0m\n"
     ]
    },
    {
     "name": "stderr",
     "output_type": "stream",
     "text": [
      "Geocoding Progress:  74%|███████▍  | 6321/8504 [10:22<02:50, 12.84it/s]"
     ]
    },
    {
     "name": "stdout",
     "output_type": "stream",
     "text": [
      "\u001b[91mdef get_coordinates(address, key_index): 주소 정보 존재여부 체크\u001b[0m\n",
      "\u001b[91m  [실패] API 검색 결과 없음: '서울특별시 송파구 오금동 동남로23가길 8-27'\u001b[0m\n",
      "\u001b[91mdef get_coordinates(address, key_index): 주소 정보 존재여부 체크\u001b[0m\n",
      "\u001b[91m  [실패] API 검색 결과 없음: '서울특별시 송파구 잠실동 석촌호수로 169'\u001b[0m\n"
     ]
    },
    {
     "name": "stderr",
     "output_type": "stream",
     "text": [
      "Geocoding Progress:  74%|███████▍  | 6325/8504 [10:23<02:50, 12.75it/s]"
     ]
    },
    {
     "name": "stdout",
     "output_type": "stream",
     "text": [
      "\u001b[91mdef get_coordinates(address, key_index): 주소 정보 존재여부 체크\u001b[0m\n",
      "\u001b[91m  [실패] API 검색 결과 없음: '서울특별시 송파구 풍납동 올림픽로43길 30'\u001b[0m\n"
     ]
    },
    {
     "name": "stderr",
     "output_type": "stream",
     "text": [
      "Geocoding Progress:  74%|███████▍  | 6333/8504 [10:23<02:46, 13.07it/s]"
     ]
    },
    {
     "name": "stdout",
     "output_type": "stream",
     "text": [
      "\u001b[91mdef get_coordinates(address, key_index): 주소 정보 존재여부 체크\u001b[0m\n",
      "\u001b[91m  [실패] API 검색 결과 없음: '서울특별시 양천구 목동 안양천로 1165'\u001b[0m\n"
     ]
    },
    {
     "name": "stderr",
     "output_type": "stream",
     "text": [
      "Geocoding Progress:  75%|███████▍  | 6345/8504 [10:24<02:43, 13.18it/s]"
     ]
    },
    {
     "name": "stdout",
     "output_type": "stream",
     "text": [
      "\u001b[91mdef get_coordinates(address, key_index): 주소 정보 존재여부 체크\u001b[0m\n",
      "\u001b[91m  [실패] API 검색 결과 없음: '서울특별시 양천구 신월동 신월로10길 29'\u001b[0m\n"
     ]
    },
    {
     "name": "stderr",
     "output_type": "stream",
     "text": [
      "Geocoding Progress:  75%|███████▍  | 6347/8504 [10:24<02:42, 13.24it/s]"
     ]
    },
    {
     "name": "stdout",
     "output_type": "stream",
     "text": [
      "\u001b[91mdef get_coordinates(address, key_index): 주소 정보 존재여부 체크\u001b[0m\n",
      "\u001b[91m  [실패] API 검색 결과 없음: '서울특별시 양천구 신월동 남부순환로69길 12'\u001b[0m\n"
     ]
    },
    {
     "name": "stderr",
     "output_type": "stream",
     "text": [
      "Geocoding Progress:  75%|███████▍  | 6351/8504 [10:25<02:37, 13.68it/s]"
     ]
    },
    {
     "name": "stdout",
     "output_type": "stream",
     "text": [
      "\u001b[91mdef get_coordinates(address, key_index): 주소 정보 존재여부 체크\u001b[0m\n",
      "\u001b[91m  [실패] API 검색 결과 없음: '서울특별시 양천구 신월동 신월로27길 10'\u001b[0m\n"
     ]
    },
    {
     "name": "stderr",
     "output_type": "stream",
     "text": [
      "Geocoding Progress:  75%|███████▍  | 6355/8504 [10:25<02:38, 13.55it/s]"
     ]
    },
    {
     "name": "stdout",
     "output_type": "stream",
     "text": [
      "\u001b[91mdef get_coordinates(address, key_index): 주소 정보 존재여부 체크\u001b[0m\n",
      "\u001b[91m  [실패] API 검색 결과 없음: '서울특별시 양천구 신월동 신월로27길 12'\u001b[0m\n"
     ]
    },
    {
     "name": "stderr",
     "output_type": "stream",
     "text": [
      "Geocoding Progress:  75%|███████▍  | 6369/8504 [10:26<02:45, 12.92it/s]"
     ]
    },
    {
     "name": "stdout",
     "output_type": "stream",
     "text": [
      "\u001b[91mdef get_coordinates(address, key_index): 주소 정보 존재여부 체크\u001b[0m\n",
      "\u001b[91m  [실패] API 검색 결과 없음: '서울특별시 양천구 신정동 신목로5길 23-6'\u001b[0m\n"
     ]
    },
    {
     "name": "stderr",
     "output_type": "stream",
     "text": [
      "Geocoding Progress:  75%|███████▍  | 6371/8504 [10:26<02:43, 13.08it/s]"
     ]
    },
    {
     "name": "stdout",
     "output_type": "stream",
     "text": [
      "\u001b[91mdef get_coordinates(address, key_index): 주소 정보 존재여부 체크\u001b[0m\n",
      "\u001b[91m  [실패] API 검색 결과 없음: '서울특별시 영등포구 당산동5가 영신로 245'\u001b[0m\n"
     ]
    },
    {
     "name": "stderr",
     "output_type": "stream",
     "text": [
      "Geocoding Progress:  75%|███████▌  | 6389/8504 [10:27<02:39, 13.27it/s]"
     ]
    },
    {
     "name": "stdout",
     "output_type": "stream",
     "text": [
      "\u001b[91mdef get_coordinates(address, key_index): 주소 정보 존재여부 체크\u001b[0m\n",
      "\u001b[91m  [실패] API 검색 결과 없음: '서울특별시 용산구 이촌동 이촌로 294-1'\u001b[0m\n"
     ]
    },
    {
     "name": "stderr",
     "output_type": "stream",
     "text": [
      "Geocoding Progress:  76%|███████▌  | 6455/8504 [10:32<02:39, 12.81it/s]"
     ]
    },
    {
     "name": "stdout",
     "output_type": "stream",
     "text": [
      "\u001b[91mdef get_coordinates(address, key_index): 주소 정보 존재여부 체크\u001b[0m\n",
      "\u001b[91m  [실패] API 검색 결과 없음: '서울특별시 은평구 응암동 은평로16가길 20-3'\u001b[0m\n"
     ]
    },
    {
     "name": "stderr",
     "output_type": "stream",
     "text": [
      "Geocoding Progress:  77%|███████▋  | 6545/8504 [10:39<02:37, 12.40it/s]"
     ]
    },
    {
     "name": "stdout",
     "output_type": "stream",
     "text": [
      "\u001b[91mdef get_coordinates(address, key_index): 주소 정보 존재여부 체크\u001b[0m\n",
      "\u001b[91m  [실패] API 검색 결과 없음: '서울특별시 강남구 청담동 선릉로190길 124'\u001b[0m\n"
     ]
    },
    {
     "name": "stderr",
     "output_type": "stream",
     "text": [
      "Geocoding Progress:  77%|███████▋  | 6559/8504 [10:41<02:32, 12.74it/s]"
     ]
    },
    {
     "name": "stdout",
     "output_type": "stream",
     "text": [
      "\u001b[91mdef get_coordinates(address, key_index): 주소 정보 존재여부 체크\u001b[0m\n",
      "\u001b[91m  [실패] API 검색 결과 없음: '서울특별시 강동구 상일동 고덕로80길 74'\u001b[0m\n"
     ]
    },
    {
     "name": "stderr",
     "output_type": "stream",
     "text": [
      "Geocoding Progress:  77%|███████▋  | 6569/8504 [10:41<02:32, 12.72it/s]"
     ]
    },
    {
     "name": "stdout",
     "output_type": "stream",
     "text": [
      "\u001b[91mdef get_coordinates(address, key_index): 주소 정보 존재여부 체크\u001b[0m\n",
      "\u001b[91m  [실패] API 검색 결과 없음: '서울특별시 강동구 천호동 올림픽로78길 15-8'\u001b[0m\n"
     ]
    },
    {
     "name": "stderr",
     "output_type": "stream",
     "text": [
      "Geocoding Progress:  78%|███████▊  | 6595/8504 [10:43<02:27, 12.94it/s]"
     ]
    },
    {
     "name": "stdout",
     "output_type": "stream",
     "text": [
      "\u001b[91mdef get_coordinates(address, key_index): 주소 정보 존재여부 체크\u001b[0m\n",
      "\u001b[91m  [실패] API 검색 결과 없음: '서울특별시 강서구 방화동 방화대로42길 30-3'\u001b[0m\n"
     ]
    },
    {
     "name": "stderr",
     "output_type": "stream",
     "text": [
      "Geocoding Progress:  80%|███████▉  | 6777/8504 [10:58<02:12, 13.05it/s]"
     ]
    },
    {
     "name": "stdout",
     "output_type": "stream",
     "text": [
      "\u001b[91mdef get_coordinates(address, key_index): 주소 정보 존재여부 체크\u001b[0m\n",
      "\u001b[91m  [실패] API 검색 결과 없음: '서울특별시 마포구 망원동 희우정로13길 9'\u001b[0m\n"
     ]
    },
    {
     "name": "stderr",
     "output_type": "stream",
     "text": [
      "Geocoding Progress:  80%|████████  | 6809/8504 [11:01<01:59, 14.16it/s]"
     ]
    },
    {
     "name": "stdout",
     "output_type": "stream",
     "text": [
      "\u001b[91mdef get_coordinates(address, key_index): 주소 정보 존재여부 체크\u001b[0m\n",
      "\u001b[91m  [실패] API 검색 결과 없음: '서울특별시 서대문구 홍제동 통일로31길 5'\u001b[0m\n"
     ]
    },
    {
     "name": "stderr",
     "output_type": "stream",
     "text": [
      "Geocoding Progress:  80%|████████  | 6825/8504 [11:02<01:57, 14.31it/s]"
     ]
    },
    {
     "name": "stdout",
     "output_type": "stream",
     "text": [
      "\u001b[91mdef get_coordinates(address, key_index): 주소 정보 존재여부 체크\u001b[0m\n",
      "\u001b[91m  [실패] API 검색 결과 없음: '서울특별시 서초구 방배동 효령로21길 47'\u001b[0m\n"
     ]
    },
    {
     "name": "stderr",
     "output_type": "stream",
     "text": [
      "Geocoding Progress:  81%|████████  | 6875/8504 [11:06<01:57, 13.82it/s]"
     ]
    },
    {
     "name": "stdout",
     "output_type": "stream",
     "text": [
      "\u001b[91mdef get_coordinates(address, key_index): 주소 정보 존재여부 체크\u001b[0m\n",
      "\u001b[91m  [실패] API 검색 결과 없음: '서울특별시 성동구 금호동1가 난계로 9'\u001b[0m\n"
     ]
    },
    {
     "name": "stderr",
     "output_type": "stream",
     "text": [
      "Geocoding Progress:  81%|████████  | 6881/8504 [11:06<01:55, 14.08it/s]"
     ]
    },
    {
     "name": "stdout",
     "output_type": "stream",
     "text": [
      "\u001b[91mdef get_coordinates(address, key_index): 주소 정보 존재여부 체크\u001b[0m\n",
      "\u001b[91m  [실패] API 검색 결과 없음: '서울특별시 성동구 하왕십리동 왕십리로39길 30'\u001b[0m\n",
      "\u001b[91mdef get_coordinates(address, key_index): 주소 정보 존재여부 체크\u001b[0m\n",
      "\u001b[91m  [실패] API 검색 결과 없음: '서울특별시 성북구 길음동 삼양로6길 31'\u001b[0m\n"
     ]
    },
    {
     "name": "stderr",
     "output_type": "stream",
     "text": [
      "Geocoding Progress:  81%|████████  | 6885/8504 [11:06<02:03, 13.15it/s]"
     ]
    },
    {
     "name": "stdout",
     "output_type": "stream",
     "text": [
      "\u001b[91mdef get_coordinates(address, key_index): 주소 정보 존재여부 체크\u001b[0m\n",
      "\u001b[91m  [실패] API 검색 결과 없음: '서울특별시 성북구 돈암동 13-85'\u001b[0m\n",
      "\u001b[91mdef get_coordinates(address, key_index): 주소 정보 존재여부 체크\u001b[0m\n",
      "\u001b[91m  [실패] API 검색 결과 없음: '서울특별시 성북구 돈암동 동소문로29길 60-12'\u001b[0m\n"
     ]
    },
    {
     "name": "stderr",
     "output_type": "stream",
     "text": [
      "Geocoding Progress:  81%|████████  | 6899/8504 [11:07<02:03, 13.03it/s]"
     ]
    },
    {
     "name": "stdout",
     "output_type": "stream",
     "text": [
      "\u001b[91mdef get_coordinates(address, key_index): 주소 정보 존재여부 체크\u001b[0m\n",
      "\u001b[91m  [실패] API 검색 결과 없음: '서울특별시 송파구 거여동 오금로 557'\u001b[0m\n",
      "\u001b[91mdef get_coordinates(address, key_index): 주소 정보 존재여부 체크\u001b[0m\n",
      "\u001b[91m  [실패] API 검색 결과 없음: '서울특별시 송파구 문정동 송이로37가길 22'\u001b[0m\n"
     ]
    },
    {
     "name": "stderr",
     "output_type": "stream",
     "text": [
      "Geocoding Progress:  81%|████████▏ | 6911/8504 [11:08<02:04, 12.80it/s]"
     ]
    },
    {
     "name": "stdout",
     "output_type": "stream",
     "text": [
      "\u001b[91mdef get_coordinates(address, key_index): 주소 정보 존재여부 체크\u001b[0m\n",
      "\u001b[91m  [실패] API 검색 결과 없음: '서울특별시 송파구 송파동 167'\u001b[0m\n"
     ]
    },
    {
     "name": "stderr",
     "output_type": "stream",
     "text": [
      "Geocoding Progress:  81%|████████▏ | 6929/8504 [11:10<02:02, 12.84it/s]"
     ]
    },
    {
     "name": "stdout",
     "output_type": "stream",
     "text": [
      "\u001b[91mdef get_coordinates(address, key_index): 주소 정보 존재여부 체크\u001b[0m\n",
      "\u001b[91m  [실패] API 검색 결과 없음: '서울특별시 양천구 신월동 신월로10길 23'\u001b[0m\n"
     ]
    },
    {
     "name": "stderr",
     "output_type": "stream",
     "text": [
      "Geocoding Progress:  82%|████████▏ | 6935/8504 [11:10<01:59, 13.14it/s]"
     ]
    },
    {
     "name": "stdout",
     "output_type": "stream",
     "text": [
      "\u001b[91mdef get_coordinates(address, key_index): 주소 정보 존재여부 체크\u001b[0m\n",
      "\u001b[91m  [실패] API 검색 결과 없음: '서울특별시 양천구 신월동 절골10길 9'\u001b[0m\n"
     ]
    },
    {
     "name": "stderr",
     "output_type": "stream",
     "text": [
      "Geocoding Progress:  82%|████████▏ | 6945/8504 [11:11<02:00, 12.92it/s]"
     ]
    },
    {
     "name": "stdout",
     "output_type": "stream",
     "text": [
      "\u001b[91mdef get_coordinates(address, key_index): 주소 정보 존재여부 체크\u001b[0m\n",
      "\u001b[91m  [실패] API 검색 결과 없음: '서울특별시 양천구 신정동 목동동로12길 6'\u001b[0m\n"
     ]
    },
    {
     "name": "stderr",
     "output_type": "stream",
     "text": [
      "Geocoding Progress:  82%|████████▏ | 6985/8504 [11:14<01:52, 13.49it/s]"
     ]
    },
    {
     "name": "stdout",
     "output_type": "stream",
     "text": [
      "\u001b[91mdef get_coordinates(address, key_index): 주소 정보 존재여부 체크\u001b[0m\n",
      "\u001b[91m  [실패] API 검색 결과 없음: '서울특별시 은평구 수색동 수색로 322-5'\u001b[0m\n",
      "\u001b[91mdef get_coordinates(address, key_index): 주소 정보 존재여부 체크\u001b[0m\n",
      "\u001b[91m  [실패] API 검색 결과 없음: '서울특별시 은평구 수색동 수색로14길 5-17'\u001b[0m\n",
      "\u001b[91mdef get_coordinates(address, key_index): 주소 정보 존재여부 체크\u001b[0m\n",
      "\u001b[91m  [실패] API 검색 결과 없음: '서울특별시 은평구 수색동 수색로 322-16'\u001b[0m\n"
     ]
    },
    {
     "name": "stderr",
     "output_type": "stream",
     "text": [
      "Geocoding Progress:  82%|████████▏ | 6987/8504 [11:14<01:52, 13.43it/s]"
     ]
    },
    {
     "name": "stdout",
     "output_type": "stream",
     "text": [
      "\u001b[91mdef get_coordinates(address, key_index): 주소 정보 존재여부 체크\u001b[0m\n",
      "\u001b[91m  [실패] API 검색 결과 없음: '서울특별시 은평구 수색동 수색로20길 26-13'\u001b[0m\n"
     ]
    },
    {
     "name": "stderr",
     "output_type": "stream",
     "text": [
      "Geocoding Progress:  83%|████████▎ | 7021/8504 [11:17<01:57, 12.62it/s]"
     ]
    },
    {
     "name": "stdout",
     "output_type": "stream",
     "text": [
      "\u001b[91mdef get_coordinates(address, key_index): 주소 정보 존재여부 체크\u001b[0m\n",
      "\u001b[91m  [실패] API 검색 결과 없음: '서울특별시 중구 만리동2가 손기정로18길 19'\u001b[0m\n"
     ]
    },
    {
     "name": "stderr",
     "output_type": "stream",
     "text": [
      "Geocoding Progress:  85%|████████▍ | 7187/8504 [11:32<03:37,  6.07it/s]"
     ]
    },
    {
     "name": "stdout",
     "output_type": "stream",
     "text": [
      "\n",
      "--- 7000개 처리 완료. 체크포인트를 저장합니다 ---\n"
     ]
    },
    {
     "name": "stderr",
     "output_type": "stream",
     "text": [
      "Geocoding Progress:  85%|████████▍ | 7190/8504 [11:47<39:47,  1.82s/it]"
     ]
    },
    {
     "name": "stdout",
     "output_type": "stream",
     "text": [
      "체크포인트 저장 완료: '../data/processed/train_geocoded_checkpoint.csv'\n"
     ]
    },
    {
     "name": "stderr",
     "output_type": "stream",
     "text": [
      "Geocoding Progress:  85%|████████▍ | 7212/8504 [11:49<02:17,  9.37it/s]"
     ]
    },
    {
     "name": "stdout",
     "output_type": "stream",
     "text": [
      "\u001b[91mdef get_coordinates(address, key_index): 주소 정보 존재여부 체크\u001b[0m\n",
      "\u001b[91m  [실패] API 검색 결과 없음: '서울특별시 동작구 상도동 관악로 304'\u001b[0m\n"
     ]
    },
    {
     "name": "stderr",
     "output_type": "stream",
     "text": [
      "Geocoding Progress:  85%|████████▍ | 7218/8504 [11:49<01:49, 11.75it/s]"
     ]
    },
    {
     "name": "stdout",
     "output_type": "stream",
     "text": [
      "\u001b[91mdef get_coordinates(address, key_index): 주소 정보 존재여부 체크\u001b[0m\n",
      "\u001b[91m  [실패] API 검색 결과 없음: '서울특별시 마포구 노고산동 대흥로 175'\u001b[0m\n"
     ]
    },
    {
     "name": "stderr",
     "output_type": "stream",
     "text": [
      "Geocoding Progress:  87%|████████▋ | 7369/8504 [12:11<01:39, 11.38it/s]"
     ]
    },
    {
     "name": "stdout",
     "output_type": "stream",
     "text": [
      "\u001b[91mdef get_coordinates(address, key_index): 주소 정보 존재여부 체크\u001b[0m\n",
      "\u001b[91m  [실패] API 검색 결과 없음: '서울특별시 종로구 필운동 사직로9길 14'\u001b[0m\n"
     ]
    },
    {
     "name": "stderr",
     "output_type": "stream",
     "text": [
      "Geocoding Progress:  87%|████████▋ | 7421/8504 [12:15<01:23, 12.93it/s]"
     ]
    },
    {
     "name": "stdout",
     "output_type": "stream",
     "text": [
      "\u001b[91mdef get_coordinates(address, key_index): 주소 정보 존재여부 체크\u001b[0m\n",
      "\u001b[91m  [실패] API 검색 결과 없음: '서울특별시 강동구 천호동 성내로 64'\u001b[0m\n"
     ]
    },
    {
     "name": "stderr",
     "output_type": "stream",
     "text": [
      "Geocoding Progress:  87%|████████▋ | 7431/8504 [12:16<01:25, 12.55it/s]"
     ]
    },
    {
     "name": "stdout",
     "output_type": "stream",
     "text": [
      "\u001b[91mdef get_coordinates(address, key_index): 주소 정보 존재여부 체크\u001b[0m\n",
      "\u001b[91m  [실패] API 검색 결과 없음: '서울특별시 강서구 방화동 방화대로40길 37'\u001b[0m\n"
     ]
    },
    {
     "name": "stderr",
     "output_type": "stream",
     "text": [
      "Geocoding Progress:  87%|████████▋ | 7439/8504 [12:16<01:23, 12.80it/s]"
     ]
    },
    {
     "name": "stdout",
     "output_type": "stream",
     "text": [
      "\u001b[91mdef get_coordinates(address, key_index): 주소 정보 존재여부 체크\u001b[0m\n",
      "\u001b[91m  [실패] API 검색 결과 없음: '서울특별시 강서구 화곡동 곰달래로18길 33-1'\u001b[0m\n"
     ]
    },
    {
     "name": "stderr",
     "output_type": "stream",
     "text": [
      "Geocoding Progress:  88%|████████▊ | 7445/8504 [12:17<01:21, 12.96it/s]"
     ]
    },
    {
     "name": "stdout",
     "output_type": "stream",
     "text": [
      "\u001b[91mdef get_coordinates(address, key_index): 주소 정보 존재여부 체크\u001b[0m\n",
      "\u001b[91m  [실패] API 검색 결과 없음: '서울특별시 강서구 화곡동 화곡로21길 71-1'\u001b[0m\n"
     ]
    },
    {
     "name": "stderr",
     "output_type": "stream",
     "text": [
      "Geocoding Progress:  89%|████████▊ | 7529/8504 [12:24<01:20, 12.17it/s]"
     ]
    },
    {
     "name": "stdout",
     "output_type": "stream",
     "text": [
      "\u001b[91mdef get_coordinates(address, key_index): 주소 정보 존재여부 체크\u001b[0m\n",
      "\u001b[91m  [실패] API 검색 결과 없음: '서울특별시 동작구 사당동  27'\u001b[0m\n"
     ]
    },
    {
     "name": "stderr",
     "output_type": "stream",
     "text": [
      "Geocoding Progress:  89%|████████▉ | 7587/8504 [12:28<01:10, 13.09it/s]"
     ]
    },
    {
     "name": "stdout",
     "output_type": "stream",
     "text": [
      "\u001b[91mdef get_coordinates(address, key_index): 주소 정보 존재여부 체크\u001b[0m\n",
      "\u001b[91m  [실패] API 검색 결과 없음: '서울특별시 용산구 신계동 청파로 83'\u001b[0m\n",
      "\u001b[91mdef get_coordinates(address, key_index): 주소 정보 존재여부 체크\u001b[0m\n",
      "\u001b[91m  [실패] API 검색 결과 없음: '서울특별시 용산구 한강로1가 한강대로62길 45-1'\u001b[0m\n"
     ]
    },
    {
     "name": "stderr",
     "output_type": "stream",
     "text": [
      "Geocoding Progress:  89%|████████▉ | 7591/8504 [12:28<01:07, 13.51it/s]"
     ]
    },
    {
     "name": "stdout",
     "output_type": "stream",
     "text": [
      "\u001b[91mdef get_coordinates(address, key_index): 주소 정보 존재여부 체크\u001b[0m\n",
      "\u001b[91m  [실패] API 검색 결과 없음: '서울특별시 용산구 한남동 유엔빌리지길 80-1'\u001b[0m\n"
     ]
    },
    {
     "name": "stderr",
     "output_type": "stream",
     "text": [
      "Geocoding Progress:  89%|████████▉ | 7597/8504 [12:29<01:08, 13.26it/s]"
     ]
    },
    {
     "name": "stdout",
     "output_type": "stream",
     "text": [
      "\u001b[91mdef get_coordinates(address, key_index): 주소 정보 존재여부 체크\u001b[0m\n",
      "\u001b[91m  [실패] API 검색 결과 없음: '서울특별시 은평구 대조동 연서로28길 12-1'\u001b[0m\n",
      "\u001b[91mdef get_coordinates(address, key_index): 주소 정보 존재여부 체크\u001b[0m\n",
      "\u001b[91m  [실패] API 검색 결과 없음: '서울특별시 은평구 대조동 서오릉로 80-1'\u001b[0m\n"
     ]
    },
    {
     "name": "stderr",
     "output_type": "stream",
     "text": [
      "Geocoding Progress:  89%|████████▉ | 7603/8504 [12:29<01:06, 13.64it/s]"
     ]
    },
    {
     "name": "stdout",
     "output_type": "stream",
     "text": [
      "\u001b[91mdef get_coordinates(address, key_index): 주소 정보 존재여부 체크\u001b[0m\n",
      "\u001b[91m  [실패] API 검색 결과 없음: '서울특별시 은평구 역촌동 서오릉로 119-1'\u001b[0m\n"
     ]
    },
    {
     "name": "stderr",
     "output_type": "stream",
     "text": [
      "Geocoding Progress:  89%|████████▉ | 7609/8504 [12:30<01:05, 13.64it/s]"
     ]
    },
    {
     "name": "stdout",
     "output_type": "stream",
     "text": [
      "\u001b[91mdef get_coordinates(address, key_index): 주소 정보 존재여부 체크\u001b[0m\n",
      "\u001b[91m  [실패] API 검색 결과 없음: '서울특별시 은평구 응암동 은평로 116-1'\u001b[0m\n"
     ]
    },
    {
     "name": "stderr",
     "output_type": "stream",
     "text": [
      "Geocoding Progress:  90%|████████▉ | 7635/8504 [12:32<01:07, 12.91it/s]"
     ]
    },
    {
     "name": "stdout",
     "output_type": "stream",
     "text": [
      "\u001b[91mdef get_coordinates(address, key_index): 주소 정보 존재여부 체크\u001b[0m\n",
      "\u001b[91m  [실패] API 검색 결과 없음: '서울특별시 강남구 삼성동 19-4'\u001b[0m\n"
     ]
    },
    {
     "name": "stderr",
     "output_type": "stream",
     "text": [
      "Geocoding Progress:  90%|█████████ | 7673/8504 [12:35<01:02, 13.40it/s]"
     ]
    },
    {
     "name": "stdout",
     "output_type": "stream",
     "text": [
      "\u001b[91mdef get_coordinates(address, key_index): 주소 정보 존재여부 체크\u001b[0m\n",
      "\u001b[91m  [실패] API 검색 결과 없음: '서울특별시 관악구 봉천동  27'\u001b[0m\n"
     ]
    },
    {
     "name": "stderr",
     "output_type": "stream",
     "text": [
      "Geocoding Progress:  91%|█████████ | 7737/8504 [12:40<01:03, 12.06it/s]"
     ]
    },
    {
     "name": "stdout",
     "output_type": "stream",
     "text": [
      "\u001b[91mdef get_coordinates(address, key_index): 주소 정보 존재여부 체크\u001b[0m\n",
      "\u001b[91m  [실패] API 검색 결과 없음: '서울특별시 구로구 구로동 구로중앙로18길 11-1'\u001b[0m\n"
     ]
    },
    {
     "name": "stderr",
     "output_type": "stream",
     "text": [
      "Geocoding Progress:  91%|█████████▏| 7781/8504 [12:44<02:15,  5.35it/s]"
     ]
    },
    {
     "name": "stdout",
     "output_type": "stream",
     "text": [
      "\u001b[91mdef get_coordinates(address, key_index): 주소 정보 존재여부 체크\u001b[0m\n",
      "\u001b[91m  [실패] API 검색 결과 없음: '서울특별시 동대문구 신설동 왕산로 21-14'\u001b[0m\n"
     ]
    },
    {
     "name": "stderr",
     "output_type": "stream",
     "text": [
      "Geocoding Progress:  92%|█████████▏| 7789/8504 [12:45<01:16,  9.34it/s]"
     ]
    },
    {
     "name": "stdout",
     "output_type": "stream",
     "text": [
      "\u001b[91mdef get_coordinates(address, key_index): 주소 정보 존재여부 체크\u001b[0m\n",
      "\u001b[91m  [실패] API 검색 결과 없음: '서울특별시 동작구 상도동 상도로 164'\u001b[0m\n"
     ]
    },
    {
     "name": "stderr",
     "output_type": "stream",
     "text": [
      "Geocoding Progress:  92%|█████████▏| 7807/8504 [12:46<00:57, 12.19it/s]"
     ]
    },
    {
     "name": "stdout",
     "output_type": "stream",
     "text": [
      "\u001b[91mdef get_coordinates(address, key_index): 주소 정보 존재여부 체크\u001b[0m\n",
      "\u001b[91m  [실패] API 검색 결과 없음: '서울특별시 서초구 반포동 동광로27길 66'\u001b[0m\n"
     ]
    },
    {
     "name": "stderr",
     "output_type": "stream",
     "text": [
      "Geocoding Progress:  92%|█████████▏| 7841/8504 [12:49<00:50, 13.10it/s]"
     ]
    },
    {
     "name": "stdout",
     "output_type": "stream",
     "text": [
      "\u001b[91mdef get_coordinates(address, key_index): 주소 정보 존재여부 체크\u001b[0m\n",
      "\u001b[91m  [실패] API 검색 결과 없음: '서울특별시 서초구 서초동 강남대로39길 15-1'\u001b[0m\n"
     ]
    },
    {
     "name": "stderr",
     "output_type": "stream",
     "text": [
      "Geocoding Progress:  92%|█████████▏| 7853/8504 [12:50<00:52, 12.31it/s]"
     ]
    },
    {
     "name": "stdout",
     "output_type": "stream",
     "text": [
      "\u001b[91mdef get_coordinates(address, key_index): 주소 정보 존재여부 체크\u001b[0m\n",
      "\u001b[91m  [실패] API 검색 결과 없음: '서울특별시 성북구 동소문동4가 동소문로13길 47'\u001b[0m\n"
     ]
    },
    {
     "name": "stderr",
     "output_type": "stream",
     "text": [
      "Geocoding Progress:  93%|█████████▎| 7897/8504 [12:53<00:48, 12.44it/s]"
     ]
    },
    {
     "name": "stdout",
     "output_type": "stream",
     "text": [
      "\u001b[91mdef get_coordinates(address, key_index): 주소 정보 존재여부 체크\u001b[0m\n",
      "\u001b[91m  [실패] API 검색 결과 없음: '서울특별시 은평구 녹번동 서오릉로2길 12-1'\u001b[0m\n"
     ]
    },
    {
     "name": "stderr",
     "output_type": "stream",
     "text": [
      "Geocoding Progress:  93%|█████████▎| 7901/8504 [12:54<00:52, 11.44it/s]"
     ]
    },
    {
     "name": "stdout",
     "output_type": "stream",
     "text": [
      "\u001b[91mdef get_coordinates(address, key_index): 주소 정보 존재여부 체크\u001b[0m\n",
      "\u001b[91m  [실패] API 검색 결과 없음: '서울특별시 은평구 대조동 통일로65길 1-1'\u001b[0m\n",
      "\u001b[91mdef get_coordinates(address, key_index): 주소 정보 존재여부 체크\u001b[0m\n",
      "\u001b[91m  [실패] API 검색 결과 없음: '서울특별시 은평구 대조동 통일로65길 3-1'\u001b[0m\n"
     ]
    },
    {
     "name": "stderr",
     "output_type": "stream",
     "text": [
      "Geocoding Progress:  93%|█████████▎| 7905/8504 [12:54<00:48, 12.31it/s]"
     ]
    },
    {
     "name": "stdout",
     "output_type": "stream",
     "text": [
      "\u001b[91mdef get_coordinates(address, key_index): 주소 정보 존재여부 체크\u001b[0m\n",
      "\u001b[91m  [실패] API 검색 결과 없음: '서울특별시 은평구 대조동 연서로28길 8-1'\u001b[0m\n"
     ]
    },
    {
     "name": "stderr",
     "output_type": "stream",
     "text": [
      "Geocoding Progress:  93%|█████████▎| 7911/8504 [12:55<00:46, 12.71it/s]"
     ]
    },
    {
     "name": "stdout",
     "output_type": "stream",
     "text": [
      "\u001b[91mdef get_coordinates(address, key_index): 주소 정보 존재여부 체크\u001b[0m\n",
      "\u001b[91m  [실패] API 검색 결과 없음: '서울특별시 은평구 역촌동 서오릉로 107-1'\u001b[0m\n"
     ]
    },
    {
     "name": "stderr",
     "output_type": "stream",
     "text": [
      "Geocoding Progress:  93%|█████████▎| 7921/8504 [12:55<00:42, 13.64it/s]"
     ]
    },
    {
     "name": "stdout",
     "output_type": "stream",
     "text": [
      "\u001b[91mdef get_coordinates(address, key_index): 주소 정보 존재여부 체크\u001b[0m\n",
      "\u001b[91m  [실패] API 검색 결과 없음: '서울특별시 종로구 원남동 창경궁로18길 20-6'\u001b[0m\n"
     ]
    },
    {
     "name": "stderr",
     "output_type": "stream",
     "text": [
      "Geocoding Progress:  94%|█████████▍| 8003/8504 [13:01<00:38, 12.99it/s]"
     ]
    },
    {
     "name": "stdout",
     "output_type": "stream",
     "text": [
      "\u001b[91mdef get_coordinates(address, key_index): 주소 정보 존재여부 체크\u001b[0m\n",
      "\u001b[91m  [실패] API 검색 결과 없음: '서울특별시 구로구 오류동 오류로 30'\u001b[0m\n",
      "\u001b[91mdef get_coordinates(address, key_index): 주소 정보 존재여부 체크\u001b[0m\n",
      "\u001b[91m  [실패] API 검색 결과 없음: '서울특별시 구로구 오류동 천왕로 92'\u001b[0m\n"
     ]
    },
    {
     "name": "stderr",
     "output_type": "stream",
     "text": [
      "Geocoding Progress:  94%|█████████▍| 8025/8504 [13:03<00:37, 12.69it/s]"
     ]
    },
    {
     "name": "stdout",
     "output_type": "stream",
     "text": [
      "\u001b[91mdef get_coordinates(address, key_index): 주소 정보 존재여부 체크\u001b[0m\n",
      "\u001b[91m  [실패] API 검색 결과 없음: '서울특별시 마포구 공덕동  18'\u001b[0m\n"
     ]
    },
    {
     "name": "stderr",
     "output_type": "stream",
     "text": [
      "Geocoding Progress:  94%|█████████▍| 8031/8504 [13:03<00:36, 13.14it/s]"
     ]
    },
    {
     "name": "stdout",
     "output_type": "stream",
     "text": [
      "\u001b[91mdef get_coordinates(address, key_index): 주소 정보 존재여부 체크\u001b[0m\n",
      "\u001b[91m  [실패] API 검색 결과 없음: '서울특별시 서대문구 냉천동 천중로56길 41'\u001b[0m\n"
     ]
    },
    {
     "name": "stderr",
     "output_type": "stream",
     "text": [
      "Geocoding Progress:  95%|█████████▍| 8059/8504 [13:06<00:34, 12.80it/s]"
     ]
    },
    {
     "name": "stdout",
     "output_type": "stream",
     "text": [
      "\u001b[91mdef get_coordinates(address, key_index): 주소 정보 존재여부 체크\u001b[0m\n",
      "\u001b[91m  [실패] API 검색 결과 없음: '서울특별시 성북구 정릉동 서경로 60'\u001b[0m\n"
     ]
    },
    {
     "name": "stderr",
     "output_type": "stream",
     "text": [
      "Geocoding Progress:  95%|█████████▍| 8067/8504 [13:06<00:35, 12.26it/s]"
     ]
    },
    {
     "name": "stdout",
     "output_type": "stream",
     "text": [
      "\u001b[91mdef get_coordinates(address, key_index): 주소 정보 존재여부 체크\u001b[0m\n",
      "\u001b[91m  [실패] API 검색 결과 없음: '서울특별시 양천구 목동 남부순환로83길 47'\u001b[0m\n"
     ]
    },
    {
     "name": "stderr",
     "output_type": "stream",
     "text": [
      "Geocoding Progress:  95%|█████████▍| 8075/8504 [13:07<00:34, 12.55it/s]"
     ]
    },
    {
     "name": "stdout",
     "output_type": "stream",
     "text": [
      "\u001b[91mdef get_coordinates(address, key_index): 주소 정보 존재여부 체크\u001b[0m\n",
      "\u001b[91m  [실패] API 검색 결과 없음: '서울특별시 용산구 효창동 효창원로93길 18'\u001b[0m\n"
     ]
    },
    {
     "name": "stderr",
     "output_type": "stream",
     "text": [
      "Geocoding Progress:  96%|█████████▌| 8133/8504 [13:11<00:27, 13.37it/s]"
     ]
    },
    {
     "name": "stdout",
     "output_type": "stream",
     "text": [
      "\u001b[91mdef get_coordinates(address, key_index): 주소 정보 존재여부 체크\u001b[0m\n",
      "\u001b[91m  [실패] API 검색 결과 없음: '서울특별시 동대문구 이문동 이문로35아길 16'\u001b[0m\n"
     ]
    },
    {
     "name": "stderr",
     "output_type": "stream",
     "text": [
      "Geocoding Progress:  96%|█████████▌| 8145/8504 [13:12<00:27, 13.09it/s]"
     ]
    },
    {
     "name": "stdout",
     "output_type": "stream",
     "text": [
      "\u001b[91mdef get_coordinates(address, key_index): 주소 정보 존재여부 체크\u001b[0m\n",
      "\u001b[91m  [실패] API 검색 결과 없음: '서울특별시 서대문구 남가좌동 거북골로14길 32'\u001b[0m\n"
     ]
    },
    {
     "name": "stderr",
     "output_type": "stream",
     "text": [
      "Geocoding Progress:  96%|█████████▌| 8171/8504 [13:14<00:25, 13.26it/s]"
     ]
    },
    {
     "name": "stdout",
     "output_type": "stream",
     "text": [
      "\u001b[91mdef get_coordinates(address, key_index): 주소 정보 존재여부 체크\u001b[0m\n",
      "\u001b[91m  [실패] API 검색 결과 없음: '서울특별시 은평구 역촌동 연서로16길 27-1'\u001b[0m\n"
     ]
    },
    {
     "name": "stderr",
     "output_type": "stream",
     "text": [
      "Geocoding Progress:  96%|█████████▌| 8177/8504 [13:15<00:25, 12.87it/s]"
     ]
    },
    {
     "name": "stdout",
     "output_type": "stream",
     "text": [
      "\u001b[91mdef get_coordinates(address, key_index): 주소 정보 존재여부 체크\u001b[0m\n",
      "\u001b[91m  [실패] API 검색 결과 없음: '서울특별시 강남구 개포동 언주로7길 15'\u001b[0m\n"
     ]
    },
    {
     "name": "stderr",
     "output_type": "stream",
     "text": [
      "Geocoding Progress:  96%|█████████▋| 8195/8504 [13:16<00:23, 13.33it/s]"
     ]
    },
    {
     "name": "stdout",
     "output_type": "stream",
     "text": [
      "\u001b[91mdef get_coordinates(address, key_index): 주소 정보 존재여부 체크\u001b[0m\n",
      "\u001b[91m  [실패] API 검색 결과 없음: '서울특별시 광진구 광장동  62'\u001b[0m\n"
     ]
    },
    {
     "name": "stderr",
     "output_type": "stream",
     "text": [
      "Geocoding Progress:  97%|█████████▋| 8221/8504 [13:19<00:22, 12.32it/s]"
     ]
    },
    {
     "name": "stdout",
     "output_type": "stream",
     "text": [
      "\u001b[91mdef get_coordinates(address, key_index): 주소 정보 존재여부 체크\u001b[0m\n",
      "\u001b[91m  [실패] API 검색 결과 없음: '서울특별시 구로구 오류동  30'\u001b[0m\n",
      "\u001b[91mdef get_coordinates(address, key_index): 주소 정보 존재여부 체크\u001b[0m\n",
      "\u001b[91m  [실패] API 검색 결과 없음: '서울특별시 노원구 월계동  20'\u001b[0m\n"
     ]
    },
    {
     "name": "stderr",
     "output_type": "stream",
     "text": [
      "Geocoding Progress:  97%|█████████▋| 8225/8504 [13:19<00:22, 12.63it/s]"
     ]
    },
    {
     "name": "stdout",
     "output_type": "stream",
     "text": [
      "\u001b[91mdef get_coordinates(address, key_index): 주소 정보 존재여부 체크\u001b[0m\n",
      "\u001b[91m  [실패] API 검색 결과 없음: '서울특별시 도봉구 방학동  295'\u001b[0m\n"
     ]
    },
    {
     "name": "stderr",
     "output_type": "stream",
     "text": [
      "Geocoding Progress:  97%|█████████▋| 8229/8504 [13:19<00:20, 13.13it/s]"
     ]
    },
    {
     "name": "stdout",
     "output_type": "stream",
     "text": [
      "\u001b[91mdef get_coordinates(address, key_index): 주소 정보 존재여부 체크\u001b[0m\n",
      "\u001b[91m  [실패] API 검색 결과 없음: '서울특별시 서대문구 연희동  35-28'\u001b[0m\n"
     ]
    },
    {
     "name": "stderr",
     "output_type": "stream",
     "text": [
      "Geocoding Progress:  97%|█████████▋| 8231/8504 [13:20<00:20, 13.11it/s]"
     ]
    },
    {
     "name": "stdout",
     "output_type": "stream",
     "text": [
      "\n",
      "--- 8000개 처리 완료. 체크포인트를 저장합니다 ---\n"
     ]
    },
    {
     "name": "stderr",
     "output_type": "stream",
     "text": [
      "Geocoding Progress:  97%|█████████▋| 8235/8504 [13:35<07:27,  1.66s/it]"
     ]
    },
    {
     "name": "stdout",
     "output_type": "stream",
     "text": [
      "체크포인트 저장 완료: '../data/processed/train_geocoded_checkpoint.csv'\n",
      "\u001b[91mdef get_coordinates(address, key_index): 주소 정보 존재여부 체크\u001b[0m\n",
      "\u001b[91m  [실패] API 검색 결과 없음: '서울특별시 서초구 방배동  50'\u001b[0m\n"
     ]
    },
    {
     "name": "stderr",
     "output_type": "stream",
     "text": [
      "Geocoding Progress:  97%|█████████▋| 8245/8504 [13:36<01:29,  2.91it/s]"
     ]
    },
    {
     "name": "stdout",
     "output_type": "stream",
     "text": [
      "\u001b[91mdef get_coordinates(address, key_index): 주소 정보 존재여부 체크\u001b[0m\n",
      "\u001b[91m  [실패] API 검색 결과 없음: '서울특별시 서초구 잠원동 잠원로4길 36-15'\u001b[0m\n"
     ]
    },
    {
     "name": "stderr",
     "output_type": "stream",
     "text": [
      "Geocoding Progress:  97%|█████████▋| 8251/8504 [13:36<00:42,  5.89it/s]"
     ]
    },
    {
     "name": "stdout",
     "output_type": "stream",
     "text": [
      "\u001b[91mdef get_coordinates(address, key_index): 주소 정보 존재여부 체크\u001b[0m\n",
      "\u001b[91m  [실패] API 검색 결과 없음: '서울특별시 송파구 마천동  245'\u001b[0m\n"
     ]
    },
    {
     "name": "stderr",
     "output_type": "stream",
     "text": [
      "Geocoding Progress:  97%|█████████▋| 8259/8504 [13:37<00:25,  9.53it/s]"
     ]
    },
    {
     "name": "stdout",
     "output_type": "stream",
     "text": [
      "\u001b[91mdef get_coordinates(address, key_index): 주소 정보 존재여부 체크\u001b[0m\n",
      "\u001b[91m  [실패] API 검색 결과 없음: '서울특별시 송파구 송파동  298'\u001b[0m\n"
     ]
    },
    {
     "name": "stderr",
     "output_type": "stream",
     "text": [
      "Geocoding Progress:  97%|█████████▋| 8263/8504 [13:37<00:21, 11.34it/s]"
     ]
    },
    {
     "name": "stdout",
     "output_type": "stream",
     "text": [
      "\u001b[91mdef get_coordinates(address, key_index): 주소 정보 존재여부 체크\u001b[0m\n",
      "\u001b[91m  [실패] API 검색 결과 없음: '서울특별시 양천구 신월동 남부순환로85길 10'\u001b[0m\n",
      "\u001b[91mdef get_coordinates(address, key_index): 주소 정보 존재여부 체크\u001b[0m\n",
      "\u001b[91m  [실패] API 검색 결과 없음: '서울특별시 양천구 신월동 신남1길 16'\u001b[0m\n"
     ]
    },
    {
     "name": "stderr",
     "output_type": "stream",
     "text": [
      "Geocoding Progress:  97%|█████████▋| 8267/8504 [13:38<00:19, 12.40it/s]"
     ]
    },
    {
     "name": "stdout",
     "output_type": "stream",
     "text": [
      "\u001b[91mdef get_coordinates(address, key_index): 주소 정보 존재여부 체크\u001b[0m\n",
      "\u001b[91m  [실패] API 검색 결과 없음: '서울특별시 양천구 신월동  10'\u001b[0m\n"
     ]
    },
    {
     "name": "stderr",
     "output_type": "stream",
     "text": [
      "Geocoding Progress:  97%|█████████▋| 8275/8504 [13:38<00:18, 12.66it/s]"
     ]
    },
    {
     "name": "stdout",
     "output_type": "stream",
     "text": [
      "\u001b[91mdef get_coordinates(address, key_index): 주소 정보 존재여부 체크\u001b[0m\n",
      "\u001b[91m  [실패] API 검색 결과 없음: '서울특별시 은평구 응암동 응암로16길 37'\u001b[0m\n",
      "\u001b[91mdef get_coordinates(address, key_index): 주소 정보 존재여부 체크\u001b[0m\n",
      "\u001b[91m  [실패] API 검색 결과 없음: '서울특별시 은평구 응암동  20-3'\u001b[0m\n",
      "\u001b[91mdef get_coordinates(address, key_index): 주소 정보 존재여부 체크\u001b[0m\n",
      "\u001b[91m  [실패] API 검색 결과 없음: '서울특별시 은평구 증산동 증산로3길 19-12'\u001b[0m\n"
     ]
    },
    {
     "name": "stderr",
     "output_type": "stream",
     "text": [
      "Geocoding Progress:  97%|█████████▋| 8277/8504 [13:38<00:18, 12.15it/s]"
     ]
    },
    {
     "name": "stdout",
     "output_type": "stream",
     "text": [
      "\u001b[91mdef get_coordinates(address, key_index): 주소 정보 존재여부 체크\u001b[0m\n",
      "\u001b[91m  [실패] API 검색 결과 없음: '서울특별시 은평구 증산동 증산로3길 19-6'\u001b[0m\n",
      "\u001b[91mdef get_coordinates(address, key_index): 주소 정보 존재여부 체크\u001b[0m\n",
      "\u001b[91m  [실패] API 검색 결과 없음: '서울특별시 은평구 진관동  21-9'\u001b[0m\n",
      "\u001b[91mdef get_coordinates(address, key_index): 주소 정보 존재여부 체크\u001b[0m\n",
      "\u001b[91m  [실패] API 검색 결과 없음: '서울특별시 종로구 교남동 통일로 168-1'\u001b[0m\n"
     ]
    },
    {
     "name": "stderr",
     "output_type": "stream",
     "text": [
      "Geocoding Progress:  97%|█████████▋| 8283/8504 [13:39<00:17, 12.56it/s]"
     ]
    },
    {
     "name": "stdout",
     "output_type": "stream",
     "text": [
      "\u001b[91mdef get_coordinates(address, key_index): 주소 정보 존재여부 체크\u001b[0m\n",
      "\u001b[91m  [실패] API 검색 결과 없음: '서울특별시 종로구 청운동  43'\u001b[0m\n"
     ]
    },
    {
     "name": "stderr",
     "output_type": "stream",
     "text": [
      "Geocoding Progress:  97%|█████████▋| 8287/8504 [13:39<00:18, 11.79it/s]"
     ]
    },
    {
     "name": "stdout",
     "output_type": "stream",
     "text": [
      "\u001b[91mdef get_coordinates(address, key_index): 주소 정보 존재여부 체크\u001b[0m\n",
      "\u001b[91m  [실패] API 검색 결과 없음: '서울특별시 중랑구 신내동 봉화산로48길 62'\u001b[0m\n"
     ]
    },
    {
     "name": "stderr",
     "output_type": "stream",
     "text": [
      "Geocoding Progress:  98%|█████████▊| 8293/8504 [13:40<00:16, 12.70it/s]"
     ]
    },
    {
     "name": "stdout",
     "output_type": "stream",
     "text": [
      "\u001b[91mdef get_coordinates(address, key_index): 주소 정보 존재여부 체크\u001b[0m\n",
      "\u001b[91m  [실패] API 검색 결과 없음: '서울특별시 강동구 고덕동 동남로82길 98'\u001b[0m\n"
     ]
    },
    {
     "name": "stderr",
     "output_type": "stream",
     "text": [
      "Geocoding Progress:  98%|█████████▊| 8301/8504 [13:40<00:16, 12.32it/s]"
     ]
    },
    {
     "name": "stdout",
     "output_type": "stream",
     "text": [
      "\u001b[91mdef get_coordinates(address, key_index): 주소 정보 존재여부 체크\u001b[0m\n",
      "\u001b[91m  [실패] API 검색 결과 없음: '서울특별시 관악구 봉천동 봉천로 430'\u001b[0m\n"
     ]
    },
    {
     "name": "stderr",
     "output_type": "stream",
     "text": [
      "Geocoding Progress:  98%|█████████▊| 8317/8504 [13:41<00:14, 13.13it/s]"
     ]
    },
    {
     "name": "stdout",
     "output_type": "stream",
     "text": [
      "\u001b[91mdef get_coordinates(address, key_index): 주소 정보 존재여부 체크\u001b[0m\n",
      "\u001b[91m  [실패] API 검색 결과 없음: '서울특별시 서대문구 연희동 홍연길 41'\u001b[0m\n",
      "\u001b[91mdef get_coordinates(address, key_index): 주소 정보 존재여부 체크\u001b[0m\n",
      "\u001b[91m  [실패] API 검색 결과 없음: '서울특별시 서초구 반포동 신반포로 133'\u001b[0m\n"
     ]
    },
    {
     "name": "stderr",
     "output_type": "stream",
     "text": [
      "Geocoding Progress:  98%|█████████▊| 8319/8504 [13:42<00:14, 13.03it/s]"
     ]
    },
    {
     "name": "stdout",
     "output_type": "stream",
     "text": [
      "\u001b[91mdef get_coordinates(address, key_index): 주소 정보 존재여부 체크\u001b[0m\n",
      "\u001b[91m  [실패] API 검색 결과 없음: '서울특별시 서초구 반포동 서래로2길 32-1'\u001b[0m\n"
     ]
    },
    {
     "name": "stderr",
     "output_type": "stream",
     "text": [
      "Geocoding Progress:  98%|█████████▊| 8323/8504 [13:42<00:13, 12.97it/s]"
     ]
    },
    {
     "name": "stdout",
     "output_type": "stream",
     "text": [
      "\u001b[91mdef get_coordinates(address, key_index): 주소 정보 존재여부 체크\u001b[0m\n",
      "\u001b[91m  [실패] API 검색 결과 없음: '서울특별시 성동구 하왕십리동 마장로 137'\u001b[0m\n",
      "\u001b[91mdef get_coordinates(address, key_index): 주소 정보 존재여부 체크\u001b[0m\n",
      "\u001b[91m  [실패] API 검색 결과 없음: '서울특별시 양천구 신월동 절골10길 10'\u001b[0m\n"
     ]
    },
    {
     "name": "stderr",
     "output_type": "stream",
     "text": [
      "Geocoding Progress:  98%|█████████▊| 8329/8504 [13:42<00:13, 12.91it/s]"
     ]
    },
    {
     "name": "stdout",
     "output_type": "stream",
     "text": [
      "\u001b[91mdef get_coordinates(address, key_index): 주소 정보 존재여부 체크\u001b[0m\n",
      "\u001b[91m  [실패] API 검색 결과 없음: '서울특별시 영등포구 영등포동8가 영중로34길 9-5'\u001b[0m\n"
     ]
    },
    {
     "name": "stderr",
     "output_type": "stream",
     "text": [
      "Geocoding Progress:  98%|█████████▊| 8335/8504 [13:43<00:12, 13.32it/s]"
     ]
    },
    {
     "name": "stdout",
     "output_type": "stream",
     "text": [
      "\u001b[91mdef get_coordinates(address, key_index): 주소 정보 존재여부 체크\u001b[0m\n",
      "\u001b[91m  [실패] API 검색 결과 없음: '서울특별시 은평구 응암동 은평로16가길 20-2'\u001b[0m\n",
      "\u001b[91mdef get_coordinates(address, key_index): 주소 정보 존재여부 체크\u001b[0m\n",
      "\u001b[91m  [실패] API 검색 결과 없음: '서울특별시 종로구 숭인동 지봉로4길 17-4'\u001b[0m\n"
     ]
    },
    {
     "name": "stderr",
     "output_type": "stream",
     "text": [
      "Geocoding Progress:  98%|█████████▊| 8343/8504 [13:43<00:12, 12.88it/s]"
     ]
    },
    {
     "name": "stdout",
     "output_type": "stream",
     "text": [
      "\u001b[91mdef get_coordinates(address, key_index): 주소 정보 존재여부 체크\u001b[0m\n",
      "\u001b[91m  [실패] API 검색 결과 없음: '서울특별시 강남구 율현동 자곡로 260'\u001b[0m\n"
     ]
    },
    {
     "name": "stderr",
     "output_type": "stream",
     "text": [
      "Geocoding Progress:  98%|█████████▊| 8361/8504 [13:45<00:10, 13.31it/s]"
     ]
    },
    {
     "name": "stdout",
     "output_type": "stream",
     "text": [
      "\u001b[91mdef get_coordinates(address, key_index): 주소 정보 존재여부 체크\u001b[0m\n",
      "\u001b[91m  [실패] API 검색 결과 없음: '서울특별시 금천구 시흥동 시흥대로10길 5'\u001b[0m\n"
     ]
    },
    {
     "name": "stderr",
     "output_type": "stream",
     "text": [
      "Geocoding Progress:  99%|█████████▊| 8377/8504 [13:46<00:10, 12.47it/s]"
     ]
    },
    {
     "name": "stdout",
     "output_type": "stream",
     "text": [
      "\u001b[91mdef get_coordinates(address, key_index): 주소 정보 존재여부 체크\u001b[0m\n",
      "\u001b[91m  [실패] API 검색 결과 없음: '서울특별시 송파구 거여동 오금로 529'\u001b[0m\n"
     ]
    },
    {
     "name": "stderr",
     "output_type": "stream",
     "text": [
      "Geocoding Progress:  99%|█████████▊| 8383/8504 [13:47<00:09, 12.91it/s]"
     ]
    },
    {
     "name": "stdout",
     "output_type": "stream",
     "text": [
      "\u001b[91mdef get_coordinates(address, key_index): 주소 정보 존재여부 체크\u001b[0m\n",
      "\u001b[91m  [실패] API 검색 결과 없음: '서울특별시 은평구 수색동 수색로20길 7-5'\u001b[0m\n",
      "\u001b[91mdef get_coordinates(address, key_index): 주소 정보 존재여부 체크\u001b[0m\n",
      "\u001b[91m  [실패] API 검색 결과 없음: '서울특별시 은평구 증산동 증산로1길 24'\u001b[0m\n"
     ]
    },
    {
     "name": "stderr",
     "output_type": "stream",
     "text": [
      "Geocoding Progress:  99%|█████████▊| 8393/8504 [13:47<00:08, 12.74it/s]"
     ]
    },
    {
     "name": "stdout",
     "output_type": "stream",
     "text": [
      "\u001b[91mdef get_coordinates(address, key_index): 주소 정보 존재여부 체크\u001b[0m\n",
      "\u001b[91m  [실패] API 검색 결과 없음: '서울특별시 노원구 하계동  232'\u001b[0m\n"
     ]
    },
    {
     "name": "stderr",
     "output_type": "stream",
     "text": [
      "Geocoding Progress:  99%|█████████▉| 8413/8504 [13:49<00:06, 13.04it/s]"
     ]
    },
    {
     "name": "stdout",
     "output_type": "stream",
     "text": [
      "\u001b[91mdef get_coordinates(address, key_index): 주소 정보 존재여부 체크\u001b[0m\n",
      "\u001b[91m  [실패] API 검색 결과 없음: '서울특별시 은평구 응암동 은평로16가길 20-1'\u001b[0m\n"
     ]
    },
    {
     "name": "stderr",
     "output_type": "stream",
     "text": [
      "Geocoding Progress:  99%|█████████▉| 8423/8504 [13:50<00:08,  9.08it/s]"
     ]
    },
    {
     "name": "stdout",
     "output_type": "stream",
     "text": [
      "\u001b[91mdef get_coordinates(address, key_index): 주소 정보 존재여부 체크\u001b[0m\n",
      "\u001b[91m  [실패] API 검색 결과 없음: '서울특별시 마포구 현석동 토정로18길 41-1'\u001b[0m\n"
     ]
    },
    {
     "name": "stderr",
     "output_type": "stream",
     "text": [
      "Geocoding Progress:  99%|█████████▉| 8435/8504 [13:51<00:05, 12.18it/s]"
     ]
    },
    {
     "name": "stdout",
     "output_type": "stream",
     "text": [
      "\u001b[91mdef get_coordinates(address, key_index): 주소 정보 존재여부 체크\u001b[0m\n",
      "\u001b[91m  [실패] API 검색 결과 없음: '서울특별시 강남구 도곡동 538'\u001b[0m\n",
      "\u001b[91mdef get_coordinates(address, key_index): 주소 정보 존재여부 체크\u001b[0m\n",
      "\u001b[91m  [실패] API 검색 결과 없음: '서울특별시 강남구 역삼동 762'\u001b[0m\n"
     ]
    },
    {
     "name": "stderr",
     "output_type": "stream",
     "text": [
      "Geocoding Progress:  99%|█████████▉| 8439/8504 [13:51<00:05, 12.93it/s]"
     ]
    },
    {
     "name": "stdout",
     "output_type": "stream",
     "text": [
      "\u001b[91mdef get_coordinates(address, key_index): 주소 정보 존재여부 체크\u001b[0m\n",
      "\u001b[91m  [실패] API 검색 결과 없음: '서울특별시 강동구 성내동 성내로 74'\u001b[0m\n"
     ]
    },
    {
     "name": "stderr",
     "output_type": "stream",
     "text": [
      "Geocoding Progress: 100%|█████████▉| 8463/8504 [13:53<00:03, 12.72it/s]"
     ]
    },
    {
     "name": "stdout",
     "output_type": "stream",
     "text": [
      "\u001b[91mdef get_coordinates(address, key_index): 주소 정보 존재여부 체크\u001b[0m\n",
      "\u001b[91m  [실패] API 검색 결과 없음: '서울특별시 동대문구 답십리동 465-2'\u001b[0m\n"
     ]
    },
    {
     "name": "stderr",
     "output_type": "stream",
     "text": [
      "Geocoding Progress: 100%|█████████▉| 8467/8504 [13:54<00:02, 13.15it/s]"
     ]
    },
    {
     "name": "stdout",
     "output_type": "stream",
     "text": [
      "\u001b[91mdef get_coordinates(address, key_index): 주소 정보 존재여부 체크\u001b[0m\n",
      "\u001b[91m  [실패] API 검색 결과 없음: '서울특별시 마포구 토정동 2-4'\u001b[0m\n",
      "\u001b[91mdef get_coordinates(address, key_index): 주소 정보 존재여부 체크\u001b[0m\n",
      "\u001b[91m  [실패] API 검색 결과 없음: '서울특별시 서초구 반포동 30-2'\u001b[0m\n"
     ]
    },
    {
     "name": "stderr",
     "output_type": "stream",
     "text": [
      "Geocoding Progress: 100%|█████████▉| 8479/8504 [13:54<00:01, 13.76it/s]"
     ]
    },
    {
     "name": "stdout",
     "output_type": "stream",
     "text": [
      "\u001b[91mdef get_coordinates(address, key_index): 주소 정보 존재여부 체크\u001b[0m\n",
      "\u001b[91m  [실패] API 검색 결과 없음: '서울특별시 양천구 목동 신목로16길 13'\u001b[0m\n"
     ]
    },
    {
     "name": "stderr",
     "output_type": "stream",
     "text": [
      "Geocoding Progress: 100%|█████████▉| 8485/8504 [13:55<00:01, 13.16it/s]"
     ]
    },
    {
     "name": "stdout",
     "output_type": "stream",
     "text": [
      "\u001b[91mdef get_coordinates(address, key_index): 주소 정보 존재여부 체크\u001b[0m\n",
      "\u001b[91m  [실패] API 검색 결과 없음: '서울특별시 용산구 한남동 독서당로34길 22-22'\u001b[0m\n"
     ]
    },
    {
     "name": "stderr",
     "output_type": "stream",
     "text": [
      "Geocoding Progress: 100%|█████████▉| 8493/8504 [13:55<00:00, 14.04it/s]"
     ]
    },
    {
     "name": "stdout",
     "output_type": "stream",
     "text": [
      "\u001b[91mdef get_coordinates(address, key_index): 주소 정보 존재여부 체크\u001b[0m\n",
      "\u001b[91m  [실패] API 검색 결과 없음: '서울특별시 강남구 대치동 633'\u001b[0m\n",
      "\u001b[91mdef get_coordinates(address, key_index): 주소 정보 존재여부 체크\u001b[0m\n",
      "\u001b[91m  [실패] API 검색 결과 없음: '서울특별시 강남구 역삼동 763'\u001b[0m\n"
     ]
    },
    {
     "name": "stderr",
     "output_type": "stream",
     "text": [
      "Geocoding Progress: 100%|█████████▉| 8503/8504 [13:56<00:00, 13.78it/s]"
     ]
    },
    {
     "name": "stdout",
     "output_type": "stream",
     "text": [
      "\u001b[91mdef get_coordinates(address, key_index): 주소 정보 존재여부 체크\u001b[0m\n",
      "\u001b[91m  [실패] API 검색 결과 없음: '서울특별시 서초구 서초동 1686-4'\u001b[0m\n",
      "\u001b[91mdef get_coordinates(address, key_index): 주소 정보 존재여부 체크\u001b[0m\n",
      "\u001b[91m  [실패] API 검색 결과 없음: '서울특별시 서초구 잠원동 신반포로 45'\u001b[0m\n"
     ]
    },
    {
     "name": "stderr",
     "output_type": "stream",
     "text": [
      "Geocoding Progress: 100%|██████████| 8504/8504 [13:56<00:00, 10.16it/s]\n"
     ]
    },
    {
     "name": "stdout",
     "output_type": "stream",
     "text": [
      "\u001b[91mdef get_coordinates(address, key_index): 주소 정보 존재여부 체크\u001b[0m\n",
      "\u001b[91m  [실패] API 검색 결과 없음: '서울특별시 용산구 한강로2가 196'\u001b[0m\n",
      "\n",
      "최종 결과 업데이트를 시작합니다...\n",
      "결측치 업데이트 완료!\n"
     ]
    }
   ],
   "source": [
    "# --- 7. 결측치 채우기 실행 ---\n",
    "\n",
    "# 데이터프레임이 정상적으로 로드되었고, API 키가 존재하는 경우에만 실행\n",
    "if train_df is not None and KAKAO_KEYS:\n",
    "    \n",
    "    # 좌표가 비어있는 행만 복사하여 작업 대상으로 지정\n",
    "    df_to_geocode = train_df[train_df['좌표X'].isnull()].copy()\n",
    "    \n",
    "    if not df_to_geocode.empty:\n",
    "        print(f\"\\n총 {len(df_to_geocode)}개의 좌표 결측치에 대한 작업을 시작합니다...\")\n",
    "\n",
    "        # 7.1. 주소 생성 및 주소 없는 행 분리/저장\n",
    "        # 도로명 또는 번지를 기준으로 전체 주소를 생성하고\n",
    "        # full_address가 없는 행은 별도로 저장\n",
    "        df_to_geocode['full_address'] = df_to_geocode.apply(create_full_address, axis=1)\n",
    "        no_address_rows = df_to_geocode[df_to_geocode['full_address'].isnull()]\n",
    "\n",
    "        if not no_address_rows.empty:\n",
    "            # 저장 디렉토리가 없으면 생성\n",
    "            os.makedirs(OUTPUT_DIR, exist_ok=True)\n",
    "            # 도로명/번지 모두 없는 행 저장\n",
    "            no_address_rows.to_csv(NO_ADDRESS_PATH, index=False)\n",
    "            print(f\"{len(no_address_rows)}개의 주소 없는 행을 '{NO_ADDRESS_PATH}'에 저장했습니다.\")\n",
    "        else:\n",
    "            print(\"모든 행에 '도로명' 또는 '번지' 주소 정보가 존재합니다.\")\n",
    "\n",
    "        # 주소가 존재하는 행만 남기고 필터링\n",
    "        df_to_geocode.dropna(subset=['full_address'], inplace=True)\n",
    "\n",
    "        # 7.2. 고유 주소에 대한 API 호출 (캐싱)\n",
    "        # 중복된 주소는 API 호출을 1회만 하기 위해 고유한 주소만 추출\n",
    "        unique_addresses = df_to_geocode['full_address'].unique()\n",
    "        print(f\"실제 API 호출 대상 고유 주소 개수: {len(unique_addresses)}\")\n",
    "        \n",
    "        # 주소별 좌표를 저장할 캐시 딕셔너리\n",
    "        address_cache = {}\n",
    "        processed_count = 0  # 처리된 주소 수 카운트\n",
    "\n",
    "        # 고유 주소 목록을 순회하며 지오코딩 수행\n",
    "        for addr in tqdm(unique_addresses, desc=\"Geocoding Progress\"):\n",
    "            # 모든 키가 소진되었으면 루프 중단\n",
    "            if all_keys_exhausted:\n",
    "                print_error(\"\\n!! 모든 키 사용량 소진: 작업 중단 !!\")\n",
    "                break\n",
    "            \n",
    "            # 현재 주소에 대해 좌표 요청\n",
    "            coords = geocode_with_key_rotation(addr)\n",
    "\n",
    "            # 좌표를 성공적으로 받아온 경우 캐시에 저장\n",
    "            if coords:\n",
    "                address_cache[addr] = coords\n",
    "                processed_count += 1\n",
    "            \n",
    "            # 7.3. 1000개 단위로 임시 저장 (체크포인트)\n",
    "            if processed_count > 0 and processed_count % 1000 == 0:\n",
    "                print(f\"\\n--- {processed_count}개 처리 완료. 체크포인트를 저장합니다 ---\")\n",
    "                \n",
    "                # 원본 데이터 복사 후 full_address 다시 생성\n",
    "                temp_df = train_df.copy()\n",
    "                temp_df['full_address_map'] = temp_df.apply(create_full_address, axis=1)\n",
    "                \n",
    "                # 캐시된 주소를 기반으로 좌표 매핑\n",
    "                temp_coords = temp_df['full_address_map'].map(address_cache)\n",
    "                valid_coords_map = temp_coords.dropna()\n",
    "\n",
    "                # 좌표 값 반영\n",
    "                temp_df.loc[valid_coords_map.index, '좌표X'] = [x[0] for x in valid_coords_map]\n",
    "                temp_df.loc[valid_coords_map.index, '좌표Y'] = [x[1] for x in valid_coords_map]\n",
    "\n",
    "                # 임시 컬럼 제거 후 저장\n",
    "                temp_df.drop(columns=['full_address_map'], inplace=True)\n",
    "                temp_df.to_csv(CHECKPOINT_PATH, index=False)\n",
    "                print(f\"체크포인트 저장 완료: '{CHECKPOINT_PATH}'\")\n",
    "\n",
    "        # 7.4. 캐싱된 결과 매핑 및 최종 업데이트\n",
    "        print(\"\\n최종 결과 업데이트를 시작합니다...\")\n",
    "\n",
    "        # df_to_geocode의 주소를 기준으로 캐시된 좌표 매핑\n",
    "        final_coords_map = df_to_geocode['full_address'].map(address_cache)\n",
    "        valid_final_coords = final_coords_map.dropna()\n",
    "\n",
    "        # 원본 train_df의 해당 인덱스에 좌표 반영\n",
    "        train_df.loc[valid_final_coords.index, '좌표X'] = [x[0] for x in valid_final_coords]\n",
    "        train_df.loc[valid_final_coords.index, '좌표Y'] = [x[1] for x in valid_final_coords]\n",
    "        print(\"결측치 업데이트 완료!\")\n",
    "\n",
    "    else:\n",
    "        print(\"\\n좌표에 결측치가 없어 추가 작업을 진행하지 않습니다.\")"
   ]
  },
  {
   "cell_type": "code",
   "execution_count": 38,
   "id": "4b30eea9",
   "metadata": {},
   "outputs": [
    {
     "name": "stdout",
     "output_type": "stream",
     "text": [
      "\n",
      "작업 후 남은 '좌표X'의 결측치 개수: 22227\n",
      "모든 작업이 완료되었습니다. 최종 데이터가 '../data/processed/train_geocoded.csv' 경로에 저장되었습니다.\n"
     ]
    }
   ],
   "source": [
    "# --- 8. 결과 확인 및 저장 ---\n",
    "\n",
    "# train_df가 정상적으로 존재할 경우에만 저장 진행\n",
    "if train_df is not None:\n",
    "    # 좌표X의 남은 결측치 개수를 최종 확인\n",
    "    final_missing_count = train_df['좌표X'].isnull().sum()\n",
    "    print(f\"\\n작업 후 남은 '좌표X'의 결측치 개수: {final_missing_count}\")\n",
    "\n",
    "    # 저장 디렉토리가 없을 경우 생성\n",
    "    os.makedirs(OUTPUT_DIR, exist_ok=True)\n",
    "\n",
    "    # 전체 train_df를 최종 결과 파일로 저장\n",
    "    train_df.to_csv(FINAL_PATH, index=False)\n",
    "    print(f\"모든 작업이 완료되었습니다. 최종 데이터가 '{FINAL_PATH}' 경로에 저장되었습니다.\")\n",
    "\n",
    "else:\n",
    "    # train_df가 None이면 에러 메시지 출력 후 저장하지 않음\n",
    "    print_error(\"\\n[작업 중단] 데이터 파일이 없어 최종 저장을 진행할 수 없습니다.\")"
   ]
  }
 ],
 "metadata": {
  "kernelspec": {
   "display_name": "house_price_predict_py3_11_9",
   "language": "python",
   "name": "python3"
  },
  "language_info": {
   "codemirror_mode": {
    "name": "ipython",
    "version": 3
   },
   "file_extension": ".py",
   "mimetype": "text/x-python",
   "name": "python",
   "nbconvert_exporter": "python",
   "pygments_lexer": "ipython3",
   "version": "3.11.9"
  }
 },
 "nbformat": 4,
 "nbformat_minor": 5
}
