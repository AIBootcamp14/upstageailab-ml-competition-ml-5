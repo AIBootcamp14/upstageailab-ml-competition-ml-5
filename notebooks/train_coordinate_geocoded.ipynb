{
 "cells": [
  {
   "cell_type": "code",
   "execution_count": 8,
   "id": "546729a7",
   "metadata": {},
   "outputs": [
    {
     "name": "stdout",
     "output_type": "stream",
     "text": [
      "Requirement already satisfied: python-dotenv in /opt/conda/lib/python3.10/site-packages (1.1.1)\n",
      "\u001b[33mWARNING: Running pip as the 'root' user can result in broken permissions and conflicting behaviour with the system package manager, possibly rendering your system unusable. It is recommended to use a virtual environment instead: https://pip.pypa.io/warnings/venv. Use the --root-user-action option if you know what you are doing and want to suppress this warning.\u001b[0m\u001b[33m\n",
      "\u001b[0m"
     ]
    }
   ],
   "source": [
    "# --- 1. 라이브러리 설치 및 임포트 ---\n",
    "\n",
    "# .env 파일을 사용하기 위한 라이브러리를 설치합니다.\n",
    "!pip install python-dotenv\n",
    "\n",
    "import pandas as pd\n",
    "import requests\n",
    "import time\n",
    "from tqdm import tqdm\n",
    "import os\n",
    "from dotenv import load_dotenv # .env 파일을 읽기 위한 라이브러리\n",
    "\n",
    "# tqdm 라이브러리와 pandas의 연동을 설정합니다.\n",
    "tqdm.pandas()"
   ]
  },
  {
   "cell_type": "code",
   "execution_count": 9,
   "id": "867866b2",
   "metadata": {},
   "outputs": [
    {
     "name": "stdout",
     "output_type": "stream",
     "text": [
      "KAKAO_REST_API_KEY: f760c2b9b524c0fc455b78fd2a58b773\n"
     ]
    }
   ],
   "source": [
    "# --- 2. .env 파일에서 API 키 로드 ---\n",
    "\n",
    "# .env 파일에 정의된 환경 변수를 현재 세션으로 로드합니다.\n",
    "load_dotenv()\n",
    "\n",
    "# os.getenv() 함수를 사용하여 \"KAKAO_REST_API_KEY\" 라는 이름의 환경 변수 값을 가져옵니다.\n",
    "KAKAO_REST_API_KEY = os.getenv(\"KAKAO_REST_API_KEY\")\n",
    "\n",
    "print(\"KAKAO_REST_API_KEY:\", KAKAO_REST_API_KEY)"
   ]
  },
  {
   "cell_type": "code",
   "execution_count": 22,
   "id": "4b55be0b",
   "metadata": {},
   "outputs": [
    {
     "name": "stdout",
     "output_type": "stream",
     "text": [
      "'../data/raw/train.csv'에서 원본 데이터를 로드합니다...\n"
     ]
    },
    {
     "name": "stderr",
     "output_type": "stream",
     "text": [
      "/tmp/ipykernel_87372/1257457201.py:11: DtypeWarning: Columns (16,17,36) have mixed types. Specify dtype option on import or set low_memory=False.\n",
      "  train_df = pd.read_csv(TRAIN_DATA_PATH)\n"
     ]
    },
    {
     "name": "stdout",
     "output_type": "stream",
     "text": [
      "데이터 로드 완료.\n",
      "\n",
      "작업 전 '좌표X'의 결측치 개수: 869670\n"
     ]
    }
   ],
   "source": [
    "# --- 3. 설정 및 데이터 로드 ---\n",
    "\n",
    "TRAIN_DATA_PATH = '../data/raw/train.csv'\n",
    "OUTPUT_DIR = '../data/processed/'\n",
    "OUTPUT_FILENAME = 'train_coordinate_geocoded.csv'\n",
    "OUTPUT_PATH = os.path.join(OUTPUT_DIR, OUTPUT_FILENAME)\n",
    "\n",
    "print(f\"'{TRAIN_DATA_PATH}'에서 원본 데이터를 로드합니다...\")\n",
    "\n",
    "try:\n",
    "    train_df = pd.read_csv(TRAIN_DATA_PATH)\n",
    "    print(\"데이터 로드 완료.\\n\")\n",
    "    initial_missing_count = train_df['좌표X'].isnull().sum()\n",
    "    print(f\"작업 전 '좌표X'의 결측치 개수: {initial_missing_count}\")\n",
    "except FileNotFoundError:\n",
    "    print(f\"오류: '{TRAIN_DATA_PATH}' 파일을 찾을 수 없습니다.\")\n",
    "    train_df = None"
   ]
  },
  {
   "cell_type": "code",
   "execution_count": 23,
   "id": "2e815e2b",
   "metadata": {},
   "outputs": [],
   "source": [
    "# --- 4. 지오코딩 함수 정의 ---\n",
    "\n",
    "def get_coordinates_kakao(address, api_key):\n",
    "    \"\"\"\n",
    "    카카오 API를 활용하여 한글 주소(법정동+번지 등) → 좌표(경도, 위도) 변환\n",
    "    \"\"\"\n",
    "    url = \"https://dapi.kakao.com/v2/local/search/address.json\"\n",
    "    headers = {\"Authorization\": f\"KakaoAK {api_key}\"}\n",
    "    params = {\"query\": address}\n",
    "    try:\n",
    "        response = requests.get(url, headers=headers, params=params, timeout=3)\n",
    "        response.raise_for_status()\n",
    "        data = response.json()\n",
    "        if data['documents']:\n",
    "            lon = float(data['documents'][0]['x'])\n",
    "            lat = float(data['documents'][0]['y'])\n",
    "            return lon, lat\n",
    "        else:\n",
    "            return None, None\n",
    "    except Exception as e:\n",
    "        print(f\"[API오류] 주소 변환 중 에러: {e} (address: {address})\")\n",
    "        return None, None"
   ]
  },
  {
   "cell_type": "code",
   "execution_count": 24,
   "id": "cb19b83c",
   "metadata": {},
   "outputs": [
    {
     "name": "stdout",
     "output_type": "stream",
     "text": [
      "테스트 주소: 서울특별시 강남구 개포동 삼성로 14\n",
      "조회 결과 좌표X(경도): 127.068451024326\n",
      "조회 결과 좌표Y(위도): 37.4861548149371\n"
     ]
    }
   ],
   "source": [
    "# --- 4-1. 테스트용 샘플 1건 선택 ---\n",
    "\n",
    "# 좌표 결측치 중 첫 번째 행 선택\n",
    "test_row = train_df[train_df['좌표X'].isnull()].iloc[0]\n",
    "\n",
    "# --- 4-2. 주소 조합 (도로명+시군구+번지 우선) ---\n",
    "def make_address(row):\n",
    "    return f\"{row['시군구']} {row['도로명']}\"\n",
    "\n",
    "address = make_address(test_row)\n",
    "print(\"테스트 주소:\", address)\n",
    "\n",
    "# --- 4-3. 지오코딩 함수로 좌표 조회 ---\n",
    "lon, lat = get_coordinates_kakao(address, KAKAO_REST_API_KEY)\n",
    "print(\"조회 결과 좌표X(경도):\", lon)\n",
    "print(\"조회 결과 좌표Y(위도):\", lat)"
   ]
  },
  {
   "cell_type": "code",
   "execution_count": null,
   "id": "bf29272d",
   "metadata": {},
   "outputs": [
    {
     "name": "stdout",
     "output_type": "stream",
     "text": [
      "\n",
      "총 10개 주소(샘플)에 대해 지오코딩을 시작합니다...\n"
     ]
    },
    {
     "name": "stderr",
     "output_type": "stream",
     "text": [
      "100%|██████████| 10/10 [00:01<00:00,  7.17it/s]"
     ]
    },
    {
     "name": "stdout",
     "output_type": "stream",
     "text": [
      "지오코딩 및 결측치(샘플 10개) 업데이트 완료.\n",
      "작업 후 '좌표X' 결측치 개수: 869650\n",
      "처리 완료: '../data/processed/train_coordinate_geocoded.csv'에 저장됨.\n",
      "샘플 결과 저장 완료: '../data/processed/train_geocoded_sample.csv'\n"
     ]
    },
    {
     "name": "stderr",
     "output_type": "stream",
     "text": [
      "\n"
     ]
    }
   ],
   "source": [
    "# --- 4.2 테스트용 상위 10개 결측치(좌표) 보간 실행 및 저장 ---\n",
    "\n",
    "if train_df is not None and KAKAO_REST_API_KEY:\n",
    "    # 결측치 행만 추출 (시간/비용 절감)\n",
    "    train_df_to_geocode = train_df[train_df['좌표X'].isnull()].copy()\n",
    "    \n",
    "    # 10개 샘플만 우선 테스트 (결측치가 10개 미만이면 해당 개수만)\n",
    "    test_sample_n = 10\n",
    "    if not train_df_to_geocode.empty:\n",
    "        train_df_to_geocode = train_df_to_geocode.iloc[:test_sample_n]\n",
    "        print(f\"\\n총 {len(train_df_to_geocode)}개 주소(샘플)에 대해 지오코딩을 시작합니다...\")\n",
    "\n",
    "        # 도로명 결측치 없음 → 시군구 + 도로명 조합\n",
    "        def make_address(row):\n",
    "            return f\"{row['시군구']} {row['도로명']}\"\n",
    "        \n",
    "        train_df_to_geocode['full_address'] = train_df_to_geocode.apply(make_address, axis=1)\n",
    "\n",
    "        # tqdm을 사용하여 진행 상황 표시\n",
    "        def fetch_coord(row):\n",
    "            time.sleep(0.05)  # 카카오 QPS 10회/초 제한\n",
    "            return get_coordinates_kakao(row['full_address'], KAKAO_REST_API_KEY)\n",
    "\n",
    "        # 각 행별로 좌표 조회(튜플 반환) → 바로 좌표X/Y에 저장\n",
    "        coords = train_df_to_geocode.progress_apply(fetch_coord, axis=1)\n",
    "        \n",
    "        train_df_to_geocode['좌표X'] = coords.apply(lambda x: x[0])\n",
    "        train_df_to_geocode['좌표Y'] = coords.apply(lambda x: x[1])\n",
    "\n",
    "        # 원본 train_df에 해당 index만 값 덮어쓰기\n",
    "        train_df.loc[train_df_to_geocode.index, ['좌표X', '좌표Y']] = train_df_to_geocode[['좌표X', '좌표Y']]\n",
    "\n",
    "        print(\"지오코딩 및 결측치(샘플 10개) 업데이트 완료.\")\n",
    "    else:\n",
    "        print(\"좌표 결측치가 존재하지 않습니다.\")\n",
    "\n",
    "    # 작업 후 남은 결측치 확인\n",
    "    final_missing_count = train_df['좌표X'].isnull().sum()\n",
    "    print(f\"작업 후 '좌표X' 결측치 개수: {final_missing_count}\")\n",
    "\n",
    "    # 결과 저장\n",
    "    #os.makedirs(OUTPUT_DIR, exist_ok=True)\n",
    "    #train_df.to_csv(OUTPUT_PATH, index=False)\n",
    "    print(f\"처리 완료: '{OUTPUT_PATH}'에 저장됨.\")\n",
    "    \n",
    "    # 좌표가 새로 추가된 행만 확인용으로 따로 저장\n",
    "    sample_output_path = os.path.join(OUTPUT_DIR, 'train_geocoded_sample.csv')\n",
    "    train_df_to_geocode.to_csv(sample_output_path, index=False)\n",
    "    print(f\"샘플 결과 저장 완료: '{sample_output_path}'\")\n",
    "\n",
    "\n",
    "\n",
    "elif train_df is None:\n",
    "    print(\"[오류] 데이터가 로드되지 않았습니다. 'train_df'가 None입니다.\")\n",
    "    pass\n",
    "else:\n",
    "    print(\"[오류] .env 파일에 KAKAO_REST_API_KEY가 필요합니다.\")\n"
   ]
  },
  {
   "cell_type": "code",
   "execution_count": null,
   "id": "879ad4b2",
   "metadata": {},
   "outputs": [
    {
     "name": "stdout",
     "output_type": "stream",
     "text": [
      "\n",
      "총 869670개 주소에 대해 지오코딩을 시작합니다...\n"
     ]
    },
    {
     "name": "stderr",
     "output_type": "stream",
     "text": [
      "  0%|          | 197/869670 [00:23<29:23:25,  8.22it/s]\n"
     ]
    },
    {
     "ename": "KeyboardInterrupt",
     "evalue": "",
     "output_type": "error",
     "traceback": [
      "\u001b[0;31m---------------------------------------------------------------------------\u001b[0m",
      "\u001b[0;31mKeyboardInterrupt\u001b[0m                         Traceback (most recent call last)",
      "Cell \u001b[0;32mIn[25], line 23\u001b[0m\n\u001b[1;32m     20\u001b[0m     \u001b[38;5;28;01mreturn\u001b[39;00m get_coordinates_kakao(row[\u001b[38;5;124m'\u001b[39m\u001b[38;5;124mfull_address\u001b[39m\u001b[38;5;124m'\u001b[39m], KAKAO_REST_API_KEY)\n\u001b[1;32m     22\u001b[0m \u001b[38;5;66;03m# 각 행별로 좌표 조회(튜플 반환)\u001b[39;00m\n\u001b[0;32m---> 23\u001b[0m coords \u001b[38;5;241m=\u001b[39m \u001b[43mtrain_df_to_geocode\u001b[49m\u001b[38;5;241;43m.\u001b[39;49m\u001b[43mprogress_apply\u001b[49m\u001b[43m(\u001b[49m\u001b[43mfetch_coord\u001b[49m\u001b[43m,\u001b[49m\u001b[43m \u001b[49m\u001b[43maxis\u001b[49m\u001b[38;5;241;43m=\u001b[39;49m\u001b[38;5;241;43m1\u001b[39;49m\u001b[43m)\u001b[49m\n\u001b[1;32m     25\u001b[0m \u001b[38;5;66;03m# 좌표 튜플을 분리하여 DataFrame에 저장\u001b[39;00m\n\u001b[1;32m     26\u001b[0m train_df_to_geocode[\u001b[38;5;124m'\u001b[39m\u001b[38;5;124m좌표X_new\u001b[39m\u001b[38;5;124m'\u001b[39m] \u001b[38;5;241m=\u001b[39m coords\u001b[38;5;241m.\u001b[39mapply(\u001b[38;5;28;01mlambda\u001b[39;00m x: x[\u001b[38;5;241m0\u001b[39m])\n",
      "File \u001b[0;32m/opt/conda/lib/python3.10/site-packages/tqdm/std.py:920\u001b[0m, in \u001b[0;36mtqdm.pandas.<locals>.inner_generator.<locals>.inner\u001b[0;34m(df, func, *args, **kwargs)\u001b[0m\n\u001b[1;32m    917\u001b[0m \u001b[38;5;66;03m# Apply the provided function (in **kwargs)\u001b[39;00m\n\u001b[1;32m    918\u001b[0m \u001b[38;5;66;03m# on the df using our wrapper (which provides bar updating)\u001b[39;00m\n\u001b[1;32m    919\u001b[0m \u001b[38;5;28;01mtry\u001b[39;00m:\n\u001b[0;32m--> 920\u001b[0m     \u001b[38;5;28;01mreturn\u001b[39;00m \u001b[38;5;28;43mgetattr\u001b[39;49m\u001b[43m(\u001b[49m\u001b[43mdf\u001b[49m\u001b[43m,\u001b[49m\u001b[43m \u001b[49m\u001b[43mdf_function\u001b[49m\u001b[43m)\u001b[49m\u001b[43m(\u001b[49m\u001b[43mwrapper\u001b[49m\u001b[43m,\u001b[49m\u001b[43m \u001b[49m\u001b[38;5;241;43m*\u001b[39;49m\u001b[38;5;241;43m*\u001b[39;49m\u001b[43mkwargs\u001b[49m\u001b[43m)\u001b[49m\n\u001b[1;32m    921\u001b[0m \u001b[38;5;28;01mfinally\u001b[39;00m:\n\u001b[1;32m    922\u001b[0m     t\u001b[38;5;241m.\u001b[39mclose()\n",
      "File \u001b[0;32m/opt/conda/lib/python3.10/site-packages/pandas/core/frame.py:9568\u001b[0m, in \u001b[0;36mDataFrame.apply\u001b[0;34m(self, func, axis, raw, result_type, args, **kwargs)\u001b[0m\n\u001b[1;32m   9557\u001b[0m \u001b[38;5;28;01mfrom\u001b[39;00m \u001b[38;5;21;01mpandas\u001b[39;00m\u001b[38;5;21;01m.\u001b[39;00m\u001b[38;5;21;01mcore\u001b[39;00m\u001b[38;5;21;01m.\u001b[39;00m\u001b[38;5;21;01mapply\u001b[39;00m \u001b[38;5;28;01mimport\u001b[39;00m frame_apply\n\u001b[1;32m   9559\u001b[0m op \u001b[38;5;241m=\u001b[39m frame_apply(\n\u001b[1;32m   9560\u001b[0m     \u001b[38;5;28mself\u001b[39m,\n\u001b[1;32m   9561\u001b[0m     func\u001b[38;5;241m=\u001b[39mfunc,\n\u001b[0;32m   (...)\u001b[0m\n\u001b[1;32m   9566\u001b[0m     kwargs\u001b[38;5;241m=\u001b[39mkwargs,\n\u001b[1;32m   9567\u001b[0m )\n\u001b[0;32m-> 9568\u001b[0m \u001b[38;5;28;01mreturn\u001b[39;00m \u001b[43mop\u001b[49m\u001b[38;5;241;43m.\u001b[39;49m\u001b[43mapply\u001b[49m\u001b[43m(\u001b[49m\u001b[43m)\u001b[49m\u001b[38;5;241m.\u001b[39m__finalize__(\u001b[38;5;28mself\u001b[39m, method\u001b[38;5;241m=\u001b[39m\u001b[38;5;124m\"\u001b[39m\u001b[38;5;124mapply\u001b[39m\u001b[38;5;124m\"\u001b[39m)\n",
      "File \u001b[0;32m/opt/conda/lib/python3.10/site-packages/pandas/core/apply.py:764\u001b[0m, in \u001b[0;36mFrameApply.apply\u001b[0;34m(self)\u001b[0m\n\u001b[1;32m    761\u001b[0m \u001b[38;5;28;01melif\u001b[39;00m \u001b[38;5;28mself\u001b[39m\u001b[38;5;241m.\u001b[39mraw:\n\u001b[1;32m    762\u001b[0m     \u001b[38;5;28;01mreturn\u001b[39;00m \u001b[38;5;28mself\u001b[39m\u001b[38;5;241m.\u001b[39mapply_raw()\n\u001b[0;32m--> 764\u001b[0m \u001b[38;5;28;01mreturn\u001b[39;00m \u001b[38;5;28;43mself\u001b[39;49m\u001b[38;5;241;43m.\u001b[39;49m\u001b[43mapply_standard\u001b[49m\u001b[43m(\u001b[49m\u001b[43m)\u001b[49m\n",
      "File \u001b[0;32m/opt/conda/lib/python3.10/site-packages/pandas/core/apply.py:891\u001b[0m, in \u001b[0;36mFrameApply.apply_standard\u001b[0;34m(self)\u001b[0m\n\u001b[1;32m    890\u001b[0m \u001b[38;5;28;01mdef\u001b[39;00m \u001b[38;5;21mapply_standard\u001b[39m(\u001b[38;5;28mself\u001b[39m):\n\u001b[0;32m--> 891\u001b[0m     results, res_index \u001b[38;5;241m=\u001b[39m \u001b[38;5;28;43mself\u001b[39;49m\u001b[38;5;241;43m.\u001b[39;49m\u001b[43mapply_series_generator\u001b[49m\u001b[43m(\u001b[49m\u001b[43m)\u001b[49m\n\u001b[1;32m    893\u001b[0m     \u001b[38;5;66;03m# wrap results\u001b[39;00m\n\u001b[1;32m    894\u001b[0m     \u001b[38;5;28;01mreturn\u001b[39;00m \u001b[38;5;28mself\u001b[39m\u001b[38;5;241m.\u001b[39mwrap_results(results, res_index)\n",
      "File \u001b[0;32m/opt/conda/lib/python3.10/site-packages/pandas/core/apply.py:907\u001b[0m, in \u001b[0;36mFrameApply.apply_series_generator\u001b[0;34m(self)\u001b[0m\n\u001b[1;32m    904\u001b[0m \u001b[38;5;28;01mwith\u001b[39;00m option_context(\u001b[38;5;124m\"\u001b[39m\u001b[38;5;124mmode.chained_assignment\u001b[39m\u001b[38;5;124m\"\u001b[39m, \u001b[38;5;28;01mNone\u001b[39;00m):\n\u001b[1;32m    905\u001b[0m     \u001b[38;5;28;01mfor\u001b[39;00m i, v \u001b[38;5;129;01min\u001b[39;00m \u001b[38;5;28menumerate\u001b[39m(series_gen):\n\u001b[1;32m    906\u001b[0m         \u001b[38;5;66;03m# ignore SettingWithCopy here in case the user mutates\u001b[39;00m\n\u001b[0;32m--> 907\u001b[0m         results[i] \u001b[38;5;241m=\u001b[39m \u001b[38;5;28;43mself\u001b[39;49m\u001b[38;5;241;43m.\u001b[39;49m\u001b[43mf\u001b[49m\u001b[43m(\u001b[49m\u001b[43mv\u001b[49m\u001b[43m)\u001b[49m\n\u001b[1;32m    908\u001b[0m         \u001b[38;5;28;01mif\u001b[39;00m \u001b[38;5;28misinstance\u001b[39m(results[i], ABCSeries):\n\u001b[1;32m    909\u001b[0m             \u001b[38;5;66;03m# If we have a view on v, we need to make a copy because\u001b[39;00m\n\u001b[1;32m    910\u001b[0m             \u001b[38;5;66;03m#  series_generator will swap out the underlying data\u001b[39;00m\n\u001b[1;32m    911\u001b[0m             results[i] \u001b[38;5;241m=\u001b[39m results[i]\u001b[38;5;241m.\u001b[39mcopy(deep\u001b[38;5;241m=\u001b[39m\u001b[38;5;28;01mFalse\u001b[39;00m)\n",
      "File \u001b[0;32m/opt/conda/lib/python3.10/site-packages/tqdm/std.py:915\u001b[0m, in \u001b[0;36mtqdm.pandas.<locals>.inner_generator.<locals>.inner.<locals>.wrapper\u001b[0;34m(*args, **kwargs)\u001b[0m\n\u001b[1;32m    909\u001b[0m \u001b[38;5;28;01mdef\u001b[39;00m \u001b[38;5;21mwrapper\u001b[39m(\u001b[38;5;241m*\u001b[39margs, \u001b[38;5;241m*\u001b[39m\u001b[38;5;241m*\u001b[39mkwargs):\n\u001b[1;32m    910\u001b[0m     \u001b[38;5;66;03m# update tbar correctly\u001b[39;00m\n\u001b[1;32m    911\u001b[0m     \u001b[38;5;66;03m# it seems `pandas apply` calls `func` twice\u001b[39;00m\n\u001b[1;32m    912\u001b[0m     \u001b[38;5;66;03m# on the first column/row to decide whether it can\u001b[39;00m\n\u001b[1;32m    913\u001b[0m     \u001b[38;5;66;03m# take a fast or slow code path; so stop when t.total==t.n\u001b[39;00m\n\u001b[1;32m    914\u001b[0m     t\u001b[38;5;241m.\u001b[39mupdate(n\u001b[38;5;241m=\u001b[39m\u001b[38;5;241m1\u001b[39m \u001b[38;5;28;01mif\u001b[39;00m \u001b[38;5;129;01mnot\u001b[39;00m t\u001b[38;5;241m.\u001b[39mtotal \u001b[38;5;129;01mor\u001b[39;00m t\u001b[38;5;241m.\u001b[39mn \u001b[38;5;241m<\u001b[39m t\u001b[38;5;241m.\u001b[39mtotal \u001b[38;5;28;01melse\u001b[39;00m \u001b[38;5;241m0\u001b[39m)\n\u001b[0;32m--> 915\u001b[0m     \u001b[38;5;28;01mreturn\u001b[39;00m \u001b[43mfunc\u001b[49m\u001b[43m(\u001b[49m\u001b[38;5;241;43m*\u001b[39;49m\u001b[43margs\u001b[49m\u001b[43m,\u001b[49m\u001b[43m \u001b[49m\u001b[38;5;241;43m*\u001b[39;49m\u001b[38;5;241;43m*\u001b[39;49m\u001b[43mkwargs\u001b[49m\u001b[43m)\u001b[49m\n",
      "Cell \u001b[0;32mIn[25], line 19\u001b[0m, in \u001b[0;36mfetch_coord\u001b[0;34m(row)\u001b[0m\n\u001b[1;32m     18\u001b[0m \u001b[38;5;28;01mdef\u001b[39;00m \u001b[38;5;21mfetch_coord\u001b[39m(row):\n\u001b[0;32m---> 19\u001b[0m     \u001b[43mtime\u001b[49m\u001b[38;5;241;43m.\u001b[39;49m\u001b[43msleep\u001b[49m\u001b[43m(\u001b[49m\u001b[38;5;241;43m0.05\u001b[39;49m\u001b[43m)\u001b[49m  \u001b[38;5;66;03m# 카카오 QPS 10회/초 제한\u001b[39;00m\n\u001b[1;32m     20\u001b[0m     \u001b[38;5;28;01mreturn\u001b[39;00m get_coordinates_kakao(row[\u001b[38;5;124m'\u001b[39m\u001b[38;5;124mfull_address\u001b[39m\u001b[38;5;124m'\u001b[39m], KAKAO_REST_API_KEY)\n",
      "\u001b[0;31mKeyboardInterrupt\u001b[0m: "
     ]
    }
   ],
   "source": [
    "# --- 5. 결측치(좌표) 보간 실행 및 저장 ---\n",
    "\n",
    "if train_df is not None and KAKAO_REST_API_KEY:\n",
    "    # 좌표 결측치 행 전체 추출\n",
    "    train_df_to_geocode = train_df[train_df['좌표X'].isnull()].copy()\n",
    "    \n",
    "    if not train_df_to_geocode.empty:\n",
    "        print(f\"\\n총 {len(train_df_to_geocode)}개 주소에 대해 지오코딩을 시작합니다...\")\n",
    "\n",
    "        # 도로명 결측치 없음 → 시군구 + 도로명 조합\n",
    "        def make_address(row):\n",
    "            return f\"{row['시군구']} {row['도로명']}\"\n",
    "        \n",
    "        train_df_to_geocode['full_address'] = train_df_to_geocode.apply(make_address, axis=1)\n",
    "\n",
    "        # tqdm을 사용하여 진행 상황 표시\n",
    "        def fetch_coord(row):\n",
    "            time.sleep(0.05)  # 카카오 QPS 10회/초 제한\n",
    "            return get_coordinates_kakao(row['full_address'], KAKAO_REST_API_KEY)\n",
    "\n",
    "        # 모든 결측치 행에 대해 좌표 채우기\n",
    "        coords = train_df_to_geocode.progress_apply(fetch_coord, axis=1)\n",
    "        \n",
    "        train_df_to_geocode['좌표X'] = coords.apply(lambda x: x[0])\n",
    "        train_df_to_geocode['좌표Y'] = coords.apply(lambda x: x[1])\n",
    "\n",
    "        # 원본 train_df에 해당 index만 값 덮어쓰기\n",
    "        train_df.loc[train_df_to_geocode.index, ['좌표X', '좌표Y']] = train_df_to_geocode[['좌표X', '좌표Y']]\n",
    "\n",
    "        print(\"지오코딩 및 결측치(전체) 업데이트 완료.\")\n",
    "    else:\n",
    "        print(\"좌표 결측치가 존재하지 않습니다.\")\n",
    "\n",
    "    # 작업 후 남은 결측치 확인\n",
    "    final_missing_count = train_df['좌표X'].isnull().sum()\n",
    "    print(f\"작업 후 '좌표X' 결측치 개수: {final_missing_count}\")\n",
    "\n",
    "    # 결과 저장\n",
    "    os.makedirs(OUTPUT_DIR, exist_ok=True)\n",
    "    train_df.to_csv(OUTPUT_PATH, index=False)\n",
    "    print(f\"처리 완료: '{OUTPUT_PATH}'에 저장됨.\")\n",
    "    \n",
    "    # 좌표가 새로 추가된 행만 확인용으로 따로 저장\n",
    "    sample_output_path = os.path.join(OUTPUT_DIR, 'train_geocoded_all.csv')\n",
    "    train_df_to_geocode.to_csv(sample_output_path, index=False)\n",
    "    print(f\"전체 보간 결과 저장 완료: '{sample_output_path}'\")\n",
    "\n",
    "elif train_df is None:\n",
    "    print(\"[오류] 데이터가 로드되지 않았습니다. 'train_df'가 None입니다.\")\n",
    "    pass\n",
    "else:\n",
    "    print(\"[오류] .env 파일에 KAKAO_REST_API_KEY가 필요합니다.\")"
   ]
  }
 ],
 "metadata": {
  "kernelspec": {
   "display_name": "base",
   "language": "python",
   "name": "python3"
  },
  "language_info": {
   "codemirror_mode": {
    "name": "ipython",
    "version": 3
   },
   "file_extension": ".py",
   "mimetype": "text/x-python",
   "name": "python",
   "nbconvert_exporter": "python",
   "pygments_lexer": "ipython3",
   "version": "3.10.13"
  }
 },
 "nbformat": 4,
 "nbformat_minor": 5
}
