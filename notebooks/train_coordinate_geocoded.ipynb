{
 "cells": [
  {
   "cell_type": "code",
   "execution_count": 4,
   "id": "546729a7",
   "metadata": {},
   "outputs": [
    {
     "name": "stdout",
     "output_type": "stream",
     "text": [
      "Requirement already satisfied: python-dotenv in /home/ieyeppo/.pyenv/versions/3.11.9/envs/house_price_predict_py3_11_9/lib/python3.11/site-packages (1.1.1)\n"
     ]
    }
   ],
   "source": [
    "# --- 1. 라이브러리 설치 및 임포트 ---\n",
    "\n",
    "# .env 파일을 사용하기 위한 라이브러리를 설치합니다.\n",
    "!pip install python-dotenv\n",
    "\n",
    "import pandas as pd\n",
    "import requests\n",
    "import time\n",
    "from tqdm import tqdm\n",
    "import os\n",
    "from dotenv import load_dotenv # .env 파일을 읽기 위한 라이브러리\n",
    "\n",
    "# tqdm 라이브러리와 pandas의 연동을 설정합니다.\n",
    "tqdm.pandas()"
   ]
  },
  {
   "cell_type": "code",
   "execution_count": 6,
   "id": "867866b2",
   "metadata": {},
   "outputs": [
    {
     "name": "stdout",
     "output_type": "stream",
     "text": [
      "KAKAO_REST_API_KEY: f760c2b9b524c0fc455b78fd2a58b773\n"
     ]
    }
   ],
   "source": [
    "# --- 2. .env 파일에서 API 키 로드 ---\n",
    "\n",
    "# .env 파일에 정의된 환경 변수를 현재 세션으로 로드합니다.\n",
    "load_dotenv()\n",
    "\n",
    "# os.getenv() 함수를 사용하여 \"KAKAO_REST_API_KEY\" 라는 이름의 환경 변수 값을 가져옵니다.\n",
    "KAKAO_REST_API_KEY = os.getenv(\"KAKAO_REST_API_KEY\")\n",
    "\n",
    "print(\"KAKAO_REST_API_KEY:\", KAKAO_REST_API_KEY)"
   ]
  },
  {
   "cell_type": "code",
   "execution_count": 10,
   "id": "4b55be0b",
   "metadata": {},
   "outputs": [
    {
     "name": "stdout",
     "output_type": "stream",
     "text": [
      "'../data/raw/train.csv'에서 원본 데이터를 로드합니다...\n",
      "데이터 로드 완료.\n",
      "작업 전 '좌표X'의 결측치 개수: 869670\n"
     ]
    }
   ],
   "source": [
    "# --- 3. 설정 및 데이터 로드 ---\n",
    "\n",
    "# 학습 데이터 파일 경로\n",
    "TRAIN_DATA_PATH = '../data/raw/train.csv'\n",
    "\n",
    "# 출력 파일 경로 설정\n",
    "OUTPUT_DIR = '../data/processed/'\n",
    "OUTPUT_FILENAME = 'train_coordinate_geocoded.csv'\n",
    "OUTPUT_PATH = os.path.join(OUTPUT_DIR, OUTPUT_FILENAME)\n",
    "\n",
    "# 데이터 로드 시작 알림\n",
    "print(f\"'{TRAIN_DATA_PATH}'에서 원본 데이터를 로드합니다...\")\n",
    "\n",
    "try:\n",
    "    # pandas에서 dtype 관련 경고 제거를 위해 low_memory=False 설정\n",
    "    train_df = pd.read_csv(TRAIN_DATA_PATH, low_memory=False)\n",
    "\n",
    "    print(\"데이터 로드 완료.\")\n",
    "\n",
    "    # '좌표X' 컬럼의 결측치 개수 확인\n",
    "    initial_missing_count = train_df['좌표X'].isnull().sum()\n",
    "    print(f\"작업 전 '좌표X'의 결측치 개수: {initial_missing_count}\")\n",
    "\n",
    "except FileNotFoundError:\n",
    "    # 파일이 존재하지 않을 경우 오류 메시지 출력\n",
    "    print(f\"오류: '{TRAIN_DATA_PATH}' 파일을 찾을 수 없습니다.\")\n",
    "    train_df = None\n"
   ]
  },
  {
   "cell_type": "code",
   "execution_count": 11,
   "id": "2e815e2b",
   "metadata": {},
   "outputs": [],
   "source": [
    "# --- 4. 지오코딩 함수 정의 ---\n",
    "\n",
    "def get_coordinates_kakao(address, api_key):\n",
    "    \"\"\"\n",
    "    카카오 API를 활용하여 한글 주소(예: 시군구 + 도로명 주소)를 \n",
    "    경도(lon), 위도(lat) 좌표로 변환하는 함수\n",
    "    \"\"\"\n",
    "    url = \"https://dapi.kakao.com/v2/local/search/address.json\"  # 카카오 주소 검색 API 엔드포인트\n",
    "    headers = {\"Authorization\": f\"KakaoAK {api_key}\"}  # API 인증 키 설정\n",
    "    params = {\"query\": address}  # 요청할 주소(query) 파라미터 설정\n",
    "\n",
    "    try:\n",
    "        # API 요청 (3초 타임아웃 설정)\n",
    "        response = requests.get(url, headers=headers, params=params, timeout=3)\n",
    "\n",
    "        # HTTP 오류가 있는 경우 예외 발생\n",
    "        response.raise_for_status()\n",
    "\n",
    "        # JSON 응답 파싱\n",
    "        data = response.json()\n",
    "\n",
    "        # 결과가 존재할 경우 첫 번째 결과에서 좌표 추출\n",
    "        if data['documents']:\n",
    "            lon = float(data['documents'][0]['x'])  # 경도\n",
    "            lat = float(data['documents'][0]['y'])  # 위도\n",
    "            return lon, lat\n",
    "        else:\n",
    "            # 주소를 찾지 못한 경우 None 반환\n",
    "            return None, None\n",
    "\n",
    "    except Exception as e:\n",
    "        # API 호출 중 예외 발생 시 로그 출력 및 None 반환\n",
    "        print(f\"[API오류] 주소 변환 중 에러: {e} (address: {address})\")\n",
    "        return None, None\n"
   ]
  },
  {
   "cell_type": "code",
   "execution_count": 24,
   "id": "cb19b83c",
   "metadata": {},
   "outputs": [
    {
     "name": "stdout",
     "output_type": "stream",
     "text": [
      "테스트 주소: 서울특별시 강남구 개포동 삼성로 14\n",
      "조회 결과 좌표X(경도): 127.068451024326\n",
      "조회 결과 좌표Y(위도): 37.4861548149371\n"
     ]
    }
   ],
   "source": [
    "# --- 4-1. 테스트용 샘플 1건 선택 ---\n",
    "\n",
    "# 좌표 결측치 중 첫 번째 행 선택\n",
    "test_row = train_df[train_df['좌표X'].isnull()].iloc[0]\n",
    "\n",
    "# --- 4-2. 주소 조합 (도로명+시군구+번지 우선) ---\n",
    "def make_address(row):\n",
    "    return f\"{row['시군구']} {row['도로명']}\"\n",
    "\n",
    "address = make_address(test_row)\n",
    "print(\"테스트 주소:\", address)\n",
    "\n",
    "# --- 4-3. 지오코딩 함수로 좌표 조회 ---\n",
    "lon, lat = get_coordinates_kakao(address, KAKAO_REST_API_KEY)\n",
    "print(\"조회 결과 좌표X(경도):\", lon)\n",
    "print(\"조회 결과 좌표Y(위도):\", lat)"
   ]
  },
  {
   "cell_type": "code",
   "execution_count": 12,
   "id": "bf29272d",
   "metadata": {},
   "outputs": [
    {
     "name": "stdout",
     "output_type": "stream",
     "text": [
      "\n",
      "총 10개 주소(샘플)에 대해 지오코딩을 시작합니다...\n"
     ]
    },
    {
     "name": "stderr",
     "output_type": "stream",
     "text": [
      "100%|██████████| 10/10 [00:01<00:00,  8.15it/s]"
     ]
    },
    {
     "name": "stdout",
     "output_type": "stream",
     "text": [
      "지오코딩 및 결측치(샘플 10개) 업데이트 완료.\n",
      "작업 후 '좌표X' 결측치 개수: 869660\n",
      "처리 완료: '../data/processed/train_coordinate_geocoded.csv'에 저장됨.\n",
      "샘플 결과 저장 완료: '../data/processed/train_geocoded_sample.csv'\n"
     ]
    },
    {
     "name": "stderr",
     "output_type": "stream",
     "text": [
      "\n"
     ]
    }
   ],
   "source": [
    "# --- 4.4 테스트용 상위 10개 결측치(좌표) 보간 실행 및 저장 ---\n",
    "\n",
    "# 데이터프레임이 정상 로드되고, API 키가 있는 경우에만 실행\n",
    "if train_df is not None and KAKAO_REST_API_KEY:\n",
    "    \n",
    "    # '좌표X'가 결측인 행만 추출 (API 호출 비용 절감 목적)\n",
    "    train_df_to_geocode = train_df[train_df['좌표X'].isnull()].copy()\n",
    "    \n",
    "    # 상위 10개 샘플만 테스트 대상으로 지정\n",
    "    test_sample_n = 10\n",
    "    if not train_df_to_geocode.empty:\n",
    "        train_df_to_geocode = train_df_to_geocode.iloc[:test_sample_n]\n",
    "        print(f\"\\n총 {len(train_df_to_geocode)}개 주소(샘플)에 대해 지오코딩을 시작합니다...\")\n",
    "\n",
    "        # 도로명 주소 기준으로 full address 생성 (시군구 + 도로명 조합)\n",
    "        def make_address(row):\n",
    "            return f\"{row['시군구']} {row['도로명']}\"\n",
    "        \n",
    "        train_df_to_geocode['full_address'] = train_df_to_geocode.apply(make_address, axis=1)\n",
    "\n",
    "        # 카카오 API QPS 제한(초당 10회)으로 인해 약간의 대기 시간 설정\n",
    "        def fetch_coord(row):\n",
    "            time.sleep(0.05)  # 0.05초 sleep → 초당 20건 제한 이내\n",
    "            return get_coordinates_kakao(row['full_address'], KAKAO_REST_API_KEY)\n",
    "\n",
    "        # 각 행에 대해 좌표 조회 (tqdm을 사용해 진행률 표시)\n",
    "        coords = train_df_to_geocode.progress_apply(fetch_coord, axis=1)\n",
    "        \n",
    "        # 반환된 좌표 튜플에서 각각 X, Y 컬럼에 나눠 저장\n",
    "        train_df_to_geocode['좌표X'] = coords.apply(lambda x: x[0])\n",
    "        train_df_to_geocode['좌표Y'] = coords.apply(lambda x: x[1])\n",
    "\n",
    "        # 원본 train_df에 해당 인덱스의 좌표X, Y만 업데이트\n",
    "        train_df.loc[train_df_to_geocode.index, ['좌표X', '좌표Y']] = train_df_to_geocode[['좌표X', '좌표Y']]\n",
    "\n",
    "        print(\"지오코딩 및 결측치(샘플 10개) 업데이트 완료.\")\n",
    "    \n",
    "    else:\n",
    "        print(\"좌표 결측치가 존재하지 않습니다.\")\n",
    "\n",
    "    # 작업 이후 남아 있는 좌표X의 결측치 개수 확인\n",
    "    final_missing_count = train_df['좌표X'].isnull().sum()\n",
    "    print(f\"작업 후 '좌표X' 결측치 개수: {final_missing_count}\")\n",
    "\n",
    "    # 결과 CSV 저장 (전체는 주석 처리되어 있음)\n",
    "    # os.makedirs(OUTPUT_DIR, exist_ok=True)\n",
    "    # train_df.to_csv(OUTPUT_PATH, index=False)\n",
    "    print(f\"처리 완료: '{OUTPUT_PATH}'에 저장됨.\")\n",
    "    \n",
    "    # 테스트로 좌표가 보간된 샘플 10개만 따로 저장\n",
    "    sample_output_path = os.path.join(OUTPUT_DIR, 'train_geocoded_sample.csv')\n",
    "    train_df_to_geocode.to_csv(sample_output_path, index=False)\n",
    "    print(f\"샘플 결과 저장 완료: '{sample_output_path}'\")\n",
    "\n",
    "# 데이터프레임이 None인 경우 오류 출력\n",
    "elif train_df is None:\n",
    "    print(\"[오류] 데이터가 로드되지 않았습니다. 'train_df'가 None입니다.\")\n",
    "    pass\n",
    "\n",
    "# API 키가 존재하지 않는 경우 오류 출력\n",
    "else:\n",
    "    print(\"[오류] .env 파일에 KAKAO_REST_API_KEY가 필요합니다.\")"
   ]
  },
  {
   "cell_type": "code",
   "execution_count": null,
   "id": "879ad4b2",
   "metadata": {},
   "outputs": [],
   "source": [
    "# --- 5. 결측치(좌표) 보간 실행 및 저장 ---\n",
    "\n",
    "if train_df is not None and KAKAO_REST_API_KEY:\n",
    "    # 좌표 결측치 행 전체 추출\n",
    "    train_df_to_geocode = train_df[train_df['좌표X'].isnull()].copy()\n",
    "    \n",
    "    if not train_df_to_geocode.empty:\n",
    "        print(f\"\\n총 {len(train_df_to_geocode)}개 주소에 대해 지오코딩을 시작합니다...\")\n",
    "\n",
    "        # 도로명 결측치 없음 → 시군구 + 도로명 조합\n",
    "        def make_address(row):\n",
    "            return f\"{row['시군구']} {row['도로명']}\"\n",
    "        \n",
    "        train_df_to_geocode['full_address'] = train_df_to_geocode.apply(make_address, axis=1)\n",
    "\n",
    "        # tqdm을 사용하여 진행 상황 표시\n",
    "        def fetch_coord(row):\n",
    "            time.sleep(0.05)  # 카카오 QPS 10회/초 제한\n",
    "            return get_coordinates_kakao(row['full_address'], KAKAO_REST_API_KEY)\n",
    "\n",
    "        # 모든 결측치 행에 대해 좌표 채우기\n",
    "        coords = train_df_to_geocode.progress_apply(fetch_coord, axis=1)\n",
    "        \n",
    "        train_df_to_geocode['좌표X'] = coords.apply(lambda x: x[0])\n",
    "        train_df_to_geocode['좌표Y'] = coords.apply(lambda x: x[1])\n",
    "\n",
    "        # 원본 train_df에 해당 index만 값 덮어쓰기\n",
    "        train_df.loc[train_df_to_geocode.index, ['좌표X', '좌표Y']] = train_df_to_geocode[['좌표X', '좌표Y']]\n",
    "\n",
    "        print(\"지오코딩 및 결측치(전체) 업데이트 완료.\")\n",
    "    else:\n",
    "        print(\"좌표 결측치가 존재하지 않습니다.\")\n",
    "\n",
    "    # 작업 후 남은 결측치 확인\n",
    "    final_missing_count = train_df['좌표X'].isnull().sum()\n",
    "    print(f\"작업 후 '좌표X' 결측치 개수: {final_missing_count}\")\n",
    "\n",
    "    # 결과 저장\n",
    "    os.makedirs(OUTPUT_DIR, exist_ok=True)\n",
    "    train_df.to_csv(OUTPUT_PATH, index=False)\n",
    "    print(f\"처리 완료: '{OUTPUT_PATH}'에 저장됨.\")\n",
    "    \n",
    "    # 좌표가 새로 추가된 행만 확인용으로 따로 저장\n",
    "    sample_output_path = os.path.join(OUTPUT_DIR, 'train_geocoded_all.csv')\n",
    "    train_df_to_geocode.to_csv(sample_output_path, index=False)\n",
    "    print(f\"전체 보간 결과 저장 완료: '{sample_output_path}'\")\n",
    "\n",
    "elif train_df is None:\n",
    "    print(\"[오류] 데이터가 로드되지 않았습니다. 'train_df'가 None입니다.\")\n",
    "    pass\n",
    "else:\n",
    "    print(\"[오류] .env 파일에 KAKAO_REST_API_KEY가 필요합니다.\")"
   ]
  }
 ],
 "metadata": {
  "kernelspec": {
   "display_name": "house_price_predict_py3_11_9",
   "language": "python",
   "name": "python3"
  },
  "language_info": {
   "codemirror_mode": {
    "name": "ipython",
    "version": 3
   },
   "file_extension": ".py",
   "mimetype": "text/x-python",
   "name": "python",
   "nbconvert_exporter": "python",
   "pygments_lexer": "ipython3",
   "version": "3.11.9"
  }
 },
 "nbformat": 4,
 "nbformat_minor": 5
}
