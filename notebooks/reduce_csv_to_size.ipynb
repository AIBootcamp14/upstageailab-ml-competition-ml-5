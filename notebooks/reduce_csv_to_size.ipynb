{
 "cells": [
  {
   "cell_type": "code",
   "execution_count": null,
   "id": "209903dc",
   "metadata": {},
   "outputs": [
    {
     "name": "stdout",
     "output_type": "stream",
     "text": [
      "✅ 저장 완료: ../data/train_test.csv (25.0MB)\n"
     ]
    }
   ],
   "source": [
    "import os\n",
    "\n",
    "def reduce_csv_to_size(input_path, output_path, max_size_mb=24):\n",
    "    max_bytes = max_size_mb * 1024 * 1024  # 24MB = 25,165,824 Bytes\n",
    "    total_size = 0\n",
    "    selected_lines = []\n",
    "\n",
    "    with open(input_path, 'r', encoding='utf-8') as f:\n",
    "        header = f.readline()\n",
    "        total_size += len(header.encode('utf-8'))\n",
    "        selected_lines.append(header)\n",
    "\n",
    "        for line in f:\n",
    "            encoded = line.encode('utf-8')\n",
    "            if total_size + len(encoded) > max_bytes:\n",
    "                break\n",
    "            selected_lines.append(line)\n",
    "            total_size += len(encoded)\n",
    "\n",
    "    with open(output_path, 'w', encoding='utf-8') as out:\n",
    "        out.writelines(selected_lines)\n",
    "\n",
    "    print(f\"✅ 저장 완료: {output_path} ({round(total_size / (1024*1024), 2)}MB)\")\n",
    "\n",
    "# 실행\n",
    "reduce_csv_to_size('../data/train.csv', '../data/train_test.csv', max_size_mb=24)\n"
   ]
  }
 ],
 "metadata": {
  "kernelspec": {
   "display_name": "base",
   "language": "python",
   "name": "python3"
  },
  "language_info": {
   "codemirror_mode": {
    "name": "ipython",
    "version": 3
   },
   "file_extension": ".py",
   "mimetype": "text/x-python",
   "name": "python",
   "nbconvert_exporter": "python",
   "pygments_lexer": "ipython3",
   "version": "3.10.13"
  }
 },
 "nbformat": 4,
 "nbformat_minor": 5
}
