{
 "cells": [
  {
   "cell_type": "code",
   "execution_count": 3,
   "id": "7ef0e9a2",
   "metadata": {},
   "outputs": [],
   "source": [
    "import pandas as pd\n",
    "import os\n",
    "from datetime import datetime"
   ]
  },
  {
   "cell_type": "code",
   "execution_count": null,
   "id": "160d2e25",
   "metadata": {},
   "outputs": [
    {
     "name": "stdout",
     "output_type": "stream",
     "text": [
      "데이터 로드 완료.\n"
     ]
    }
   ],
   "source": [
    "# 파일 경로 설정\n",
<<<<<<< HEAD
    "LOAD_FILE_PATH = \"../../data/processed/cleaned_data/train_clean.csv\"\n",
    "SAVE_FILE_PATH = \"../../data/processed/cleaned_data/train_clean_small_size.csv\"\n",
=======
    "LOAD_FILE_PATH = \"../../data/raw/train.csv\"\n",
    "SAVE_FILE_PATH = \"../../data/processed/train_small_size.csv\"\n",
>>>>>>> aabb52f7f46a15aeafec2a35a79392fb457251b6
    "\n",
    "try:\n",
    "    # 원본 CSV 파일을 pandas로 읽어옴\n",
    "    train_df = pd.read_csv(LOAD_FILE_PATH, low_memory=False)\n",
    "    print(\"데이터 로드 완료.\")\n",
    "except FileNotFoundError:\n",
    "    # 파일이 존재하지 않을 경우 예외 처리\n",
    "    print(f\"오류: 'except FileNotFoundError:' / '{LOAD_FILE_PATH}' 파일을 찾을 수 없습니다.\")\n",
    "    train_df = None"
   ]
  },
  {
   "cell_type": "code",
   "execution_count": 7,
   "id": "209903dc",
   "metadata": {},
   "outputs": [],
   "source": [
    "# 최대 파일 크기 (MB 단위)\n",
    "MAX_FILE_SIZE_MB = 1\n",
    "\n",
    "# CSV 파일을 지정된 크기로 줄이는 함수\n",
    "def reduce_csv_to_size(input_path, output_path, max_size_mb=MAX_FILE_SIZE_MB):\n",
    "    # 최대 허용 용량(바이트) 계산: 99MB = 99 * 1024 * 1024 Bytes\n",
    "    max_bytes = max_size_mb * 1024 * 1024\n",
    "\n",
    "    total_size = 0          # 현재까지 저장할 데이터의 총 바이트 수\n",
    "    selected_lines = []     # 최종적으로 저장할 행들을 담을 리스트\n",
    "\n",
    "    # 원본 CSV 파일을 읽기 모드로 열기\n",
    "    with open(input_path, 'r', encoding='utf-8') as f:\n",
    "        header = f.readline()                       # 첫 줄(헤더) 읽기\n",
    "        total_size += len(header.encode('utf-8'))   # 헤더의 바이트 수 추가\n",
    "        selected_lines.append(header)               # 헤더는 항상 포함\n",
    "\n",
    "        # 각 데이터 행을 한 줄씩 읽으면서 용량 초과 여부 확인\n",
    "        for line in f:\n",
    "            encoded = line.encode('utf-8')          # 현재 줄을 바이트로 인코딩\n",
    "            \n",
    "            # 누적 크기가 초과되면 중단\n",
    "            if total_size + len(encoded) > max_bytes:\n",
    "                break         \n",
    "            \n",
    "            # 용량 제한을 초과하지 않으면 행 추가                      \n",
    "            selected_lines.append(line)             # 행 추가\n",
    "            total_size += len(encoded)              # 크기 누적\n",
    "\n",
    "    # 용량 제한을 만족하는 행들만 새로운 CSV로 저장\n",
    "    with open(output_path, 'w', encoding='utf-8') as out:\n",
    "        out.writelines(selected_lines)\n",
    "\n",
    "    # 완료 메시지 출력\n",
    "    print(f\"✅ 저장 완료: {output_path} ({round(total_size / (1024*1024), 2)}MB)\")"
   ]
  },
  {
   "cell_type": "code",
   "execution_count": 9,
   "id": "54e2fbd9",
   "metadata": {},
   "outputs": [
    {
     "name": "stdout",
     "output_type": "stream",
     "text": [
      "✅ 저장 완료: ../../data/processed/train_small_size.csv (1.0MB)\n"
     ]
    }
   ],
   "source": [
    "# 함수 실행: 원본 train.csv → MAX_FILE_SIZE MB 이하로 줄여서 train_test.csv로_\n",
    "reduce_csv_to_size(LOAD_FILE_PATH, SAVE_FILE_PATH)"
   ]
  }
 ],
 "metadata": {
  "kernelspec": {
   "display_name": "house_price_predict_py3_11_9",
   "language": "python",
   "name": "python3"
  },
  "language_info": {
   "codemirror_mode": {
    "name": "ipython",
    "version": 3
   },
   "file_extension": ".py",
   "mimetype": "text/x-python",
   "name": "python",
   "nbconvert_exporter": "python",
   "pygments_lexer": "ipython3",
   "version": "3.11.9"
  }
 },
 "nbformat": 4,
 "nbformat_minor": 5
}
