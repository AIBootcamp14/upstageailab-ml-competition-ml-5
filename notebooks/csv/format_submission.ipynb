{
 "cells": [
  {
   "cell_type": "code",
   "execution_count": null,
   "id": "d76b2aac",
   "metadata": {},
   "outputs": [
    {
     "name": "stdout",
     "output_type": "stream",
     "text": [
      "파일이 성공적으로 ../../data/processed/submissions/sample_submission.csv에 저장되었습니다.\n",
      "\n",
      "저장된 파일의 내용:\n",
      "   target\n",
      "0  216063\n",
      "1  320774\n",
      "2  322663\n",
      "3  287303\n",
      "4  235285\n"
     ]
    }
   ],
   "source": [
    "import pandas as pd\n",
    "import os\n",
    "\n",
    "# CSV 파일 불러오기\n",
    "FILE_DIR = '../../data/processed/submissions/'\n",
    "INPUT_FILENAME = 'price_prediction_submission.csv'\n",
    "INPUT_PATH = os.path.join(FILE_DIR, INPUT_FILENAME)\n",
    "OUTPUT_FILENAME = 'sample_submission.csv'\n",
    "OUTPUT_PATH = os.path.join(FILE_DIR, OUTPUT_FILENAME)\n",
    "os.makedirs(FILE_DIR, exist_ok=True)\n",
    "\n",
    "df = pd.read_csv(INPUT_PATH)\n",
    "\n",
    "# 'target' 컬럼을 정수(int)형으로 변환\n",
    "df['target'] = df['target'].astype(int)\n",
    "\n",
    "# 저장할 경로와 파일 이름 설정\n",
    "output_dir = '../../data/processed/submissions/'\n",
    "output_filename = 'sample_submission.csv'\n",
    "output_path = os.path.join(output_dir, output_filename)\n",
    "\n",
    "# 경로가 존재하지 않으면 생성\n",
    "os.makedirs(output_dir, exist_ok=True)\n",
    "\n",
    "# 변환된 데이터프레임을 새로운 CSV 파일로 저장 (인덱스는 저장하지 않음)\n",
    "df.to_csv(output_path, index=False)\n",
    "\n",
    "print(f\"파일이 성공적으로 {output_path}에 저장되었습니다.\")\n",
    "\n",
    "# 저장된 파일 확인 (첫 5줄)\n",
    "print(\"\\n저장된 파일의 내용:\")\n",
    "saved_df = pd.read_csv(output_path)\n",
    "print(saved_df.head())"
   ]
  }
 ],
 "metadata": {
  "kernelspec": {
   "display_name": "house_price_predict_py3_11_9",
   "language": "python",
   "name": "python3"
  },
  "language_info": {
   "codemirror_mode": {
    "name": "ipython",
    "version": 3
   },
   "file_extension": ".py",
   "mimetype": "text/x-python",
   "name": "python",
   "nbconvert_exporter": "python",
   "pygments_lexer": "ipython3",
   "version": "3.11.9"
  }
 },
 "nbformat": 4,
 "nbformat_minor": 5
}
