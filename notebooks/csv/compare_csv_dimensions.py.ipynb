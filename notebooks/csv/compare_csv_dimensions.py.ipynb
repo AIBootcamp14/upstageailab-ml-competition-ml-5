{
 "cells": [
  {
   "cell_type": "code",
   "execution_count": 3,
   "id": "242cf8ad",
   "metadata": {},
   "outputs": [
    {
     "name": "stdout",
     "output_type": "stream",
     "text": [
      "../../data/raw/test.csv의 차원: 9256행, 51열\n",
      "../../data/processed/transportation-features/train_transportation_test_features.csv의 차원: 9256행, 9열\n",
      "❌ 행 개수는 동일하지만, 열 개수는 다릅니다.\n"
     ]
    }
   ],
   "source": [
    "import pandas as pd\n",
    "\n",
    "DF1_FILE_PATH = '../../data/raw/test.csv'\n",
    "DF2_FILE_PATH = '../../data/processed/transportation-features/train_transportation_test_features.csv'\n",
    "\n",
    "try:\n",
    "    # CSV 파일들을 데이터프레임으로 읽어옵니다.\n",
    "    df1 = pd.read_csv(DF1_FILE_PATH)\n",
    "    df2 = pd.read_csv(DF2_FILE_PATH)\n",
    "\n",
    "    # 각 데이터프레임의 형태(shape)를 구합니다. (행, 열)\n",
    "    rows1, cols1 = df1.shape\n",
    "    rows2, cols2 = df2.shape\n",
    "\n",
    "    # 각 파일의 행과 열 개수를 출력합니다.\n",
    "    print(f\"{DF1_FILE_PATH}의 차원: {rows1}행, {cols1}열\")\n",
    "    print(f\"{DF2_FILE_PATH}의 차원: {rows2}행, {cols2}열\")\n",
    "\n",
    "    # 행과 열 개수를 비교하여 결과를 출력합니다.\n",
    "    if (rows1 == rows2) and (cols1 == cols2):\n",
    "        print(\"✅ 두 파일의 행 개수와 열 개수가 모두 동일합니다.\")\n",
    "    elif rows1 == rows2:\n",
    "        print(\"❌ 행 개수는 동일하지만, 열 개수는 다릅니다.\")\n",
    "    elif cols1 == cols2:\n",
    "        print(\"❌ 열 개수는 동일하지만, 행 개수는 다릅니다.\")\n",
    "    else:\n",
    "        print(\"❌ 두 파일의 행 개수와 열 개수가 모두 다릅니다.\")\n",
    "\n",
    "except FileNotFoundError:\n",
    "    print(\"오류: 파일 경로를 확인해주세요. 지정된 경로에 파일이 없습니다.\")\n",
    "except Exception as e:\n",
    "    print(f\"오류가 발생했습니다: {e}\")"
   ]
  }
 ],
 "metadata": {
  "kernelspec": {
   "display_name": "house_price_predict_py3_11_9",
   "language": "python",
   "name": "python3"
  },
  "language_info": {
   "codemirror_mode": {
    "name": "ipython",
    "version": 3
   },
   "file_extension": ".py",
   "mimetype": "text/x-python",
   "name": "python",
   "nbconvert_exporter": "python",
   "pygments_lexer": "ipython3",
   "version": "3.11.9"
  }
 },
 "nbformat": 4,
 "nbformat_minor": 5
}
