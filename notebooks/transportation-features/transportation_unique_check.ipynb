{
 "cells": [
  {
   "cell_type": "code",
   "execution_count": null,
   "id": "6317233e",
   "metadata": {},
   "outputs": [
    {
     "name": "stdout",
     "output_type": "stream",
     "text": [
      "unique_check_df 저장 완료: ../../data/processed/price-prediction-transport/train_unique_check.csv\n"
     ]
    }
   ],
   "source": [
    "# 1: 라이브러리 불러오기\n",
    "import pandas as pd\n",
    "import os\n",
    "\n",
    "# 2: 병합된 데이터 로드\n",
    "# 이전에 생성된 transportation.csv 파일을 불러옵니다.\n",
    "df = pd.read_csv('../../data/processed/transportation-features/train_transportation.csv')\n",
    "\n",
    "# 3: 그룹화에 사용할 키와 비교할 feature 칼럼 정의\n",
    "key_cols = ['시군구', '도로명', '번지', '아파트명']\n",
    "feature_cols = [\n",
    "    '좌표X', '좌표Y',\n",
    "    '지하철최단거리', '반경_1km_지하철역_수', '반경_500m_지하철역_수', '반경_300m_지하철역_수',\n",
    "    '버스최단거리', '반경_1km_버스정류장_수', '반경_500m_버스정류장_수', '반경_300m_버스정류장_수'\n",
    "]\n",
    "\n",
    "# 4: 중복 그룹별로 행 수와 동일 여부 확인\n",
    "records = []\n",
    "for keys, group in df.groupby(key_cols):\n",
    "    count = len(group)\n",
    "    if count > 1:\n",
    "        # 모든 feature 칼럼이 그룹 내에서 유일값 개수가 1이라면 True\n",
    "        identical = all(group[col].nunique() == 1 for col in feature_cols)\n",
    "        rec = dict(zip(key_cols, keys))\n",
    "        rec['중복_행_수'] = count\n",
    "        rec['교통_데이터_동일여부'] = identical\n",
    "        records.append(rec)\n",
    "\n",
    "unique_check_df = pd.DataFrame(records)\n",
    "\n",
    "# 5: 결과 저장 디렉토리 생성\n",
    "output_dir = '../../data/processed/price-prediction'\n",
    "os.makedirs(output_dir, exist_ok=True)\n",
    "\n",
    "# 6: CSV로 저장\n",
    "output_path = os.path.join(output_dir, 'train_unique_check.csv')\n",
    "unique_check_df.to_csv(output_path, index=False)\n",
    "\n",
    "print(f\"unique_check_df 저장 완료: {output_path}\")\n"
   ]
  },
  {
   "cell_type": "code",
   "execution_count": null,
   "id": "fed4c3eb",
   "metadata": {},
   "outputs": [
    {
     "name": "stdout",
     "output_type": "stream",
     "text": [
      "Empty DataFrame\n",
      "Columns: [시군구, 도로명, 번지, 아파트명, 중복_행_수, 교통_데이터_동일여부]\n",
      "Index: []\n"
     ]
    }
   ],
   "source": [
    "# unique_check.csv 불러오기\n",
    "path = '../../data/processed/price-prediction/train_unique_check.csv'\n",
    "unique_df = pd.read_csv(path)\n",
    "\n",
    "# 교통_데이터_동일여부가 False인 행만 필터링\n",
    "false_rows = unique_df[unique_df['교통_데이터_동일여부'] == False]\n",
    "\n",
    "# 출력\n",
    "print(false_rows)"
   ]
  }
 ],
 "metadata": {
  "kernelspec": {
   "display_name": "house_price_predict_py3_11_9",
   "language": "python",
   "name": "python3"
  },
  "language_info": {
   "codemirror_mode": {
    "name": "ipython",
    "version": 3
   },
   "file_extension": ".py",
   "mimetype": "text/x-python",
   "name": "python",
   "nbconvert_exporter": "python",
   "pygments_lexer": "ipython3",
   "version": "3.11.9"
  }
 },
 "nbformat": 4,
 "nbformat_minor": 5
}
